{
 "cells": [
  {
   "cell_type": "code",
   "execution_count": 1,
   "metadata": {
    "collapsed": false
   },
   "outputs": [],
   "source": [
    "import os\n",
    "import pandas as pd \n",
    "from ReviewSentence import ReviewSentence"
   ]
  },
  {
   "cell_type": "code",
   "execution_count": 2,
   "metadata": {
    "collapsed": false
   },
   "outputs": [
    {
     "name": "stdout",
     "output_type": "stream",
     "text": [
      "Processing raw/five/Creative Labs Nomad Jukebox Zen Xtra 40GB.txt..\n",
      "Processing raw/five/Apex AD2600 Progressive-scan DVD player.txt..\n",
      "Processing raw/five/Nikon coolpix 4300.txt..\n",
      "Processing raw/five/Nokia 6610.txt..\n",
      "Processing raw/five/Canon G3.txt..\n",
      "Processing raw/three/Speaker.xml..\n",
      "Processing raw/three/Router.xml..\n",
      "Processing raw/three/Router.txt..\n",
      "Processing raw/three/Speaker.txt..\n",
      "Processing raw/three/Computer.xml..\n",
      "Processing raw/three/Computer.txt..\n",
      "# of duplicates: 49\n"
     ]
    }
   ],
   "source": [
    "dfs = []\n",
    "versions = ['five', 'three']\n",
    "for version in versions:\n",
    "    source_dir = os.path.join('raw', version)\n",
    "    for filename in os.listdir(source_dir):\n",
    "        if filename == \"Readme.txt\":\n",
    "            continue\n",
    "\n",
    "        rows = []\n",
    "        filepath = os.path.join(source_dir, filename)\n",
    "        print(\"Processing %s..\" % filepath)\n",
    "\n",
    "        with open(filepath, encoding=\"utf-8\") as lines:\n",
    "            for ln in lines:\n",
    "                line = ln.strip().replace(\"\\t\", \" \")\n",
    "                r = ReviewSentence.parse(line)\n",
    "                if r is not None:\n",
    "                    if r.sentence_type == 'review':\n",
    "                        rows.append(r.to_row())\n",
    "        df = pd.DataFrame.from_records(rows, columns=(\"content\", \"target\"))\n",
    "        df['filename'] = '-'.join([version, filename.replace('.txt', '')])\n",
    "        dfs.append(df)\n",
    "concat_df = pd.concat(dfs, ignore_index=True)\n",
    "\n",
    "before_ = len(concat_df)\n",
    "concat_df = concat_df.drop_duplicates(subset=['content'])\n",
    "print('# of duplicates:', before_ - len(concat_df))"
   ]
  },
  {
   "cell_type": "code",
   "execution_count": 3,
   "metadata": {
    "collapsed": false
   },
   "outputs": [
    {
     "data": {
      "text/html": [
       "<div>\n",
       "<style scoped>\n",
       "    .dataframe tbody tr th:only-of-type {\n",
       "        vertical-align: middle;\n",
       "    }\n",
       "\n",
       "    .dataframe tbody tr th {\n",
       "        vertical-align: top;\n",
       "    }\n",
       "\n",
       "    .dataframe thead th {\n",
       "        text-align: right;\n",
       "    }\n",
       "</style>\n",
       "<table border=\"1\" class=\"dataframe\">\n",
       "  <thead>\n",
       "    <tr style=\"text-align: right;\">\n",
       "      <th></th>\n",
       "      <th>content</th>\n",
       "      <th>target</th>\n",
       "      <th>filename</th>\n",
       "    </tr>\n",
       "  </thead>\n",
       "  <tbody>\n",
       "    <tr>\n",
       "      <th>0</th>\n",
       "      <td>this is an edited review , now that i have had...</td>\n",
       "      <td>[]</td>\n",
       "      <td>five-Creative Labs Nomad Jukebox Zen Xtra 40GB</td>\n",
       "    </tr>\n",
       "    <tr>\n",
       "      <th>1</th>\n",
       "      <td>while , there are flaws with the machine , the...</td>\n",
       "      <td>[affordability]</td>\n",
       "      <td>five-Creative Labs Nomad Jukebox Zen Xtra 40GB</td>\n",
       "    </tr>\n",
       "    <tr>\n",
       "      <th>2</th>\n",
       "      <td>it is the most bang-for-the-buck out there .</td>\n",
       "      <td>[bang-for-the-buck]</td>\n",
       "      <td>five-Creative Labs Nomad Jukebox Zen Xtra 40GB</td>\n",
       "    </tr>\n",
       "    <tr>\n",
       "      <th>3</th>\n",
       "      <td>like it 's predecessor , the quickly revised n...</td>\n",
       "      <td>[size, weight, navigational system, sound]</td>\n",
       "      <td>five-Creative Labs Nomad Jukebox Zen Xtra 40GB</td>\n",
       "    </tr>\n",
       "    <tr>\n",
       "      <th>4</th>\n",
       "      <td>the xtra improves upon the zen nx with a large...</td>\n",
       "      <td>[screen]</td>\n",
       "      <td>five-Creative Labs Nomad Jukebox Zen Xtra 40GB</td>\n",
       "    </tr>\n",
       "  </tbody>\n",
       "</table>\n",
       "</div>"
      ],
      "text/plain": [
       "                                             content  \\\n",
       "0  this is an edited review , now that i have had...   \n",
       "1  while , there are flaws with the machine , the...   \n",
       "2       it is the most bang-for-the-buck out there .   \n",
       "3  like it 's predecessor , the quickly revised n...   \n",
       "4  the xtra improves upon the zen nx with a large...   \n",
       "\n",
       "                                       target  \\\n",
       "0                                          []   \n",
       "1                             [affordability]   \n",
       "2                         [bang-for-the-buck]   \n",
       "3  [size, weight, navigational system, sound]   \n",
       "4                                    [screen]   \n",
       "\n",
       "                                         filename  \n",
       "0  five-Creative Labs Nomad Jukebox Zen Xtra 40GB  \n",
       "1  five-Creative Labs Nomad Jukebox Zen Xtra 40GB  \n",
       "2  five-Creative Labs Nomad Jukebox Zen Xtra 40GB  \n",
       "3  five-Creative Labs Nomad Jukebox Zen Xtra 40GB  \n",
       "4  five-Creative Labs Nomad Jukebox Zen Xtra 40GB  "
      ]
     },
     "execution_count": 3,
     "metadata": {},
     "output_type": "execute_result"
    }
   ],
   "source": [
    "concat_df.head()"
   ]
  },
  {
   "cell_type": "code",
   "execution_count": 7,
   "metadata": {
    "collapsed": false
   },
   "outputs": [
    {
     "name": "stdout",
     "output_type": "stream",
     "text": [
      "Created: parsed/five-three_5995.json\n"
     ]
    }
   ],
   "source": [
    "filepath = os.path.join('parsed', '%s_%d.json' % ('-'.join(versions), len(concat_df)))\n",
    "concat_df.to_json(filepath)\n",
    "print('Created: %s' % filepath)"
   ]
  }
 ],
 "metadata": {
  "kernelspec": {
   "display_name": "Python 3",
   "language": "python",
   "name": "python3"
  },
  "language_info": {
   "codemirror_mode": {
    "name": "ipython",
    "version": 3
   },
   "file_extension": ".py",
   "mimetype": "text/x-python",
   "name": "python",
   "nbconvert_exporter": "python",
   "pygments_lexer": "ipython3",
   "version": "3.6.9"
  }
 },
 "nbformat": 4,
 "nbformat_minor": 2
}
