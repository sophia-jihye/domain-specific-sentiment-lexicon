{
 "cells": [
  {
   "cell_type": "code",
   "execution_count": 1,
   "metadata": {
    "collapsed": false
   },
   "outputs": [],
   "source": [
    "import os\n",
    "import pandas as pd \n",
    "from ReviewSentence import ReviewSentence"
   ]
  },
  {
   "cell_type": "code",
   "execution_count": 2,
   "metadata": {
    "collapsed": false
   },
   "outputs": [
    {
     "name": "stdout",
     "output_type": "stream",
     "text": [
      "Processing raw/five/Creative Labs Nomad Jukebox Zen Xtra 40GB.txt..\n",
      "Processing raw/five/Apex AD2600 Progressive-scan DVD player.txt..\n",
      "Processing raw/five/Nikon coolpix 4300.txt..\n",
      "Processing raw/five/Nokia 6610.txt..\n",
      "Processing raw/five/Canon G3.txt..\n",
      "Processing raw/three/Speaker.xml..\n",
      "Processing raw/three/Router.xml..\n",
      "Processing raw/three/Router.txt..\n",
      "Processing raw/three/Speaker.txt..\n",
      "Processing raw/three/Computer.xml..\n",
      "Processing raw/three/Computer.txt..\n",
      "# of duplicates: 49\n"
     ]
    }
   ],
   "source": [
    "dfs = []\n",
    "versions = ['five', 'three']\n",
    "for version in versions:\n",
    "    source_dir = os.path.join('raw', version)\n",
    "    for filename in os.listdir(source_dir):\n",
    "        if filename == \"Readme.txt\":\n",
    "            continue\n",
    "\n",
    "        rows = []\n",
    "        filepath = os.path.join(source_dir, filename)\n",
    "        print(\"Processing %s..\" % filepath)\n",
    "\n",
    "        with open(filepath, encoding=\"utf-8\") as lines:\n",
    "            for ln in lines:\n",
    "                line = ln.strip().replace(\"\\t\", \" \")\n",
    "                r = ReviewSentence.parse(line)\n",
    "                if r is not None:\n",
    "                    if r.sentence_type == 'review':\n",
    "                        rows.append(r.to_row())\n",
    "        df = pd.DataFrame.from_records(rows, columns=(\"content\", \"target\"))\n",
    "        df['filename'] = '-'.join([version, filename.replace('.txt', '')])\n",
    "        dfs.append(df)\n",
    "concat_df = pd.concat(dfs, ignore_index=True)\n",
    "\n",
    "before_ = len(concat_df)\n",
    "concat_df = concat_df.drop_duplicates(subset=['content'])\n",
    "print('# of duplicates:', before_ - len(concat_df))"
   ]
  },
  {
   "cell_type": "code",
   "execution_count": 1,
   "metadata": {
    "collapsed": false
   },
   "outputs": [
    {
     "ename": "NameError",
     "evalue": "name 'concat_df' is not defined",
     "output_type": "error",
     "traceback": [
      "\u001b[0;31m---------------------------------------------------------------------------\u001b[0m",
      "\u001b[0;31mNameError\u001b[0m                                 Traceback (most recent call last)",
      "\u001b[0;32m<ipython-input-1-b0102e0f640e>\u001b[0m in \u001b[0;36m<module>\u001b[0;34m()\u001b[0m\n\u001b[0;32m----> 1\u001b[0;31m \u001b[0mconcat_df\u001b[0m\u001b[0;34m.\u001b[0m\u001b[0mhead\u001b[0m\u001b[0;34m(\u001b[0m\u001b[0;34m)\u001b[0m\u001b[0;34m\u001b[0m\u001b[0;34m\u001b[0m\u001b[0m\n\u001b[0m",
      "\u001b[0;31mNameError\u001b[0m: name 'concat_df' is not defined"
     ]
    }
   ],
   "source": [
    "concat_df.head()"
   ]
  },
  {
   "cell_type": "code",
   "execution_count": 7,
   "metadata": {
    "collapsed": false
   },
   "outputs": [
    {
     "name": "stdout",
     "output_type": "stream",
     "text": [
      "Created: parsed/five-three_5995.json\n"
     ]
    }
   ],
   "source": [
    "filepath = os.path.join('parsed', '%s_%d.json' % ('-'.join(versions), len(concat_df)))\n",
    "concat_df.to_json(filepath)\n",
    "print('Created: %s' % filepath)"
   ]
  },
  {
   "cell_type": "code",
   "execution_count": 8,
   "metadata": {
    "collapsed": false
   },
   "outputs": [
    {
     "name": "stdout",
     "output_type": "stream",
     "text": [
      "Created: parsed/five-three_5995.csv\n"
     ]
    }
   ],
   "source": [
    "filepath = os.path.join('parsed', '%s_%d.csv' % ('-'.join(versions), len(concat_df)))\n",
    "concat_df.to_csv(filepath)\n",
    "print('Created: %s' % filepath)"
   ]
  }
 ],
 "metadata": {
  "kernelspec": {
   "display_name": "Python 3",
   "language": "python",
   "name": "python3"
  },
  "language_info": {
   "codemirror_mode": {
    "name": "ipython",
    "version": 3
   },
   "file_extension": ".py",
   "mimetype": "text/x-python",
   "name": "python",
   "nbconvert_exporter": "python",
   "pygments_lexer": "ipython3",
   "version": "3.6.9"
  }
 },
 "nbformat": 4,
 "nbformat_minor": 2
}
