{
 "cells": [
  {
   "cell_type": "code",
   "execution_count": 6,
   "metadata": {
    "collapsed": false
   },
   "outputs": [],
   "source": [
    "from config import parameters\n",
    "import pickle, csv, glob, os\n",
    "import numpy as np\n",
    "\n",
    "def load_pkl(filepath):\n",
    "    with open(filepath, 'rb') as f:\n",
    "        loaded_item = pickle.load(f)\n",
    "    print('Loaded %s' % filepath)\n",
    "    return loaded_item\n",
    "\n",
    "def start_csv(filepath):\n",
    "    f = open(filepath, 'w', encoding='utf-8-sig')\n",
    "    wr = csv.writer(f)\n",
    "    return f, wr\n",
    "\n",
    "def end_csv(f, filepath):\n",
    "    f.close()\n",
    "    print('Created %s' % filepath)"
   ]
  },
  {
   "cell_type": "code",
   "execution_count": 2,
   "metadata": {
    "collapsed": true
   },
   "outputs": [],
   "source": [
    "output_final_report_csv_filepath = parameters.output_final_report_csv_filepath\n",
    "output_raw_df_pkl_filepath = parameters.output_raw_df_pkl_filepath\n",
    "output_test_dir = parameters.output_test_dir"
   ]
  },
  {
   "cell_type": "code",
   "execution_count": null,
   "metadata": {
    "collapsed": false
   },
   "outputs": [],
   "source": [
    "def fill_kfold_results(kfold_results, domains):\n",
    "    for domain in domains:\n",
    "        filepaths = glob.glob(os.path.join(output_test_dir, '[%s*.csv'%domain))\n",
    "        for filepath in filepaths:\n",
    "            df = pd.read_csv(filepath)\n",
    "            for measure in ['F1 score (multiple)', 'F1 score (distinct)']:\n",
    "                for all_or_subset in ['All', 'Best subset']:\n",
    "                    kfold_results['_'.join([domain, measure, all_or_subset])].append(df[df['Measure']==measure][all_or_subset].values[0])\n",
    "\n",
    "raw_df = load_pkl(output_raw_df_pkl_filepath)\n",
    "domains = raw_df['domain'].unique()\n",
    "\n",
    "kfold_results = defaultdict(lambda: [])\n",
    "\n",
    "fill_kfold_results(kfold_results, domains)\n",
    "\n",
    "f, wr = start_csv(output_final_report_csv_filepath)\n",
    "wr.writerow(['Domain', 'Measure', 'All', 'Best subset'])\n",
    "for domain in domains:\n",
    "    for measure in ['F1 score (multiple)', 'F1 score (distinct)']:\n",
    "        wr.writerow([domain, measure, '%.4f'%np.mean(kfold_results['_'.join([domain, measure, 'All'])]), '%.4f'%np.mean(kfold_results['_'.join([domain, measure, 'Best subset'])])])\n",
    "end_csv(f, output_final_report_csv_filepath)"
   ]
  }
 ],
 "metadata": {
  "kernelspec": {
   "display_name": "Python 3",
   "language": "python",
   "name": "python3"
  },
  "language_info": {
   "codemirror_mode": {
    "name": "ipython",
    "version": 3
   },
   "file_extension": ".py",
   "mimetype": "text/x-python",
   "name": "python",
   "nbconvert_exporter": "python",
   "pygments_lexer": "ipython3",
   "version": "3.6.9"
  }
 },
 "nbformat": 4,
 "nbformat_minor": 2
}
