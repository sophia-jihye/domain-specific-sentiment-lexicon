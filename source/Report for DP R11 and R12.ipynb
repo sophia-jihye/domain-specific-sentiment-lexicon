{
 "cells": [
  {
   "cell_type": "code",
   "execution_count": 1,
   "metadata": {
    "collapsed": false
   },
   "outputs": [
    {
     "name": "stdout",
     "output_type": "stream",
     "text": [
      "Created file: /home/dmlab/jihye/GIT/domain-specific-sentiment-lexicon/output/20200716-10-07-00/parameters.json\n",
      "Parameters(\n",
      "  base_dir = /home/dmlab/jihye/GIT/domain-specific-sentiment-lexicon\n",
      "  data_filepath = /home/dmlab/jihye/GIT/domain-specific-sentiment-lexicon/data/parsed/five-three_5995.json\n",
      "  lexicon_filepath = /home/dmlab/jihye/GIT/domain-specific-sentiment-lexicon/data/parsed/lexicon_6788.json\n",
      "  output_dir = /home/dmlab/jihye/GIT/domain-specific-sentiment-lexicon/output/20200716-10-07-00\n",
      "  output_targets_dir = /home/dmlab/jihye/GIT/domain-specific-sentiment-lexicon/output/20200716-10-07-00/targets\n",
      "  output_test_dir = /home/dmlab/jihye/GIT/domain-specific-sentiment-lexicon/output/20200716-10-07-00/test\n",
      "  parameters_json_filepath = /home/dmlab/jihye/GIT/domain-specific-sentiment-lexicon/output/20200716-10-07-00/parameters.json\n",
      "  output_time_txt_filepath = /home/dmlab/jihye/GIT/domain-specific-sentiment-lexicon/output/20200716-10-07-00/elapsed_time.txt\n",
      "  errlog_filepath = /home/dmlab/jihye/GIT/domain-specific-sentiment-lexicon/output/20200716-10-07-00/err/20200717-13-41-51.log\n",
      "  domains = ['MP3 player', 'DVD player', 'Digital camera2', 'Cell phone', 'Digital camera1', 'Wireless router', 'Speaker', 'Computer']\n",
      "  output_raw_df_pkl_filepath = /home/dmlab/jihye/GIT/domain-specific-sentiment-lexicon/output/20200716-10-07-00/save/raw_df.pkl\n",
      "  output_training_test_dfs_pkl_filepath = /home/dmlab/jihye/GIT/domain-specific-sentiment-lexicon/output/20200716-10-07-00/save/[%s]training_test_dfs.pkl\n",
      "  output_error_csv_filepath = /home/dmlab/jihye/GIT/domain-specific-sentiment-lexicon/output/20200716-10-07-00/training/[%s][k=%d]error_%d_%d.csv\n",
      "  output_pattern_csv_filepath = /home/dmlab/jihye/GIT/domain-specific-sentiment-lexicon/output/20200716-10-07-00/training/[%s][k=%d]patterns_%d.csv\n",
      "  output_pattern_quality_estimation_csv_filepath = /home/dmlab/jihye/GIT/domain-specific-sentiment-lexicon/output/20200716-10-07-00/training/[%s][k=%d]pattern_quality_estimation.csv\n",
      "  output_target_log_csv_filepath = /home/dmlab/jihye/GIT/domain-specific-sentiment-lexicon/output/20200716-10-07-00/targets/%s_k=%d_%02d_%s.csv\n",
      "  output_targets_concat_csv_filepath = /home/dmlab/jihye/GIT/domain-specific-sentiment-lexicon/output/20200716-10-07-00/save/[%s][k=%d]targets.csv\n",
      "  output_pattern_counter_pkl_filepath = /home/dmlab/jihye/GIT/domain-specific-sentiment-lexicon/output/20200716-10-07-00/save/[%s][k=%d]pattern_counter.pkl\n",
      "  output_subset_selection_log_filepath = /home/dmlab/jihye/GIT/domain-specific-sentiment-lexicon/output/20200716-10-07-00/training/[%s][k=%d]subset_selection.log\n",
      "  output_subset_pkl_filepath = /home/dmlab/jihye/GIT/domain-specific-sentiment-lexicon/output/20200716-10-07-00/save/[%s][k=%d]subset.pkl\n",
      "  output_target_extraction_report_csv_filepath = /home/dmlab/jihye/GIT/domain-specific-sentiment-lexicon/output/20200716-10-07-00/test/[%s][k=%d]target_extraction_report.csv\n",
      "  output_final_report_csv_filepath = /home/dmlab/jihye/GIT/domain-specific-sentiment-lexicon/output/20200716-10-07-00/final_report.csv\n",
      "  num_cpus = 10\n",
      ")\n"
     ]
    }
   ],
   "source": [
    "from utils import *\n",
    "import pickle, csv, os\n",
    "import numpy as np\n",
    "from collections import defaultdict\n",
    "from PatternHandler import PatternHandler\n",
    "from DoublePropagation import DoublePropagation"
   ]
  },
  {
   "cell_type": "code",
   "execution_count": 2,
   "metadata": {
    "collapsed": false
   },
   "outputs": [
    {
     "name": "stdout",
     "output_type": "stream",
     "text": [
      "Loaded /home/dmlab/jihye/GIT/domain-specific-sentiment-lexicon/output/20200714-11-39-35 [MP3 player]/save/raw_df.pkl\n",
      "['MP3 player', 'DVD player', 'Digital camera2', 'Cell phone', 'Digital camera1', 'Wireless router', 'Speaker', 'Computer']\n"
     ]
    }
   ],
   "source": [
    "base_dir = os.path.join(os.path.dirname(os.getcwd()), 'output', '20200714-11-39-35 [MP3 player]')\n",
    "output_raw_df_pkl_filepath = os.path.join(base_dir, 'save', 'raw_df.pkl')\n",
    "output_training_test_dfs_pkl_filepath = os.path.join(base_dir, 'save', '[%s]training_test_dfs.pkl')\n",
    "output_dp_final_report_csv_filepath = os.path.join(base_dir, 'dp_final_report.csv')\n",
    "\n",
    "raw_df = load_pkl(output_raw_df_pkl_filepath)\n",
    "domains = raw_df['domain'].unique()\n",
    "print(list(domains))"
   ]
  },
  {
   "cell_type": "code",
   "execution_count": 3,
   "metadata": {
    "collapsed": false
   },
   "outputs": [
    {
     "name": "stdout",
     "output_type": "stream",
     "text": [
      "Use device: cpu\n",
      "---\n",
      "Loading: tokenize\n",
      "With settings: \n",
      "{'model_path': '/home/dmlab/stanfordnlp_resources/en_ewt_models/en_ewt_tokenizer.pt', 'lang': 'en', 'shorthand': 'en_ewt', 'mode': 'predict'}\n",
      "---\n",
      "Loading: pos\n",
      "With settings: \n",
      "{'model_path': '/home/dmlab/stanfordnlp_resources/en_ewt_models/en_ewt_tagger.pt', 'pretrain_path': '/home/dmlab/stanfordnlp_resources/en_ewt_models/en_ewt.pretrain.pt', 'lang': 'en', 'shorthand': 'en_ewt', 'mode': 'predict'}\n",
      "---\n",
      "Loading: lemma\n",
      "With settings: \n",
      "{'model_path': '/home/dmlab/stanfordnlp_resources/en_ewt_models/en_ewt_lemmatizer.pt', 'lang': 'en', 'shorthand': 'en_ewt', 'mode': 'predict'}\n",
      "Building an attentional Seq2Seq model...\n",
      "Using a Bi-LSTM encoder\n",
      "Using soft attention for LSTM.\n",
      "Finetune all embeddings.\n",
      "[Running seq2seq lemmatizer with edit classifier]\n",
      "---\n",
      "Loading: depparse\n",
      "With settings: \n",
      "{'model_path': '/home/dmlab/stanfordnlp_resources/en_ewt_models/en_ewt_parser.pt', 'pretrain_path': '/home/dmlab/stanfordnlp_resources/en_ewt_models/en_ewt.pretrain.pt', 'lang': 'en', 'shorthand': 'en_ewt', 'mode': 'predict'}\n",
      "Done loading processors!\n",
      "---\n"
     ]
    }
   ],
   "source": [
    "double_propagation, pattern_handler = DoublePropagation(), PatternHandler()"
   ]
  },
  {
   "cell_type": "code",
   "execution_count": 4,
   "metadata": {
    "collapsed": false
   },
   "outputs": [
    {
     "name": "stderr",
     "output_type": "stream",
     "text": [
      "100%|██████████| 169/169 [00:00<00:00, 1302.40it/s]\n",
      "100%|██████████| 169/169 [00:00<00:00, 3027.67it/s]\n",
      "  0%|          | 0/169 [00:00<?, ?it/s]"
     ]
    },
    {
     "name": "stdout",
     "output_type": "stream",
     "text": [
      "Loaded /home/dmlab/jihye/GIT/domain-specific-sentiment-lexicon/output/20200714-11-39-35 [MP3 player]/save/[MP3 player]training_test_dfs.pkl\n"
     ]
    },
    {
     "name": "stderr",
     "output_type": "stream",
     "text": [
      "100%|██████████| 169/169 [00:00<00:00, 2979.06it/s]\n",
      "100%|██████████| 169/169 [00:00<00:00, 3325.03it/s]\n",
      "100%|██████████| 169/169 [00:00<00:00, 3084.09it/s]\n",
      "100%|██████████| 169/169 [00:00<00:00, 2923.11it/s]\n",
      "100%|██████████| 169/169 [00:00<00:00, 3123.10it/s]\n",
      "100%|██████████| 169/169 [00:00<00:00, 2983.57it/s]\n",
      "100%|██████████| 169/169 [00:00<00:00, 3055.07it/s]\n",
      "100%|██████████| 169/169 [00:00<00:00, 2951.84it/s]"
     ]
    },
    {
     "name": "stdout",
     "output_type": "stream",
     "text": [
      "Created /home/dmlab/jihye/GIT/domain-specific-sentiment-lexicon/output/20200714-11-39-35 [MP3 player]/dp_final_report.csv\n"
     ]
    },
    {
     "name": "stderr",
     "output_type": "stream",
     "text": [
      "\n",
      "/home/dmlab/anaconda3/lib/python3.6/site-packages/numpy/core/fromnumeric.py:2920: RuntimeWarning: Mean of empty slice.\n",
      "  out=out, **kwargs)\n",
      "/home/dmlab/anaconda3/lib/python3.6/site-packages/numpy/core/_methods.py:85: RuntimeWarning: invalid value encountered in double_scalars\n",
      "  ret = ret.dtype.type(ret / rcount)\n"
     ]
    }
   ],
   "source": [
    "kfold_results = defaultdict(lambda: [])\n",
    "for domain in domains:\n",
    "    filepath = output_training_test_dfs_pkl_filepath % domain\n",
    "    if os.path.exists(filepath): \n",
    "        training_test_dfs = load_pkl(filepath)\n",
    "        training_dfs, test_dfs = training_test_dfs[0], training_test_dfs[1]\n",
    "\n",
    "        for df in test_dfs:\n",
    "            df['predicted_targets'] = df.apply(lambda x: list(), axis=1)\n",
    "            df['predicted_targets'] = df.apply(lambda x: pattern_handler.extract_targets_dp(double_propagation, x['doc'], x['opinion_words'], x['predicted_targets']), axis=1)\n",
    "\n",
    "            pre_mul, rec_mul, pre_dis, rec_dis = calculate_precision_recall(df)\n",
    "            f1_mul = calculate_f1(pre_mul,rec_mul)\n",
    "            f1_dis = calculate_f1(pre_dis,rec_dis)\n",
    "            kfold_results['_'.join([domain, 'F1 score (multiple)'])].append(f1_mul)\n",
    "            kfold_results['_'.join([domain, 'F1 score (distinct)'])].append(f1_dis)\n",
    "            \n",
    "f, wr = start_csv(output_dp_final_report_csv_filepath)\n",
    "wr.writerow(['Domain', 'Measure', 'DP (R11+R12)'])\n",
    "for domain in domains:\n",
    "    for measure in ['F1 score (multiple)', 'F1 score (distinct)']:\n",
    "        wr.writerow([domain, measure, '%.4f'%np.mean(kfold_results['_'.join([domain, measure])])])\n",
    "end_csv(f, output_dp_final_report_csv_filepath)"
   ]
  }
 ],
 "metadata": {
  "kernelspec": {
   "display_name": "Python 3",
   "language": "python",
   "name": "python3"
  },
  "language_info": {
   "codemirror_mode": {
    "name": "ipython",
    "version": 3
   },
   "file_extension": ".py",
   "mimetype": "text/x-python",
   "name": "python",
   "nbconvert_exporter": "python",
   "pygments_lexer": "ipython3",
   "version": "3.6.9"
  }
 },
 "nbformat": 4,
 "nbformat_minor": 2
}
