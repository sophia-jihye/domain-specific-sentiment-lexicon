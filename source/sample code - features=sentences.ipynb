{
 "cells": [
  {
   "cell_type": "code",
   "execution_count": 36,
   "metadata": {
    "collapsed": false
   },
   "outputs": [],
   "source": [
    "import os, ast, glob\n",
    "import pandas as pd"
   ]
  },
  {
   "cell_type": "code",
   "execution_count": 32,
   "metadata": {
    "collapsed": false
   },
   "outputs": [],
   "source": [
    "def calculate_true_positive(predicted_list, correct_list):\n",
    "    tp = 0\n",
    "    for predicted_compound_target in predicted_list:\n",
    "        if predicted_compound_target in correct_list:   # 'screen' <- predicted 'screen'\n",
    "            correct_list.remove(predicted_compound_target)\n",
    "            tp += 1\n",
    "            continue\n",
    "        for correct_target in correct_list:\n",
    "            if predicted_compound_target.find(correct_target) > -1:   # 'audio' <- predicted 'audio aspects'\n",
    "                correct_list.remove(correct_target)\n",
    "                tp += 1\n",
    "                break\n",
    "    return tp"
   ]
  },
  {
   "cell_type": "code",
   "execution_count": 55,
   "metadata": {
    "collapsed": false
   },
   "outputs": [
    {
     "name": "stderr",
     "output_type": "stream",
     "text": [
      "/home/dmlab/anaconda3/lib/python3.6/site-packages/ipykernel_launcher.py:10: SettingWithCopyWarning: \n",
      "A value is trying to be set on a copy of a slice from a DataFrame.\n",
      "Try using .loc[row_indexer,col_indexer] = value instead\n",
      "\n",
      "See the caveats in the documentation: http://pandas.pydata.org/pandas-docs/stable/indexing.html#indexing-view-versus-copy\n",
      "  # Remove the CWD from sys.path while we load stuff.\n"
     ]
    }
   ],
   "source": [
    "pattern = 'nsubj'\n",
    "dfs = []\n",
    "for pattern in ['nsubj', 'amod', 'obl']:\n",
    "    filepaths = glob.glob(os.path.join(os.path.dirname(os.getcwd()), 'output', 'preliminary', 'targets', 'Wireless router_*_%s.csv'%pattern))\n",
    "    df = pd.read_csv(filepaths[0])\n",
    "    df['targets'] = df.apply(lambda x: ast.literal_eval(x['targets']), axis=1)\n",
    "    df['predicted_targets'] = df.apply(lambda x: ast.literal_eval(x['predicted_targets']), axis=1)\n",
    "    df['tp'] = df.apply(lambda row: calculate_true_positive(row['predicted_targets'], row['targets']), axis=1)\n",
    "    pattern_features_df = df[['content', 'tp']]\n",
    "    pattern_features_df['pattern'] = pattern\n",
    "    dfs.append(pattern_features_df)\n",
    "concat_df = pd.concat(dfs, ignore_index=True)    "
   ]
  },
  {
   "cell_type": "code",
   "execution_count": 51,
   "metadata": {
    "collapsed": false
   },
   "outputs": [
    {
     "data": {
      "text/plain": [
       "(40, 1)"
      ]
     },
     "execution_count": 51,
     "metadata": {},
     "output_type": "execute_result"
    }
   ],
   "source": [
    "x1 = x1.reshape(-1, 1)\n",
    "x1.shape"
   ]
  },
  {
   "cell_type": "code",
   "execution_count": 62,
   "metadata": {
    "collapsed": false
   },
   "outputs": [
    {
     "name": "stdout",
     "output_type": "stream",
     "text": [
      "nsubj & amod => 0.0019\n",
      "nsubj & obl => 0.0022\n"
     ]
    },
    {
     "name": "stderr",
     "output_type": "stream",
     "text": [
      "/home/dmlab/anaconda3/lib/python3.6/site-packages/sklearn/utils/validation.py:761: DataConversionWarning: A column-vector y was passed when a 1d array was expected. Please change the shape of y to (n_samples, ), for example using ravel().\n",
      "  y = column_or_1d(y, warn=True)\n",
      "/home/dmlab/anaconda3/lib/python3.6/site-packages/sklearn/utils/validation.py:761: DataConversionWarning: A column-vector y was passed when a 1d array was expected. Please change the shape of y to (n_samples, ), for example using ravel().\n",
      "  y = column_or_1d(y, warn=True)\n"
     ]
    }
   ],
   "source": [
    "from sklearn.preprocessing import LabelEncoder\n",
    "from sklearn.feature_selection import mutual_info_classif\n",
    "\n",
    "# le = preprocessing.LabelEncoder()\n",
    "# le.fit(concat_df['content'])\n",
    "# print(list(le.classes_))\n",
    "\n",
    "# print(le.transform(current_df['content']))\n",
    "# print(list(le.inverse_transform([2, 2, 1])))\n",
    "\n",
    "# x1 = le.transform(concat_df[concat_df['pattern']=='nsubj']['content']).reshape(-1, 1)\n",
    "# x2 = le.transform(concat_df[concat_df['pattern']=='amod']['content']).reshape(-1, 1)\n",
    "\n",
    "pattern1, pattern2 = 'nsubj', 'amod'\n",
    "x1 = concat_df[concat_df['pattern']==pattern1]['tp'].values.reshape(-1,1)\n",
    "x2 = concat_df[concat_df['pattern']==pattern2]['tp'].values.reshape(-1,1)\n",
    "print('%s & %s => %.4f' % (pattern1, pattern2, mutual_info_classif(x1, x2)[0]))\n",
    "\n",
    "pattern1, pattern2 = 'nsubj', 'obl'\n",
    "x1 = concat_df[concat_df['pattern']==pattern1]['tp'].values.reshape(-1,1)\n",
    "x2 = concat_df[concat_df['pattern']==pattern2]['tp'].values.reshape(-1,1)\n",
    "print('%s & %s => %.4f' % (pattern1, pattern2, mutual_info_classif(x1, x2)[0]))"
   ]
  },
  {
   "cell_type": "code",
   "execution_count": 63,
   "metadata": {
    "collapsed": false
   },
   "outputs": [
    {
     "name": "stdout",
     "output_type": "stream",
     "text": [
      "amod & obl => 0.0063\n"
     ]
    },
    {
     "name": "stderr",
     "output_type": "stream",
     "text": [
      "/home/dmlab/anaconda3/lib/python3.6/site-packages/sklearn/utils/validation.py:761: DataConversionWarning: A column-vector y was passed when a 1d array was expected. Please change the shape of y to (n_samples, ), for example using ravel().\n",
      "  y = column_or_1d(y, warn=True)\n"
     ]
    }
   ],
   "source": [
    "pattern1, pattern2 = 'amod', 'obl'\n",
    "x1 = concat_df[concat_df['pattern']==pattern1]['tp'].values.reshape(-1,1)\n",
    "x2 = concat_df[concat_df['pattern']==pattern2]['tp'].values.reshape(-1,1)\n",
    "print('%s & %s => %.4f' % (pattern1, pattern2, mutual_info_classif(x1, x2)[0]))"
   ]
  }
 ],
 "metadata": {
  "kernelspec": {
   "display_name": "Python 3",
   "language": "python",
   "name": "python3"
  },
  "language_info": {
   "codemirror_mode": {
    "name": "ipython",
    "version": 3
   },
   "file_extension": ".py",
   "mimetype": "text/x-python",
   "name": "python",
   "nbconvert_exporter": "python",
   "pygments_lexer": "ipython3",
   "version": "3.6.9"
  }
 },
 "nbformat": 4,
 "nbformat_minor": 2
}
