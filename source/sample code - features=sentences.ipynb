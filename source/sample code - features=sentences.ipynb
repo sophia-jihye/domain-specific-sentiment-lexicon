{
 "cells": [
  {
   "cell_type": "code",
   "execution_count": 36,
   "metadata": {
    "collapsed": false
   },
   "outputs": [],
   "source": [
    "import os, ast, glob\n",
    "import pandas as pd"
   ]
  },
  {
   "cell_type": "code",
   "execution_count": 32,
   "metadata": {
    "collapsed": false
   },
   "outputs": [],
   "source": [
    "def calculate_true_positive(predicted_list, correct_list):\n",
    "    tp = 0\n",
    "    for predicted_compound_target in predicted_list:\n",
    "        if predicted_compound_target in correct_list:   # 'screen' <- predicted 'screen'\n",
    "            correct_list.remove(predicted_compound_target)\n",
    "            tp += 1\n",
    "            continue\n",
    "        for correct_target in correct_list:\n",
    "            if predicted_compound_target.find(correct_target) > -1:   # 'audio' <- predicted 'audio aspects'\n",
    "                correct_list.remove(correct_target)\n",
    "                tp += 1\n",
    "                break\n",
    "    return tp"
   ]
  },
  {
   "cell_type": "code",
   "execution_count": 146,
   "metadata": {
    "collapsed": false
   },
   "outputs": [
    {
     "name": "stderr",
     "output_type": "stream",
     "text": [
      "/home/dmlab/anaconda3/lib/python3.6/site-packages/ipykernel_launcher.py:11: SettingWithCopyWarning: \n",
      "A value is trying to be set on a copy of a slice from a DataFrame.\n",
      "Try using .loc[row_indexer,col_indexer] = value instead\n",
      "\n",
      "See the caveats in the documentation: http://pandas.pydata.org/pandas-docs/stable/indexing.html#indexing-view-versus-copy\n",
      "  # This is added back by InteractiveShellApp.init_path()\n"
     ]
    }
   ],
   "source": [
    "domain = 'Wireless router'\n",
    "dfs = []\n",
    "for pattern in pattern_list:\n",
    "    filepaths = glob.glob(os.path.join(os.path.dirname(os.getcwd()), 'output', 'preliminary', 'targets', '%s_*_%s.csv' % (domain, pattern)))\n",
    "    df = pd.read_csv(filepaths[0])\n",
    "    df['targets'] = df.apply(lambda x: ast.literal_eval(x['targets']), axis=1)\n",
    "    df['predicted_targets'] = df.apply(lambda x: ast.literal_eval(x['predicted_targets']), axis=1)\n",
    "    df['tp'] = df.apply(lambda row: calculate_true_positive(row['predicted_targets'], row['targets']), axis=1)\n",
    "    df['tp'] = df.apply(lambda row: 1 if row['tp']>0 else 0, axis=1)\n",
    "    pattern_features_df = df[['content', 'tp']]\n",
    "    pattern_features_df['pattern'] = pattern\n",
    "    dfs.append(pattern_features_df)\n",
    "concat_df = pd.concat(dfs, ignore_index=True)    "
   ]
  },
  {
   "cell_type": "code",
   "execution_count": 201,
   "metadata": {
    "collapsed": false
   },
   "outputs": [
    {
     "data": {
      "text/plain": [
       "array(['nsubj', 'amod', 'obl', 'conj-nsubj', 'advmod-nsubj', 'amod-conj',\n",
       "       'amod-obj', 'amod-obl'], dtype=object)"
      ]
     },
     "execution_count": 201,
     "metadata": {},
     "output_type": "execute_result"
    }
   ],
   "source": [
    "pattern_evaluation_df = pd.read_csv(os.path.join(os.path.dirname(os.getcwd()), 'output', 'preliminary', 'sub', '[%s]pattern_evaluation.csv' % domain))\n",
    "pattern_list = pattern_evaluation_df[pattern_evaluation_df['count']>3].sort_values(by='f1_multiple', ascending=False)['pattern'].values\n",
    "pattern_list"
   ]
  },
  {
   "cell_type": "code",
   "execution_count": 195,
   "metadata": {
    "collapsed": false
   },
   "outputs": [],
   "source": [
    "import copy\n",
    "whole_patterns_df = pd.DataFrame(concat_df[concat_df['pattern']==concat_df['pattern'].unique()[0]]['content'])\n",
    "whole_patterns_df['tp'] = whole_patterns_df.apply(lambda x: concat_df[concat_df['content']==x['content']]['tp'].sum(), axis=1)\n",
    "whole_patterns_df['tp'] = whole_patterns_df.apply(lambda row: 1 if row['tp']>0 else 0, axis=1)"
   ]
  },
  {
   "cell_type": "code",
   "execution_count": 203,
   "metadata": {
    "collapsed": false
   },
   "outputs": [
    {
     "data": {
      "text/plain": [
       "array(['nsubj', 'amod', 'obl', 'conj-nsubj', 'advmod-nsubj', 'amod-conj'],\n",
       "      dtype=object)"
      ]
     },
     "execution_count": 203,
     "metadata": {},
     "output_type": "execute_result"
    }
   ],
   "source": [
    "pattern_list[:-2]"
   ]
  },
  {
   "cell_type": "markdown",
   "metadata": {},
   "source": [
    "nsubj와 가장 redundant한 패턴은 conj-nsubj이다.   \n",
    "nsubj와 가장 redundant하지 않은 패턴은 amod-obj이다.   \n",
    "=> amod-obj를 포함시키자"
   ]
  },
  {
   "cell_type": "code",
   "execution_count": 213,
   "metadata": {
    "collapsed": false
   },
   "outputs": [
    {
     "name": "stderr",
     "output_type": "stream",
     "text": [
      "/home/dmlab/anaconda3/lib/python3.6/site-packages/sklearn/utils/validation.py:761: DataConversionWarning: A column-vector y was passed when a 1d array was expected. Please change the shape of y to (n_samples, ), for example using ravel().\n",
      "  y = column_or_1d(y, warn=True)\n"
     ]
    },
    {
     "name": "stdout",
     "output_type": "stream",
     "text": [
      "@ nsubj & amod => 0.00201332\n"
     ]
    },
    {
     "name": "stderr",
     "output_type": "stream",
     "text": [
      "/home/dmlab/anaconda3/lib/python3.6/site-packages/sklearn/utils/validation.py:761: DataConversionWarning: A column-vector y was passed when a 1d array was expected. Please change the shape of y to (n_samples, ), for example using ravel().\n",
      "  y = column_or_1d(y, warn=True)\n"
     ]
    },
    {
     "name": "stdout",
     "output_type": "stream",
     "text": [
      "@ nsubj & obl => 0.00373474\n"
     ]
    },
    {
     "name": "stderr",
     "output_type": "stream",
     "text": [
      "/home/dmlab/anaconda3/lib/python3.6/site-packages/sklearn/utils/validation.py:761: DataConversionWarning: A column-vector y was passed when a 1d array was expected. Please change the shape of y to (n_samples, ), for example using ravel().\n",
      "  y = column_or_1d(y, warn=True)\n"
     ]
    },
    {
     "name": "stdout",
     "output_type": "stream",
     "text": [
      "@ nsubj & conj-nsubj => 0.02188267\n"
     ]
    },
    {
     "name": "stderr",
     "output_type": "stream",
     "text": [
      "/home/dmlab/anaconda3/lib/python3.6/site-packages/sklearn/utils/validation.py:761: DataConversionWarning: A column-vector y was passed when a 1d array was expected. Please change the shape of y to (n_samples, ), for example using ravel().\n",
      "  y = column_or_1d(y, warn=True)\n"
     ]
    },
    {
     "name": "stdout",
     "output_type": "stream",
     "text": [
      "@ nsubj & advmod-nsubj => 0.01206484\n"
     ]
    },
    {
     "name": "stderr",
     "output_type": "stream",
     "text": [
      "/home/dmlab/anaconda3/lib/python3.6/site-packages/sklearn/utils/validation.py:761: DataConversionWarning: A column-vector y was passed when a 1d array was expected. Please change the shape of y to (n_samples, ), for example using ravel().\n",
      "  y = column_or_1d(y, warn=True)\n"
     ]
    },
    {
     "name": "stdout",
     "output_type": "stream",
     "text": [
      "@ nsubj & amod-conj => 0.00015997\n"
     ]
    },
    {
     "name": "stderr",
     "output_type": "stream",
     "text": [
      "/home/dmlab/anaconda3/lib/python3.6/site-packages/sklearn/utils/validation.py:761: DataConversionWarning: A column-vector y was passed when a 1d array was expected. Please change the shape of y to (n_samples, ), for example using ravel().\n",
      "  y = column_or_1d(y, warn=True)\n"
     ]
    },
    {
     "name": "stdout",
     "output_type": "stream",
     "text": [
      "@ nsubj & amod-obj => -0.00000000\n",
      "@ nsubj & amod-obl => 0.00005326\n"
     ]
    },
    {
     "name": "stderr",
     "output_type": "stream",
     "text": [
      "/home/dmlab/anaconda3/lib/python3.6/site-packages/sklearn/utils/validation.py:761: DataConversionWarning: A column-vector y was passed when a 1d array was expected. Please change the shape of y to (n_samples, ), for example using ravel().\n",
      "  y = column_or_1d(y, warn=True)\n"
     ]
    }
   ],
   "source": [
    "x1 = make_df_including(['nsubj'])['tp'].values.reshape(-1,1)\n",
    "for pattern2 in pattern_list:\n",
    "    if pattern2 == 'nsubj': continue\n",
    "    x2 = make_df_including([pattern2])['tp'].values.reshape(-1,1)\n",
    "    print('@ %s & %s => %.8f' % (pattern1, pattern2, mutual_info_classif(x1, x2, discrete_features=[0])))"
   ]
  },
  {
   "cell_type": "markdown",
   "metadata": {},
   "source": [
    "nsubj+amod-obj와 가장 redundant하지 않은 패턴은 amod이다.\n",
    "=> amod를 포함시키자"
   ]
  },
  {
   "cell_type": "code",
   "execution_count": 217,
   "metadata": {
    "collapsed": false,
    "scrolled": true
   },
   "outputs": [
    {
     "name": "stderr",
     "output_type": "stream",
     "text": [
      "/home/dmlab/anaconda3/lib/python3.6/site-packages/sklearn/utils/validation.py:761: DataConversionWarning: A column-vector y was passed when a 1d array was expected. Please change the shape of y to (n_samples, ), for example using ravel().\n",
      "  y = column_or_1d(y, warn=True)\n"
     ]
    },
    {
     "name": "stdout",
     "output_type": "stream",
     "text": [
      "@ nsubj amod-obj & +nsubj amod-obj amod => 0.12458932\n"
     ]
    },
    {
     "name": "stderr",
     "output_type": "stream",
     "text": [
      "/home/dmlab/anaconda3/lib/python3.6/site-packages/sklearn/utils/validation.py:761: DataConversionWarning: A column-vector y was passed when a 1d array was expected. Please change the shape of y to (n_samples, ), for example using ravel().\n",
      "  y = column_or_1d(y, warn=True)\n"
     ]
    },
    {
     "name": "stdout",
     "output_type": "stream",
     "text": [
      "@ nsubj amod-obj & +nsubj amod-obj obl => 0.16072038\n"
     ]
    },
    {
     "name": "stderr",
     "output_type": "stream",
     "text": [
      "/home/dmlab/anaconda3/lib/python3.6/site-packages/sklearn/utils/validation.py:761: DataConversionWarning: A column-vector y was passed when a 1d array was expected. Please change the shape of y to (n_samples, ), for example using ravel().\n",
      "  y = column_or_1d(y, warn=True)\n"
     ]
    },
    {
     "name": "stdout",
     "output_type": "stream",
     "text": [
      "@ nsubj amod-obj & +nsubj amod-obj conj-nsubj => 0.17297391\n"
     ]
    },
    {
     "name": "stderr",
     "output_type": "stream",
     "text": [
      "/home/dmlab/anaconda3/lib/python3.6/site-packages/sklearn/utils/validation.py:761: DataConversionWarning: A column-vector y was passed when a 1d array was expected. Please change the shape of y to (n_samples, ), for example using ravel().\n",
      "  y = column_or_1d(y, warn=True)\n"
     ]
    },
    {
     "name": "stdout",
     "output_type": "stream",
     "text": [
      "@ nsubj amod-obj & +nsubj amod-obj advmod-nsubj => 0.17297391\n"
     ]
    },
    {
     "name": "stderr",
     "output_type": "stream",
     "text": [
      "/home/dmlab/anaconda3/lib/python3.6/site-packages/sklearn/utils/validation.py:761: DataConversionWarning: A column-vector y was passed when a 1d array was expected. Please change the shape of y to (n_samples, ), for example using ravel().\n",
      "  y = column_or_1d(y, warn=True)\n"
     ]
    },
    {
     "name": "stdout",
     "output_type": "stream",
     "text": [
      "@ nsubj amod-obj & +nsubj amod-obj amod-conj => 0.17297391\n",
      "@ nsubj amod-obj & +nsubj amod-obj amod-obl => 0.18001988\n"
     ]
    },
    {
     "name": "stderr",
     "output_type": "stream",
     "text": [
      "/home/dmlab/anaconda3/lib/python3.6/site-packages/sklearn/utils/validation.py:761: DataConversionWarning: A column-vector y was passed when a 1d array was expected. Please change the shape of y to (n_samples, ), for example using ravel().\n",
      "  y = column_or_1d(y, warn=True)\n"
     ]
    }
   ],
   "source": [
    "patterns1 = ['nsubj', 'amod-obj']\n",
    "x1 = make_df_including(patterns1)['tp'].values.reshape(-1,1)\n",
    "for pattern2 in pattern_list:\n",
    "    if pattern2 in patterns1: continue\n",
    "    patterns2 = copy.deepcopy(patterns1)\n",
    "    patterns2.append(pattern2)\n",
    "    x2 = make_df_including(patterns2)['tp'].values.reshape(-1,1)\n",
    "    print('@ %s & +%s => %.8f' % (' '.join(patterns1), pattern2, mutual_info_classif(x1, x2, discrete_features=[0])))"
   ]
  },
  {
   "cell_type": "markdown",
   "metadata": {},
   "source": [
    "nsubj+amod-obj+amod와 가장 redundant하지 않은 패턴은 obl이다.   \n",
    "=> obl를 포함시키자"
   ]
  },
  {
   "cell_type": "code",
   "execution_count": 218,
   "metadata": {
    "collapsed": false,
    "scrolled": true
   },
   "outputs": [
    {
     "name": "stderr",
     "output_type": "stream",
     "text": [
      "/home/dmlab/anaconda3/lib/python3.6/site-packages/sklearn/utils/validation.py:761: DataConversionWarning: A column-vector y was passed when a 1d array was expected. Please change the shape of y to (n_samples, ), for example using ravel().\n",
      "  y = column_or_1d(y, warn=True)\n"
     ]
    },
    {
     "name": "stdout",
     "output_type": "stream",
     "text": [
      "@ nsubj amod-obj amod & +obl => 0.26718065\n"
     ]
    },
    {
     "name": "stderr",
     "output_type": "stream",
     "text": [
      "/home/dmlab/anaconda3/lib/python3.6/site-packages/sklearn/utils/validation.py:761: DataConversionWarning: A column-vector y was passed when a 1d array was expected. Please change the shape of y to (n_samples, ), for example using ravel().\n",
      "  y = column_or_1d(y, warn=True)\n"
     ]
    },
    {
     "name": "stdout",
     "output_type": "stream",
     "text": [
      "@ nsubj amod-obj amod & +conj-nsubj => 0.28282891\n"
     ]
    },
    {
     "name": "stderr",
     "output_type": "stream",
     "text": [
      "/home/dmlab/anaconda3/lib/python3.6/site-packages/sklearn/utils/validation.py:761: DataConversionWarning: A column-vector y was passed when a 1d array was expected. Please change the shape of y to (n_samples, ), for example using ravel().\n",
      "  y = column_or_1d(y, warn=True)\n"
     ]
    },
    {
     "name": "stdout",
     "output_type": "stream",
     "text": [
      "@ nsubj amod-obj amod & +advmod-nsubj => 0.28282891\n"
     ]
    },
    {
     "name": "stderr",
     "output_type": "stream",
     "text": [
      "/home/dmlab/anaconda3/lib/python3.6/site-packages/sklearn/utils/validation.py:761: DataConversionWarning: A column-vector y was passed when a 1d array was expected. Please change the shape of y to (n_samples, ), for example using ravel().\n",
      "  y = column_or_1d(y, warn=True)\n"
     ]
    },
    {
     "name": "stdout",
     "output_type": "stream",
     "text": [
      "@ nsubj amod-obj amod & +amod-conj => 0.29741646\n",
      "@ nsubj amod-obj amod & +amod-obl => 0.29741646\n"
     ]
    },
    {
     "name": "stderr",
     "output_type": "stream",
     "text": [
      "/home/dmlab/anaconda3/lib/python3.6/site-packages/sklearn/utils/validation.py:761: DataConversionWarning: A column-vector y was passed when a 1d array was expected. Please change the shape of y to (n_samples, ), for example using ravel().\n",
      "  y = column_or_1d(y, warn=True)\n"
     ]
    }
   ],
   "source": [
    "patterns1 = ['nsubj', 'amod-obj', 'amod']\n",
    "x1 = make_df_including(patterns1)['tp'].values.reshape(-1,1)\n",
    "for pattern2 in pattern_list:\n",
    "    if pattern2 in patterns1: continue\n",
    "    patterns2 = copy.deepcopy(patterns1)\n",
    "    patterns2.append(pattern2)\n",
    "    x2 = make_df_including(patterns2)['tp'].values.reshape(-1,1)\n",
    "    print('@ %s & +%s => %.8f' % (' '.join(patterns1), pattern2, mutual_info_classif(x1, x2, discrete_features=[0])))"
   ]
  },
  {
   "cell_type": "markdown",
   "metadata": {},
   "source": [
    "nsubj amod-obj amod obl와 가장 redundant하지 않은 패턴은 conj-nsubj 와 advmod-nsubj이다.   \n",
    "=> conj-nsubj를 포함시키자 <= F1 값을 확인해보니 F1값이 줄어든다. 포함시키지 말자. #끝!"
   ]
  },
  {
   "cell_type": "code",
   "execution_count": 219,
   "metadata": {
    "collapsed": false
   },
   "outputs": [
    {
     "name": "stderr",
     "output_type": "stream",
     "text": [
      "/home/dmlab/anaconda3/lib/python3.6/site-packages/sklearn/utils/validation.py:761: DataConversionWarning: A column-vector y was passed when a 1d array was expected. Please change the shape of y to (n_samples, ), for example using ravel().\n",
      "  y = column_or_1d(y, warn=True)\n"
     ]
    },
    {
     "name": "stdout",
     "output_type": "stream",
     "text": [
      "@ nsubj amod-obj amod obl & +conj-nsubj => 0.30334573\n"
     ]
    },
    {
     "name": "stderr",
     "output_type": "stream",
     "text": [
      "/home/dmlab/anaconda3/lib/python3.6/site-packages/sklearn/utils/validation.py:761: DataConversionWarning: A column-vector y was passed when a 1d array was expected. Please change the shape of y to (n_samples, ), for example using ravel().\n",
      "  y = column_or_1d(y, warn=True)\n"
     ]
    },
    {
     "name": "stdout",
     "output_type": "stream",
     "text": [
      "@ nsubj amod-obj amod obl & +advmod-nsubj => 0.30334573\n"
     ]
    },
    {
     "name": "stderr",
     "output_type": "stream",
     "text": [
      "/home/dmlab/anaconda3/lib/python3.6/site-packages/sklearn/utils/validation.py:761: DataConversionWarning: A column-vector y was passed when a 1d array was expected. Please change the shape of y to (n_samples, ), for example using ravel().\n",
      "  y = column_or_1d(y, warn=True)\n"
     ]
    },
    {
     "name": "stdout",
     "output_type": "stream",
     "text": [
      "@ nsubj amod-obj amod obl & +amod-conj => 0.31826528\n",
      "@ nsubj amod-obj amod obl & +amod-obl => 0.31826528\n"
     ]
    },
    {
     "name": "stderr",
     "output_type": "stream",
     "text": [
      "/home/dmlab/anaconda3/lib/python3.6/site-packages/sklearn/utils/validation.py:761: DataConversionWarning: A column-vector y was passed when a 1d array was expected. Please change the shape of y to (n_samples, ), for example using ravel().\n",
      "  y = column_or_1d(y, warn=True)\n"
     ]
    }
   ],
   "source": [
    "patterns1 = ['nsubj', 'amod-obj', 'amod', 'obl']\n",
    "x1 = make_df_including(patterns1)['tp'].values.reshape(-1,1)\n",
    "for pattern2 in pattern_list:\n",
    "    if pattern2 in patterns1: continue\n",
    "    patterns2 = copy.deepcopy(patterns1)\n",
    "    patterns2.append(pattern2)\n",
    "    x2 = make_df_including(patterns2)['tp'].values.reshape(-1,1)\n",
    "    print('@ %s & +%s => %.8f' % (' '.join(patterns1), pattern2, mutual_info_classif(x1, x2, discrete_features=[0])))"
   ]
  },
  {
   "cell_type": "code",
   "execution_count": null,
   "metadata": {
    "collapsed": true
   },
   "outputs": [],
   "source": []
  },
  {
   "cell_type": "code",
   "execution_count": null,
   "metadata": {
    "collapsed": true
   },
   "outputs": [],
   "source": []
  },
  {
   "cell_type": "code",
   "execution_count": null,
   "metadata": {
    "collapsed": true
   },
   "outputs": [],
   "source": []
  },
  {
   "cell_type": "markdown",
   "metadata": {},
   "source": [
    "# Explore"
   ]
  },
  {
   "cell_type": "markdown",
   "metadata": {},
   "source": [
    "전체 패턴에서 amod-conj, amod-obj, amod-obl은 빠져도 된다. redundant하다."
   ]
  },
  {
   "cell_type": "code",
   "execution_count": 206,
   "metadata": {
    "collapsed": false
   },
   "outputs": [
    {
     "name": "stderr",
     "output_type": "stream",
     "text": [
      "/home/dmlab/anaconda3/lib/python3.6/site-packages/sklearn/utils/validation.py:761: DataConversionWarning: A column-vector y was passed when a 1d array was expected. Please change the shape of y to (n_samples, ), for example using ravel().\n",
      "  y = column_or_1d(y, warn=True)\n"
     ]
    },
    {
     "name": "stdout",
     "output_type": "stream",
     "text": [
      "@ WHOLE & -nsubj => 0.18868666\n"
     ]
    },
    {
     "name": "stderr",
     "output_type": "stream",
     "text": [
      "/home/dmlab/anaconda3/lib/python3.6/site-packages/sklearn/utils/validation.py:761: DataConversionWarning: A column-vector y was passed when a 1d array was expected. Please change the shape of y to (n_samples, ), for example using ravel().\n",
      "  y = column_or_1d(y, warn=True)\n"
     ]
    },
    {
     "name": "stdout",
     "output_type": "stream",
     "text": [
      "@ WHOLE & -amod => 0.16244127\n"
     ]
    },
    {
     "name": "stderr",
     "output_type": "stream",
     "text": [
      "/home/dmlab/anaconda3/lib/python3.6/site-packages/sklearn/utils/validation.py:761: DataConversionWarning: A column-vector y was passed when a 1d array was expected. Please change the shape of y to (n_samples, ), for example using ravel().\n",
      "  y = column_or_1d(y, warn=True)\n"
     ]
    },
    {
     "name": "stdout",
     "output_type": "stream",
     "text": [
      "@ WHOLE & -obl => 0.26380300\n"
     ]
    },
    {
     "name": "stderr",
     "output_type": "stream",
     "text": [
      "/home/dmlab/anaconda3/lib/python3.6/site-packages/sklearn/utils/validation.py:761: DataConversionWarning: A column-vector y was passed when a 1d array was expected. Please change the shape of y to (n_samples, ), for example using ravel().\n",
      "  y = column_or_1d(y, warn=True)\n"
     ]
    },
    {
     "name": "stdout",
     "output_type": "stream",
     "text": [
      "@ WHOLE & -conj-nsubj => 0.29205379\n"
     ]
    },
    {
     "name": "stderr",
     "output_type": "stream",
     "text": [
      "/home/dmlab/anaconda3/lib/python3.6/site-packages/sklearn/utils/validation.py:761: DataConversionWarning: A column-vector y was passed when a 1d array was expected. Please change the shape of y to (n_samples, ), for example using ravel().\n",
      "  y = column_or_1d(y, warn=True)\n"
     ]
    },
    {
     "name": "stdout",
     "output_type": "stream",
     "text": [
      "@ WHOLE & -advmod-nsubj => 0.29205379\n"
     ]
    },
    {
     "name": "stderr",
     "output_type": "stream",
     "text": [
      "/home/dmlab/anaconda3/lib/python3.6/site-packages/sklearn/utils/validation.py:761: DataConversionWarning: A column-vector y was passed when a 1d array was expected. Please change the shape of y to (n_samples, ), for example using ravel().\n",
      "  y = column_or_1d(y, warn=True)\n"
     ]
    },
    {
     "name": "stdout",
     "output_type": "stream",
     "text": [
      "@ WHOLE & -amod-conj => 0.31436199\n"
     ]
    },
    {
     "name": "stderr",
     "output_type": "stream",
     "text": [
      "/home/dmlab/anaconda3/lib/python3.6/site-packages/sklearn/utils/validation.py:761: DataConversionWarning: A column-vector y was passed when a 1d array was expected. Please change the shape of y to (n_samples, ), for example using ravel().\n",
      "  y = column_or_1d(y, warn=True)\n"
     ]
    },
    {
     "name": "stdout",
     "output_type": "stream",
     "text": [
      "@ WHOLE & -amod-obj => 0.31436199\n",
      "@ WHOLE & -amod-obl => 0.31436199\n"
     ]
    },
    {
     "name": "stderr",
     "output_type": "stream",
     "text": [
      "/home/dmlab/anaconda3/lib/python3.6/site-packages/sklearn/utils/validation.py:761: DataConversionWarning: A column-vector y was passed when a 1d array was expected. Please change the shape of y to (n_samples, ), for example using ravel().\n",
      "  y = column_or_1d(y, warn=True)\n"
     ]
    }
   ],
   "source": [
    "x1 = make_df_including(pattern_list)['tp'].values.reshape(-1,1)\n",
    "for pattern2 in pattern_list:\n",
    "    except_one_pattern_df = make_df(pattern2)\n",
    "    #x1 = whole_patterns_df['tp'].values.reshape(-1,1)\n",
    "    x2 = except_one_pattern_df['tp'].values.reshape(-1,1)\n",
    "    print('@ %s & -%s => %.8f' % ('WHOLE', pattern2, mutual_info_classif(x1, x2, discrete_features=[0])))"
   ]
  },
  {
   "cell_type": "markdown",
   "metadata": {},
   "source": [
    "우선 amod-obl만 빼보고 다시 확인해보자.\n",
    "=> 전체 패턴에서 amod-conj, amod-obj은 빠져도 된다. redundant하다."
   ]
  },
  {
   "cell_type": "code",
   "execution_count": 208,
   "metadata": {
    "collapsed": false
   },
   "outputs": [
    {
     "name": "stderr",
     "output_type": "stream",
     "text": [
      "/home/dmlab/anaconda3/lib/python3.6/site-packages/sklearn/utils/validation.py:761: DataConversionWarning: A column-vector y was passed when a 1d array was expected. Please change the shape of y to (n_samples, ), for example using ravel().\n",
      "  y = column_or_1d(y, warn=True)\n"
     ]
    },
    {
     "name": "stdout",
     "output_type": "stream",
     "text": [
      "@ nsubj amod obl conj-nsubj advmod-nsubj amod-conj amod-obj & -nsubj => 0.20208056\n"
     ]
    },
    {
     "name": "stderr",
     "output_type": "stream",
     "text": [
      "/home/dmlab/anaconda3/lib/python3.6/site-packages/sklearn/utils/validation.py:761: DataConversionWarning: A column-vector y was passed when a 1d array was expected. Please change the shape of y to (n_samples, ), for example using ravel().\n",
      "  y = column_or_1d(y, warn=True)\n"
     ]
    },
    {
     "name": "stdout",
     "output_type": "stream",
     "text": [
      "@ nsubj amod obl conj-nsubj advmod-nsubj amod-conj amod-obj & -amod => 0.17192146\n"
     ]
    },
    {
     "name": "stderr",
     "output_type": "stream",
     "text": [
      "/home/dmlab/anaconda3/lib/python3.6/site-packages/sklearn/utils/validation.py:761: DataConversionWarning: A column-vector y was passed when a 1d array was expected. Please change the shape of y to (n_samples, ), for example using ravel().\n",
      "  y = column_or_1d(y, warn=True)\n"
     ]
    },
    {
     "name": "stdout",
     "output_type": "stream",
     "text": [
      "@ nsubj amod obl conj-nsubj advmod-nsubj amod-conj amod-obj & -obl => 0.28225733\n"
     ]
    },
    {
     "name": "stderr",
     "output_type": "stream",
     "text": [
      "/home/dmlab/anaconda3/lib/python3.6/site-packages/sklearn/utils/validation.py:761: DataConversionWarning: A column-vector y was passed when a 1d array was expected. Please change the shape of y to (n_samples, ), for example using ravel().\n",
      "  y = column_or_1d(y, warn=True)\n"
     ]
    },
    {
     "name": "stdout",
     "output_type": "stream",
     "text": [
      "@ nsubj amod obl conj-nsubj advmod-nsubj amod-conj amod-obj & -conj-nsubj => 0.31079775\n"
     ]
    },
    {
     "name": "stderr",
     "output_type": "stream",
     "text": [
      "/home/dmlab/anaconda3/lib/python3.6/site-packages/sklearn/utils/validation.py:761: DataConversionWarning: A column-vector y was passed when a 1d array was expected. Please change the shape of y to (n_samples, ), for example using ravel().\n",
      "  y = column_or_1d(y, warn=True)\n"
     ]
    },
    {
     "name": "stdout",
     "output_type": "stream",
     "text": [
      "@ nsubj amod obl conj-nsubj advmod-nsubj amod-conj amod-obj & -advmod-nsubj => 0.31079775\n"
     ]
    },
    {
     "name": "stderr",
     "output_type": "stream",
     "text": [
      "/home/dmlab/anaconda3/lib/python3.6/site-packages/sklearn/utils/validation.py:761: DataConversionWarning: A column-vector y was passed when a 1d array was expected. Please change the shape of y to (n_samples, ), for example using ravel().\n",
      "  y = column_or_1d(y, warn=True)\n"
     ]
    },
    {
     "name": "stdout",
     "output_type": "stream",
     "text": [
      "@ nsubj amod obl conj-nsubj advmod-nsubj amod-conj amod-obj & -amod-conj => 0.33327295\n",
      "@ nsubj amod obl conj-nsubj advmod-nsubj amod-conj amod-obj & -amod-obj => 0.33327295\n"
     ]
    },
    {
     "name": "stderr",
     "output_type": "stream",
     "text": [
      "/home/dmlab/anaconda3/lib/python3.6/site-packages/sklearn/utils/validation.py:761: DataConversionWarning: A column-vector y was passed when a 1d array was expected. Please change the shape of y to (n_samples, ), for example using ravel().\n",
      "  y = column_or_1d(y, warn=True)\n"
     ]
    }
   ],
   "source": [
    "patterns1 = [item for item in pattern_list if item not in ['amod-obl']]\n",
    "x1 = make_df_including(patterns1)['tp'].values.reshape(-1,1)\n",
    "for pattern2 in patterns1:\n",
    "    patterns2 = [item for item in patterns1 if item not in [pattern2]]\n",
    "    x2 = make_df_including(patterns2)['tp'].values.reshape(-1,1)\n",
    "    print('@ %s & -%s => %.8f' % (' '.join(patterns1), pattern2, mutual_info_classif(x1, x2, discrete_features=[0])))"
   ]
  },
  {
   "cell_type": "markdown",
   "metadata": {},
   "source": [
    "우선 amod-conj, amod-obj만 빼보고 다시 확인해보자.   \n",
    "=> 전체 패턴에서 conj-nsubj, advmod-nsubj은 빠져도 된다. redundant하다."
   ]
  },
  {
   "cell_type": "code",
   "execution_count": 209,
   "metadata": {
    "collapsed": false
   },
   "outputs": [
    {
     "name": "stderr",
     "output_type": "stream",
     "text": [
      "/home/dmlab/anaconda3/lib/python3.6/site-packages/sklearn/utils/validation.py:761: DataConversionWarning: A column-vector y was passed when a 1d array was expected. Please change the shape of y to (n_samples, ), for example using ravel().\n",
      "  y = column_or_1d(y, warn=True)\n"
     ]
    },
    {
     "name": "stdout",
     "output_type": "stream",
     "text": [
      "@ nsubj amod obl conj-nsubj advmod-nsubj & -nsubj => 0.20208056\n"
     ]
    },
    {
     "name": "stderr",
     "output_type": "stream",
     "text": [
      "/home/dmlab/anaconda3/lib/python3.6/site-packages/sklearn/utils/validation.py:761: DataConversionWarning: A column-vector y was passed when a 1d array was expected. Please change the shape of y to (n_samples, ), for example using ravel().\n",
      "  y = column_or_1d(y, warn=True)\n"
     ]
    },
    {
     "name": "stdout",
     "output_type": "stream",
     "text": [
      "@ nsubj amod obl conj-nsubj advmod-nsubj & -amod => 0.16117380\n"
     ]
    },
    {
     "name": "stderr",
     "output_type": "stream",
     "text": [
      "/home/dmlab/anaconda3/lib/python3.6/site-packages/sklearn/utils/validation.py:761: DataConversionWarning: A column-vector y was passed when a 1d array was expected. Please change the shape of y to (n_samples, ), for example using ravel().\n",
      "  y = column_or_1d(y, warn=True)\n"
     ]
    },
    {
     "name": "stdout",
     "output_type": "stream",
     "text": [
      "@ nsubj amod obl conj-nsubj advmod-nsubj & -obl => 0.28225733\n"
     ]
    },
    {
     "name": "stderr",
     "output_type": "stream",
     "text": [
      "/home/dmlab/anaconda3/lib/python3.6/site-packages/sklearn/utils/validation.py:761: DataConversionWarning: A column-vector y was passed when a 1d array was expected. Please change the shape of y to (n_samples, ), for example using ravel().\n",
      "  y = column_or_1d(y, warn=True)\n"
     ]
    },
    {
     "name": "stdout",
     "output_type": "stream",
     "text": [
      "@ nsubj amod obl conj-nsubj advmod-nsubj & -conj-nsubj => 0.31079775\n",
      "@ nsubj amod obl conj-nsubj advmod-nsubj & -advmod-nsubj => 0.31079775\n"
     ]
    },
    {
     "name": "stderr",
     "output_type": "stream",
     "text": [
      "/home/dmlab/anaconda3/lib/python3.6/site-packages/sklearn/utils/validation.py:761: DataConversionWarning: A column-vector y was passed when a 1d array was expected. Please change the shape of y to (n_samples, ), for example using ravel().\n",
      "  y = column_or_1d(y, warn=True)\n"
     ]
    }
   ],
   "source": [
    "patterns1 = [item for item in pattern_list if item not in ['amod-obl', 'amod-conj', 'amod-obj']]\n",
    "x1 = make_df_including(patterns1)['tp'].values.reshape(-1,1)\n",
    "for pattern2 in patterns1:\n",
    "    patterns2 = [item for item in patterns1 if item not in [pattern2]]\n",
    "    x2 = make_df_including(patterns2)['tp'].values.reshape(-1,1)\n",
    "    print('@ %s & -%s => %.8f' % (' '.join(patterns1), pattern2, mutual_info_classif(x1, x2, discrete_features=[0])))"
   ]
  },
  {
   "cell_type": "markdown",
   "metadata": {},
   "source": [
    "우선 conj-nsubj, advmod-nsubj만 빼보고 다시 확인해보자.   \n",
    "=> 전체 패턴에서 conj-nsubj, advmod-nsubj은 빠져도 된다. redundant하다."
   ]
  },
  {
   "cell_type": "code",
   "execution_count": 211,
   "metadata": {
    "collapsed": false
   },
   "outputs": [
    {
     "name": "stderr",
     "output_type": "stream",
     "text": [
      "/home/dmlab/anaconda3/lib/python3.6/site-packages/sklearn/utils/validation.py:761: DataConversionWarning: A column-vector y was passed when a 1d array was expected. Please change the shape of y to (n_samples, ), for example using ravel().\n",
      "  y = column_or_1d(y, warn=True)\n"
     ]
    },
    {
     "name": "stdout",
     "output_type": "stream",
     "text": [
      "@ nsubj amod obl & -nsubj => 0.14585260\n"
     ]
    },
    {
     "name": "stderr",
     "output_type": "stream",
     "text": [
      "/home/dmlab/anaconda3/lib/python3.6/site-packages/sklearn/utils/validation.py:761: DataConversionWarning: A column-vector y was passed when a 1d array was expected. Please change the shape of y to (n_samples, ), for example using ravel().\n",
      "  y = column_or_1d(y, warn=True)\n"
     ]
    },
    {
     "name": "stdout",
     "output_type": "stream",
     "text": [
      "@ nsubj amod obl & -amod => 0.14585260\n",
      "@ nsubj amod obl & -obl => 0.26718065\n"
     ]
    },
    {
     "name": "stderr",
     "output_type": "stream",
     "text": [
      "/home/dmlab/anaconda3/lib/python3.6/site-packages/sklearn/utils/validation.py:761: DataConversionWarning: A column-vector y was passed when a 1d array was expected. Please change the shape of y to (n_samples, ), for example using ravel().\n",
      "  y = column_or_1d(y, warn=True)\n"
     ]
    }
   ],
   "source": [
    "patterns1 = [item for item in pattern_list if item not in ['amod-obl', 'amod-conj', 'amod-obj', 'advmod-nsubj', 'conj-nsubj']]\n",
    "x1 = make_df_including(patterns1)['tp'].values.reshape(-1,1)\n",
    "for pattern2 in patterns1:\n",
    "    patterns2 = [item for item in patterns1 if item not in [pattern2]]\n",
    "    x2 = make_df_including(patterns2)['tp'].values.reshape(-1,1)\n",
    "    print('@ %s & -%s => %.8f' % (' '.join(patterns1), pattern2, mutual_info_classif(x1, x2, discrete_features=[0])))"
   ]
  },
  {
   "cell_type": "code",
   "execution_count": null,
   "metadata": {
    "collapsed": true
   },
   "outputs": [],
   "source": []
  },
  {
   "cell_type": "code",
   "execution_count": null,
   "metadata": {
    "collapsed": true
   },
   "outputs": [],
   "source": []
  },
  {
   "cell_type": "markdown",
   "metadata": {},
   "source": [
    "amod는 nsubj와 가장 독립적인 feature임"
   ]
  },
  {
   "cell_type": "code",
   "execution_count": 197,
   "metadata": {
    "collapsed": false
   },
   "outputs": [
    {
     "name": "stderr",
     "output_type": "stream",
     "text": [
      "/home/dmlab/anaconda3/lib/python3.6/site-packages/sklearn/utils/validation.py:761: DataConversionWarning: A column-vector y was passed when a 1d array was expected. Please change the shape of y to (n_samples, ), for example using ravel().\n",
      "  y = column_or_1d(y, warn=True)\n"
     ]
    },
    {
     "name": "stdout",
     "output_type": "stream",
     "text": [
      "@ nsubj & +amod => 0.1246\n"
     ]
    },
    {
     "name": "stderr",
     "output_type": "stream",
     "text": [
      "/home/dmlab/anaconda3/lib/python3.6/site-packages/sklearn/utils/validation.py:761: DataConversionWarning: A column-vector y was passed when a 1d array was expected. Please change the shape of y to (n_samples, ), for example using ravel().\n",
      "  y = column_or_1d(y, warn=True)\n"
     ]
    },
    {
     "name": "stdout",
     "output_type": "stream",
     "text": [
      "@ nsubj & +obl => 0.1607\n"
     ]
    },
    {
     "name": "stderr",
     "output_type": "stream",
     "text": [
      "/home/dmlab/anaconda3/lib/python3.6/site-packages/sklearn/utils/validation.py:761: DataConversionWarning: A column-vector y was passed when a 1d array was expected. Please change the shape of y to (n_samples, ), for example using ravel().\n",
      "  y = column_or_1d(y, warn=True)\n"
     ]
    },
    {
     "name": "stdout",
     "output_type": "stream",
     "text": [
      "@ nsubj & +conj-nsubj => 0.1730\n"
     ]
    },
    {
     "name": "stderr",
     "output_type": "stream",
     "text": [
      "/home/dmlab/anaconda3/lib/python3.6/site-packages/sklearn/utils/validation.py:761: DataConversionWarning: A column-vector y was passed when a 1d array was expected. Please change the shape of y to (n_samples, ), for example using ravel().\n",
      "  y = column_or_1d(y, warn=True)\n"
     ]
    },
    {
     "name": "stdout",
     "output_type": "stream",
     "text": [
      "@ nsubj & +advmod-nsubj => 0.1730\n"
     ]
    },
    {
     "name": "stderr",
     "output_type": "stream",
     "text": [
      "/home/dmlab/anaconda3/lib/python3.6/site-packages/sklearn/utils/validation.py:761: DataConversionWarning: A column-vector y was passed when a 1d array was expected. Please change the shape of y to (n_samples, ), for example using ravel().\n",
      "  y = column_or_1d(y, warn=True)\n"
     ]
    },
    {
     "name": "stdout",
     "output_type": "stream",
     "text": [
      "@ nsubj & +amod-conj => 0.1730\n"
     ]
    },
    {
     "name": "stderr",
     "output_type": "stream",
     "text": [
      "/home/dmlab/anaconda3/lib/python3.6/site-packages/sklearn/utils/validation.py:761: DataConversionWarning: A column-vector y was passed when a 1d array was expected. Please change the shape of y to (n_samples, ), for example using ravel().\n",
      "  y = column_or_1d(y, warn=True)\n"
     ]
    },
    {
     "name": "stdout",
     "output_type": "stream",
     "text": [
      "@ nsubj & +amod-obj => 0.1854\n",
      "@ nsubj & +amod-obl => 0.1800\n"
     ]
    },
    {
     "name": "stderr",
     "output_type": "stream",
     "text": [
      "/home/dmlab/anaconda3/lib/python3.6/site-packages/sklearn/utils/validation.py:761: DataConversionWarning: A column-vector y was passed when a 1d array was expected. Please change the shape of y to (n_samples, ), for example using ravel().\n",
      "  y = column_or_1d(y, warn=True)\n"
     ]
    }
   ],
   "source": [
    "def sum_tps(content, except_one_pattern):\n",
    "    df = concat_df[concat_df['pattern']!=except_one_pattern]\n",
    "    return df[df['content']==content]['tp'].sum()\n",
    "    \n",
    "def make_df(except_one_pattern):\n",
    "    df = pd.DataFrame(concat_df[concat_df['pattern']==concat_df['pattern'].unique()[0]]['content'])\n",
    "    df['tp'] = df.apply(lambda x: sum_tps(x['content'], except_one_pattern), axis=1)\n",
    "    df['tp'] = df.apply(lambda row: 1 if row['tp']>0 else 0, axis=1)\n",
    "    return df.sort_values(by='content')\n",
    "\n",
    "def sum_tps_including(content, include_patterns):\n",
    "    df = concat_df[concat_df['pattern'].isin(include_patterns)]\n",
    "    return df[df['content']==content]['tp'].sum()\n",
    "\n",
    "def make_df_including(include_patterns):\n",
    "    df = pd.DataFrame(concat_df[concat_df['pattern']==concat_df['pattern'].unique()[0]]['content'])\n",
    "    df['tp'] = df.apply(lambda x: sum_tps_including(x['content'], include_patterns), axis=1)\n",
    "    df['tp'] = df.apply(lambda row: 1 if row['tp']>0 else 0, axis=1)\n",
    "    return df.sort_values(by='content')\n",
    "\n",
    "current_idx = 0\n",
    "current_pattern = pattern_list[current_idx]\n",
    "next_five = pattern_list[current_idx+1:current_idx+6]\n",
    "whole_patterns_df = whole_patterns_df.sort_values(by='content')\n",
    "\n",
    "pattern1 = 'nsubj'\n",
    "x1 = make_df_including([pattern1])['tp'].values.reshape(-1,1)\n",
    "for pattern2 in pattern_list:\n",
    "    if pattern1 == pattern2: continue\n",
    "    #except_one_pattern_df = make_df(pattern2)\n",
    "    #x1 = whole_patterns_df['tp'].values.reshape(-1,1)\n",
    "    #x2 = except_one_pattern_df['tp'].values.reshape(-1,1)\n",
    "    x2 = make_df_including([pattern1, pattern2])['tp'].values.reshape(-1,1)\n",
    "    print('@ %s & +%s => %.4f' % (pattern1, pattern2, mutual_info_classif(x1, x2, discrete_features=[0])))"
   ]
  },
  {
   "cell_type": "markdown",
   "metadata": {},
   "source": [
    "obl은 nsubj+amod와 가장 독립적인 feature임"
   ]
  },
  {
   "cell_type": "code",
   "execution_count": 198,
   "metadata": {
    "collapsed": false
   },
   "outputs": [
    {
     "name": "stderr",
     "output_type": "stream",
     "text": [
      "/home/dmlab/anaconda3/lib/python3.6/site-packages/sklearn/utils/validation.py:761: DataConversionWarning: A column-vector y was passed when a 1d array was expected. Please change the shape of y to (n_samples, ), for example using ravel().\n",
      "  y = column_or_1d(y, warn=True)\n"
     ]
    },
    {
     "name": "stdout",
     "output_type": "stream",
     "text": [
      "nsubj amod & +obl => 0.2672\n"
     ]
    },
    {
     "name": "stderr",
     "output_type": "stream",
     "text": [
      "/home/dmlab/anaconda3/lib/python3.6/site-packages/sklearn/utils/validation.py:761: DataConversionWarning: A column-vector y was passed when a 1d array was expected. Please change the shape of y to (n_samples, ), for example using ravel().\n",
      "  y = column_or_1d(y, warn=True)\n"
     ]
    },
    {
     "name": "stdout",
     "output_type": "stream",
     "text": [
      "nsubj amod & +conj-nsubj => 0.2828\n"
     ]
    },
    {
     "name": "stderr",
     "output_type": "stream",
     "text": [
      "/home/dmlab/anaconda3/lib/python3.6/site-packages/sklearn/utils/validation.py:761: DataConversionWarning: A column-vector y was passed when a 1d array was expected. Please change the shape of y to (n_samples, ), for example using ravel().\n",
      "  y = column_or_1d(y, warn=True)\n"
     ]
    },
    {
     "name": "stdout",
     "output_type": "stream",
     "text": [
      "nsubj amod & +advmod-nsubj => 0.2828\n"
     ]
    },
    {
     "name": "stderr",
     "output_type": "stream",
     "text": [
      "/home/dmlab/anaconda3/lib/python3.6/site-packages/sklearn/utils/validation.py:761: DataConversionWarning: A column-vector y was passed when a 1d array was expected. Please change the shape of y to (n_samples, ), for example using ravel().\n",
      "  y = column_or_1d(y, warn=True)\n"
     ]
    },
    {
     "name": "stdout",
     "output_type": "stream",
     "text": [
      "nsubj amod & +amod-conj => 0.2974\n"
     ]
    },
    {
     "name": "stderr",
     "output_type": "stream",
     "text": [
      "/home/dmlab/anaconda3/lib/python3.6/site-packages/sklearn/utils/validation.py:761: DataConversionWarning: A column-vector y was passed when a 1d array was expected. Please change the shape of y to (n_samples, ), for example using ravel().\n",
      "  y = column_or_1d(y, warn=True)\n"
     ]
    },
    {
     "name": "stdout",
     "output_type": "stream",
     "text": [
      "nsubj amod & +amod-obj => 0.2974\n",
      "nsubj amod & +amod-obl => 0.2974\n"
     ]
    },
    {
     "name": "stderr",
     "output_type": "stream",
     "text": [
      "/home/dmlab/anaconda3/lib/python3.6/site-packages/sklearn/utils/validation.py:761: DataConversionWarning: A column-vector y was passed when a 1d array was expected. Please change the shape of y to (n_samples, ), for example using ravel().\n",
      "  y = column_or_1d(y, warn=True)\n"
     ]
    }
   ],
   "source": [
    "p1, p2 = 'nsubj', 'amod'\n",
    "x1 = make_df_including([p1, p2])['tp'].values.reshape(-1,1)\n",
    "for p3 in pattern_list:\n",
    "    if p3 in [p1, p2]: continue\n",
    "    #except_one_pattern_df = make_df(pattern2)\n",
    "    #x1 = whole_patterns_df['tp'].values.reshape(-1,1)\n",
    "    #x2 = except_one_pattern_df['tp'].values.reshape(-1,1)\n",
    "    x2 = make_df_including([p1, p2, p3])['tp'].values.reshape(-1,1)\n",
    "    print('%s & +%s => %.4f' % (' '.join([p1,p2]), p3, mutual_info_classif(x1, x2, discrete_features=[0])))"
   ]
  },
  {
   "cell_type": "markdown",
   "metadata": {},
   "source": [
    "conj-nsubj은 nsubj+amod+obl와 가장 독립적인 feature임"
   ]
  },
  {
   "cell_type": "code",
   "execution_count": 199,
   "metadata": {
    "collapsed": false
   },
   "outputs": [
    {
     "name": "stderr",
     "output_type": "stream",
     "text": [
      "/home/dmlab/anaconda3/lib/python3.6/site-packages/sklearn/utils/validation.py:761: DataConversionWarning: A column-vector y was passed when a 1d array was expected. Please change the shape of y to (n_samples, ), for example using ravel().\n",
      "  y = column_or_1d(y, warn=True)\n"
     ]
    },
    {
     "name": "stdout",
     "output_type": "stream",
     "text": [
      "nsubj amod obl & +conj-nsubj => 0.3033\n"
     ]
    },
    {
     "name": "stderr",
     "output_type": "stream",
     "text": [
      "/home/dmlab/anaconda3/lib/python3.6/site-packages/sklearn/utils/validation.py:761: DataConversionWarning: A column-vector y was passed when a 1d array was expected. Please change the shape of y to (n_samples, ), for example using ravel().\n",
      "  y = column_or_1d(y, warn=True)\n"
     ]
    },
    {
     "name": "stdout",
     "output_type": "stream",
     "text": [
      "nsubj amod obl & +advmod-nsubj => 0.3033\n"
     ]
    },
    {
     "name": "stderr",
     "output_type": "stream",
     "text": [
      "/home/dmlab/anaconda3/lib/python3.6/site-packages/sklearn/utils/validation.py:761: DataConversionWarning: A column-vector y was passed when a 1d array was expected. Please change the shape of y to (n_samples, ), for example using ravel().\n",
      "  y = column_or_1d(y, warn=True)\n"
     ]
    },
    {
     "name": "stdout",
     "output_type": "stream",
     "text": [
      "nsubj amod obl & +amod-conj => 0.3183\n"
     ]
    },
    {
     "name": "stderr",
     "output_type": "stream",
     "text": [
      "/home/dmlab/anaconda3/lib/python3.6/site-packages/sklearn/utils/validation.py:761: DataConversionWarning: A column-vector y was passed when a 1d array was expected. Please change the shape of y to (n_samples, ), for example using ravel().\n",
      "  y = column_or_1d(y, warn=True)\n"
     ]
    },
    {
     "name": "stdout",
     "output_type": "stream",
     "text": [
      "nsubj amod obl & +amod-obj => 0.3183\n",
      "nsubj amod obl & +amod-obl => 0.3183\n"
     ]
    },
    {
     "name": "stderr",
     "output_type": "stream",
     "text": [
      "/home/dmlab/anaconda3/lib/python3.6/site-packages/sklearn/utils/validation.py:761: DataConversionWarning: A column-vector y was passed when a 1d array was expected. Please change the shape of y to (n_samples, ), for example using ravel().\n",
      "  y = column_or_1d(y, warn=True)\n"
     ]
    }
   ],
   "source": [
    "p1, p2, p3 = 'nsubj', 'amod', 'obl'\n",
    "x1 = make_df_including([p1, p2, p3])['tp'].values.reshape(-1,1)\n",
    "for p4 in pattern_list:\n",
    "    if p4 in [p1, p2, p3]: continue\n",
    "    #except_one_pattern_df = make_df(pattern2)\n",
    "    #x1 = whole_patterns_df['tp'].values.reshape(-1,1)\n",
    "    #x2 = except_one_pattern_df['tp'].values.reshape(-1,1)\n",
    "    x2 = make_df_including([p1, p2, p3, p4])['tp'].values.reshape(-1,1)\n",
    "    print('%s & +%s => %.4f' % (' '.join([p1,p2, p3]), p4, mutual_info_classif(x1, x2, discrete_features=[0])))"
   ]
  },
  {
   "cell_type": "code",
   "execution_count": 200,
   "metadata": {
    "collapsed": false
   },
   "outputs": [
    {
     "name": "stderr",
     "output_type": "stream",
     "text": [
      "/home/dmlab/anaconda3/lib/python3.6/site-packages/sklearn/utils/validation.py:761: DataConversionWarning: A column-vector y was passed when a 1d array was expected. Please change the shape of y to (n_samples, ), for example using ravel().\n",
      "  y = column_or_1d(y, warn=True)\n"
     ]
    },
    {
     "name": "stdout",
     "output_type": "stream",
     "text": [
      "nsubj amod obl conj-nsubj & +advmod-nsubj => 0.3258\n"
     ]
    },
    {
     "name": "stderr",
     "output_type": "stream",
     "text": [
      "/home/dmlab/anaconda3/lib/python3.6/site-packages/sklearn/utils/validation.py:761: DataConversionWarning: A column-vector y was passed when a 1d array was expected. Please change the shape of y to (n_samples, ), for example using ravel().\n",
      "  y = column_or_1d(y, warn=True)\n"
     ]
    },
    {
     "name": "stdout",
     "output_type": "stream",
     "text": [
      "nsubj amod obl conj-nsubj & +amod-conj => 0.3258\n"
     ]
    },
    {
     "name": "stderr",
     "output_type": "stream",
     "text": [
      "/home/dmlab/anaconda3/lib/python3.6/site-packages/sklearn/utils/validation.py:761: DataConversionWarning: A column-vector y was passed when a 1d array was expected. Please change the shape of y to (n_samples, ), for example using ravel().\n",
      "  y = column_or_1d(y, warn=True)\n"
     ]
    },
    {
     "name": "stdout",
     "output_type": "stream",
     "text": [
      "nsubj amod obl conj-nsubj & +amod-obj => 0.3258\n",
      "nsubj amod obl conj-nsubj & +amod-obl => 0.3258\n"
     ]
    },
    {
     "name": "stderr",
     "output_type": "stream",
     "text": [
      "/home/dmlab/anaconda3/lib/python3.6/site-packages/sklearn/utils/validation.py:761: DataConversionWarning: A column-vector y was passed when a 1d array was expected. Please change the shape of y to (n_samples, ), for example using ravel().\n",
      "  y = column_or_1d(y, warn=True)\n"
     ]
    }
   ],
   "source": [
    "x1 = make_df_including(pattern_list[:4])['tp'].values.reshape(-1,1)\n",
    "for p5 in pattern_list:\n",
    "    if p5 in pattern_list[:4]: continue\n",
    "    #except_one_pattern_df = make_df(pattern2)\n",
    "    #x1 = whole_patterns_df['tp'].values.reshape(-1,1)\n",
    "    #x2 = except_one_pattern_df['tp'].values.reshape(-1,1)\n",
    "    x2 = make_df_including(pattern_list[:4])['tp'].values.reshape(-1,1)\n",
    "    print('%s & +%s => %.4f' % (' '.join(pattern_list[:4]), p5, mutual_info_classif(x1, x2, discrete_features=[0])))"
   ]
  }
 ],
 "metadata": {
  "kernelspec": {
   "display_name": "Python 3",
   "language": "python",
   "name": "python3"
  },
  "language_info": {
   "codemirror_mode": {
    "name": "ipython",
    "version": 3
   },
   "file_extension": ".py",
   "mimetype": "text/x-python",
   "name": "python",
   "nbconvert_exporter": "python",
   "pygments_lexer": "ipython3",
   "version": "3.6.9"
  }
 },
 "nbformat": 4,
 "nbformat_minor": 2
}
