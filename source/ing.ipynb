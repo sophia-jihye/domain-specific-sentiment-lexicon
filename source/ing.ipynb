{
 "cells": [
  {
   "cell_type": "code",
   "execution_count": 42,
   "metadata": {
    "collapsed": true
   },
   "outputs": [],
   "source": [
    "from collections import defaultdict, namedtuple"
   ]
  },
  {
   "cell_type": "code",
   "execution_count": 93,
   "metadata": {
    "collapsed": false
   },
   "outputs": [
    {
     "name": "stdout",
     "output_type": "stream",
     "text": [
      "Use device: cpu\n",
      "---\n",
      "Loading: tokenize\n",
      "With settings: \n",
      "{'model_path': '/home/dmlab/stanfordnlp_resources/en_ewt_models/en_ewt_tokenizer.pt', 'lang': 'en', 'shorthand': 'en_ewt', 'mode': 'predict'}\n",
      "---\n",
      "Loading: pos\n",
      "With settings: \n",
      "{'model_path': '/home/dmlab/stanfordnlp_resources/en_ewt_models/en_ewt_tagger.pt', 'pretrain_path': '/home/dmlab/stanfordnlp_resources/en_ewt_models/en_ewt.pretrain.pt', 'lang': 'en', 'shorthand': 'en_ewt', 'mode': 'predict'}\n",
      "---\n",
      "Loading: lemma\n",
      "With settings: \n",
      "{'model_path': '/home/dmlab/stanfordnlp_resources/en_ewt_models/en_ewt_lemmatizer.pt', 'lang': 'en', 'shorthand': 'en_ewt', 'mode': 'predict'}\n",
      "Building an attentional Seq2Seq model...\n",
      "Using a Bi-LSTM encoder\n",
      "Using soft attention for LSTM.\n",
      "Finetune all embeddings.\n",
      "[Running seq2seq lemmatizer with edit classifier]\n",
      "---\n",
      "Loading: depparse\n",
      "With settings: \n",
      "{'model_path': '/home/dmlab/stanfordnlp_resources/en_ewt_models/en_ewt_parser.pt', 'pretrain_path': '/home/dmlab/stanfordnlp_resources/en_ewt_models/en_ewt.pretrain.pt', 'lang': 'en', 'shorthand': 'en_ewt', 'mode': 'predict'}\n",
      "Done loading processors!\n",
      "---\n"
     ]
    }
   ],
   "source": [
    "import networkx as nx\n",
    "import stanfordnlp\n",
    "nlp = stanfordnlp.Pipeline() "
   ]
  },
  {
   "cell_type": "code",
   "execution_count": 143,
   "metadata": {
    "collapsed": true
   },
   "outputs": [],
   "source": [
    "def governor2idx(old_idx):\n",
    "    if old_idx == 0:\n",
    "        return None\n",
    "    return old_idx -1\n",
    "\n",
    "Node = namedtuple(\"Node\", [\"idx\", \"token\", \"pos\", \"dep\", \"governor\"])\n",
    "def parse_sentence(sentence):\n",
    "    token2idx, nodes = defaultdict(lambda: []), []\n",
    "    parsed_sent = sentence.dependencies\n",
    "    for i in range(len(parsed_sent)):\n",
    "        token2idx[parsed_sent[i][2].text].append(i)\n",
    "        node = Node(i, parsed_sent[i][2].text, parsed_sent[i][2].xpos, parsed_sent[i][2].dependency_relation, governor2idx(parsed_sent[i][2].governor))\n",
    "        nodes.append(node)\n",
    "    return token2idx, nodes\n",
    "\n",
    "NN = ['NN', 'NNS', 'NNP']\n",
    "def compound(new_targets, token2idx, nodes):\n",
    "    to_be_deleted, to_be_added = set(), set()\n",
    "    for target in new_targets:\n",
    "        comp_child_nodes = [nodes[i] for i in range(len(nodes)) if nodes[i].governor in token2idx[target] and nodes[i].dep=='compound' and nodes[i].pos in NN]\n",
    "        if len(comp_child_nodes) > 0:\n",
    "            to_be_deleted.add(target)\n",
    "            for child_node in comp_child_nodes:\n",
    "                to_be_added.add(' '.join([child_node.token, target]))\n",
    "    for item in to_be_deleted:\n",
    "        new_targets.remove(item)\n",
    "    for item in to_be_added:\n",
    "        new_targets.add(item)\n",
    "\n",
    "def handle_hyphen(hyphenated_word, token2idx, nodes):\n",
    "    indices = []\n",
    "    for token in hyphenated_word.split('-'):\n",
    "        indices.extend(token2idx[token])\n",
    "    root_words = [nodes[i].token for i in indices if nodes[i].governor not in indices]\n",
    "    return root_words[0]        \n",
    "    \n",
    "def print_(sample, o_word, t_word):\n",
    "    doc = nlp(sample)\n",
    "    token2idx, nodes = parse_sentence(doc.sentences[0])\n",
    "    \n",
    "    edges = []\n",
    "    token2tagdep = {}\n",
    "    for token in doc.sentences[0].dependencies:\n",
    "        token2tagdep[token[2].text]=(token[2].xpos, token[2].dependency_relation)\n",
    "        if token[0].text.lower() != 'root':\n",
    "            edges.append((token[0].text, token[2].text))\n",
    "    graph = nx.Graph(edges)\n",
    "    \n",
    "    print('\\n===\\nedges:', edges)\n",
    "    \n",
    "    entity1, entity2 = o_word, t_word\n",
    "    try: print('shortest path length:', nx.shortest_path_length(graph, source=entity1, target=entity2))\n",
    "    except:\n",
    "        entity1 = handle_hyphen(o_word, token2idx, nodes)\n",
    "        print('shortest path length:', nx.shortest_path_length(graph, source=entity1, target=entity2))\n",
    "        \n",
    "    shortest_path = nx.shortest_path(graph, source=entity1, target=entity2)\n",
    "    print('shortest path:', shortest_path)\n",
    "    print('token2tagdep edges:', token2tagdep)\n",
    "    print('\\n', [token2tagdep[token] for token in shortest_path])\n",
    "    \n",
    "    new_targets = set([t_word])\n",
    "    compound(new_targets, token2idx, nodes)\n",
    "    print(new_targets)\n",
    "    return new_targets"
   ]
  },
  {
   "cell_type": "code",
   "execution_count": 144,
   "metadata": {
    "collapsed": false
   },
   "outputs": [
    {
     "name": "stdout",
     "output_type": "stream",
     "text": [
      "\n",
      "===\n",
      "edges: [('easy', 'This'), ('easy', 'is'), ('easy', '-'), ('use', 'to'), ('use', '-'), ('easy', 'use')]\n",
      "shortest path length: 1\n",
      "shortest path: ['easy', 'This']\n",
      "token2tagdep edges: {'This': ('DT', 'nsubj'), 'is': ('VBZ', 'cop'), 'easy': ('JJ', 'root'), '-': ('HYPH', 'punct'), 'to': ('IN', 'compound'), 'use': ('VB', 'parataxis')}\n",
      "\n",
      " [('JJ', 'root'), ('DT', 'nsubj')]\n",
      "{'This'}\n"
     ]
    },
    {
     "name": "stderr",
     "output_type": "stream",
     "text": [
      "/pytorch/aten/src/ATen/native/TensorAdvancedIndexing.cpp:573: UserWarning: masked_fill_ received a mask with dtype torch.uint8, this behavior is now deprecated,please use a mask with dtype torch.bool instead.\n"
     ]
    },
    {
     "data": {
      "text/plain": [
       "{'This'}"
      ]
     },
     "execution_count": 144,
     "metadata": {},
     "output_type": "execute_result"
    }
   ],
   "source": [
    "print_('This is easy-to-use', 'easy-to-use', 'This')"
   ]
  },
  {
   "cell_type": "markdown",
   "metadata": {},
   "source": [
    "# Rule 1"
   ]
  },
  {
   "cell_type": "code",
   "execution_count": 35,
   "metadata": {
    "collapsed": false
   },
   "outputs": [
    {
     "name": "stdout",
     "output_type": "stream",
     "text": [
      "\n",
      "===\n",
      "edges: [('phone', 'The'), ('has', 'phone'), ('screen', 'a'), ('screen', 'good'), ('has', 'screen'), ('has', '.')]\n",
      "shortest path length: 1\n",
      "shortest path: ['good', 'screen']\n",
      "token2tagdep edges: {'The': ('DT', 'det'), 'phone': ('NN', 'nsubj'), 'has': ('VBZ', 'root'), 'a': ('DT', 'det'), 'good': ('JJ', 'amod'), 'screen': ('NN', 'obj'), '.': ('.', 'punct')}\n",
      "\n",
      " [('JJ', 'amod'), ('NN', 'obj')]\n",
      "\n",
      "===\n",
      "edges: [('pleased', 'I'), ('pleased', 'am'), ('pleased', 'not'), ('quality', 'with'), ('quality', 'the'), ('quality', 'picture'), ('pleased', 'quality'), ('pleased', '.')]\n",
      "shortest path length: 2\n",
      "shortest path: ['pleased', 'quality', 'picture']\n",
      "token2tagdep edges: {'I': ('PRP', 'nsubj'), 'am': ('VBP', 'cop'), 'not': ('RB', 'advmod'), 'pleased': ('JJ', 'root'), 'with': ('IN', 'case'), 'the': ('DT', 'det'), 'picture': ('NN', 'compound'), 'quality': ('NN', 'obl'), '.': ('.', 'punct')}\n",
      "\n",
      " [('JJ', 'root'), ('NN', 'obl'), ('NN', 'compound')]\n"
     ]
    },
    {
     "name": "stderr",
     "output_type": "stream",
     "text": [
      "/pytorch/aten/src/ATen/native/TensorAdvancedIndexing.cpp:573: UserWarning: masked_fill_ received a mask with dtype torch.uint8, this behavior is now deprecated,please use a mask with dtype torch.bool instead.\n",
      "/pytorch/aten/src/ATen/native/TensorAdvancedIndexing.cpp:573: UserWarning: masked_fill_ received a mask with dtype torch.uint8, this behavior is now deprecated,please use a mask with dtype torch.bool instead.\n"
     ]
    }
   ],
   "source": [
    "print_('The phone has a good screen.', 'good', 'screen')"
   ]
  },
  {
   "cell_type": "markdown",
   "metadata": {},
   "source": [
    "# Compound 처리 필요"
   ]
  },
  {
   "cell_type": "code",
   "execution_count": 116,
   "metadata": {
    "collapsed": false
   },
   "outputs": [
    {
     "name": "stdout",
     "output_type": "stream",
     "text": [
      "\n",
      "===\n",
      "edges: [('new', 'This'), ('new', 'is'), ('new', '.')]\n",
      "shortest path length: 1\n",
      "shortest path: ['new', 'This']\n",
      "token2tagdep edges: {'This': ('DT', 'nsubj'), 'is': ('VBZ', 'cop'), 'new': ('JJ', 'root'), '.': ('.', 'punct')}\n",
      "\n",
      " [('JJ', 'root'), ('DT', 'nsubj')]\n",
      "{'This'}\n"
     ]
    },
    {
     "name": "stderr",
     "output_type": "stream",
     "text": [
      "/pytorch/aten/src/ATen/native/TensorAdvancedIndexing.cpp:573: UserWarning: masked_fill_ received a mask with dtype torch.uint8, this behavior is now deprecated,please use a mask with dtype torch.bool instead.\n"
     ]
    },
    {
     "data": {
      "text/plain": [
       "{'This'}"
      ]
     },
     "execution_count": 116,
     "metadata": {},
     "output_type": "execute_result"
    }
   ],
   "source": [
    "# temp\n",
    "o_word = 'new'\n",
    "print_('This is %s.' % o_word, o_word, 'This')   # easy-to-use"
   ]
  },
  {
   "cell_type": "code",
   "execution_count": 59,
   "metadata": {
    "collapsed": false
   },
   "outputs": [
    {
     "name": "stdout",
     "output_type": "stream",
     "text": [
      "\n",
      "===\n",
      "edges: [('quality', 'The'), ('quality', 'photo'), ('amazing', 'quality'), ('amazing', 'is'), ('amazing', '.')]\n",
      "shortest path length: 1\n",
      "shortest path: ['amazing', 'quality']\n",
      "token2tagdep edges: {'The': ('DT', 'det'), 'photo': ('NN', 'compound'), 'quality': ('NN', 'nsubj'), 'is': ('VBZ', 'cop'), 'amazing': ('JJ', 'root'), '.': ('.', 'punct')}\n",
      "\n",
      " [('JJ', 'root'), ('NN', 'nsubj')]\n",
      "{'photo quality'}\n",
      "\n",
      "===\n",
      "edges: [('pleased', 'I'), ('pleased', 'am'), ('pleased', 'not'), ('quality', 'with'), ('quality', 'the'), ('quality', 'picture'), ('pleased', 'quality'), ('pleased', '.')]\n",
      "shortest path length: 1\n",
      "shortest path: ['pleased', 'quality']\n",
      "token2tagdep edges: {'I': ('PRP', 'nsubj'), 'am': ('VBP', 'cop'), 'not': ('RB', 'advmod'), 'pleased': ('JJ', 'root'), 'with': ('IN', 'case'), 'the': ('DT', 'det'), 'picture': ('NN', 'compound'), 'quality': ('NN', 'obl'), '.': ('.', 'punct')}\n",
      "\n",
      " [('JJ', 'root'), ('NN', 'obl')]\n",
      "{'picture quality'}\n",
      "\n",
      "===\n",
      "edges: [('software', 'The'), ('easy', 'software'), ('player', 'of'), ('player', 'the'), ('software', 'player'), ('easy', 'is'), ('easy', 'not'), ('easy', '-'), ('use', 'to'), ('use', '-'), ('easy', 'use'), ('easy', '.')]\n",
      "shortest path length: 1\n",
      "shortest path: ['easy', 'software']\n",
      "token2tagdep edges: {'The': ('DT', 'det'), 'software': ('NN', 'nsubj'), 'of': ('IN', 'case'), 'the': ('DT', 'det'), 'player': ('NN', 'nmod'), 'is': ('VBZ', 'cop'), 'not': ('RB', 'advmod'), 'easy': ('JJ', 'root'), '-': ('HYPH', 'punct'), 'to': ('IN', 'case'), 'use': ('VB', 'conj'), '.': ('.', 'punct')}\n",
      "\n",
      " [('JJ', 'root'), ('NN', 'nsubj')]\n",
      "{'software'}\n"
     ]
    },
    {
     "name": "stderr",
     "output_type": "stream",
     "text": [
      "/pytorch/aten/src/ATen/native/TensorAdvancedIndexing.cpp:573: UserWarning: masked_fill_ received a mask with dtype torch.uint8, this behavior is now deprecated,please use a mask with dtype torch.bool instead.\n",
      "/pytorch/aten/src/ATen/native/TensorAdvancedIndexing.cpp:573: UserWarning: masked_fill_ received a mask with dtype torch.uint8, this behavior is now deprecated,please use a mask with dtype torch.bool instead.\n",
      "/pytorch/aten/src/ATen/native/TensorAdvancedIndexing.cpp:573: UserWarning: masked_fill_ received a mask with dtype torch.uint8, this behavior is now deprecated,please use a mask with dtype torch.bool instead.\n"
     ]
    },
    {
     "data": {
      "text/plain": [
       "{'software'}"
      ]
     },
     "execution_count": 59,
     "metadata": {},
     "output_type": "execute_result"
    }
   ],
   "source": [
    "print_('The photo quality is amazing.', 'amazing', 'quality')   # photo quality\n",
    "print_('I am not pleased with the picture quality.', 'pleased', 'quality')   # picture quality\n",
    "print_('The software of the player is not easy-to-use.', 'easy', 'software')   # easy-to-use"
   ]
  },
  {
   "cell_type": "markdown",
   "metadata": {},
   "source": [
    "# Rule 2"
   ]
  },
  {
   "cell_type": "code",
   "execution_count": 31,
   "metadata": {
    "collapsed": false
   },
   "outputs": [
    {
     "name": "stdout",
     "output_type": "stream",
     "text": [
      "\n",
      "===\n",
      "edges: [('iPod', 'The'), ('player', 'iPod'), ('player', 'is'), ('player', 'the'), ('player', 'best'), ('player', 'mp3'), ('player', '.')]\n",
      "shortest path length: 2\n",
      "shortest path: ['best', 'player', 'iPod']\n",
      "token2tagdep edges: {'The': ('DT', 'det'), 'iPod': ('NNP', 'nsubj'), 'is': ('VBZ', 'cop'), 'the': ('DT', 'det'), 'best': ('JJS', 'amod'), 'mp3': ('NN', 'compound'), 'player': ('NN', 'root'), '.': ('.', 'punct')}\n",
      "\n",
      " [('JJS', 'amod'), ('NN', 'root'), ('NNP', 'nsubj')]\n"
     ]
    },
    {
     "name": "stderr",
     "output_type": "stream",
     "text": [
      "/pytorch/aten/src/ATen/native/TensorAdvancedIndexing.cpp:573: UserWarning: masked_fill_ received a mask with dtype torch.uint8, this behavior is now deprecated,please use a mask with dtype torch.bool instead.\n"
     ]
    }
   ],
   "source": [
    "print_('The iPod is the best mp3 player.', 'best', 'iPod')"
   ]
  },
  {
   "cell_type": "code",
   "execution_count": 27,
   "metadata": {
    "collapsed": false
   },
   "outputs": [
    {
     "name": "stdout",
     "output_type": "stream",
     "text": [
      "edges: [('camera', 'The'), ('has', 'camera'), ('set', 'a'), ('set', 'wonderful'), ('has', 'set'), ('features', 'of'), ('set', 'features'), ('has', '.')]\n",
      "shortest path length: 2\n",
      "shortest path: ['wonderful', 'set', 'features']\n",
      "token2tagdep edges: {'The': ('DT', 'det'), 'camera': ('NN', 'nsubj'), 'has': ('VBZ', 'root'), 'a': ('DT', 'det'), 'wonderful': ('JJ', 'amod'), 'set': ('NN', 'obj'), 'of': ('IN', 'case'), 'features': ('NNS', 'nmod'), '.': ('.', 'punct')}\n",
      "\n",
      " [('JJ', 'amod'), ('NN', 'obj'), ('NNS', 'nmod')]\n"
     ]
    },
    {
     "name": "stderr",
     "output_type": "stream",
     "text": [
      "/pytorch/aten/src/ATen/native/TensorAdvancedIndexing.cpp:573: UserWarning: masked_fill_ received a mask with dtype torch.uint8, this behavior is now deprecated,please use a mask with dtype torch.bool instead.\n"
     ]
    }
   ],
   "source": [
    "print_('The camera has a wonderful set of features.', 'wonderful', 'features')"
   ]
  }
 ],
 "metadata": {
  "kernelspec": {
   "display_name": "Python 3",
   "language": "python",
   "name": "python3"
  },
  "language_info": {
   "codemirror_mode": {
    "name": "ipython",
    "version": 3
   },
   "file_extension": ".py",
   "mimetype": "text/x-python",
   "name": "python",
   "nbconvert_exporter": "python",
   "pygments_lexer": "ipython3",
   "version": "3.6.9"
  }
 },
 "nbformat": 4,
 "nbformat_minor": 2
}
