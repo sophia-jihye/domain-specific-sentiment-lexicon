{
 "cells": [
  {
   "cell_type": "code",
   "execution_count": 2,
   "metadata": {
    "collapsed": false
   },
   "outputs": [
    {
     "name": "stdout",
     "output_type": "stream",
     "text": [
      "Use device: cpu\n",
      "---\n",
      "Loading: tokenize\n",
      "With settings: \n",
      "{'model_path': '/home/dmlab/stanfordnlp_resources/en_ewt_models/en_ewt_tokenizer.pt', 'lang': 'en', 'shorthand': 'en_ewt', 'mode': 'predict'}\n",
      "---\n",
      "Loading: pos\n",
      "With settings: \n",
      "{'model_path': '/home/dmlab/stanfordnlp_resources/en_ewt_models/en_ewt_tagger.pt', 'pretrain_path': '/home/dmlab/stanfordnlp_resources/en_ewt_models/en_ewt.pretrain.pt', 'lang': 'en', 'shorthand': 'en_ewt', 'mode': 'predict'}\n",
      "---\n",
      "Loading: lemma\n",
      "With settings: \n",
      "{'model_path': '/home/dmlab/stanfordnlp_resources/en_ewt_models/en_ewt_lemmatizer.pt', 'lang': 'en', 'shorthand': 'en_ewt', 'mode': 'predict'}\n",
      "Building an attentional Seq2Seq model...\n",
      "Using a Bi-LSTM encoder\n",
      "Using soft attention for LSTM.\n",
      "Finetune all embeddings.\n",
      "[Running seq2seq lemmatizer with edit classifier]\n",
      "---\n",
      "Loading: depparse\n",
      "With settings: \n",
      "{'model_path': '/home/dmlab/stanfordnlp_resources/en_ewt_models/en_ewt_parser.pt', 'pretrain_path': '/home/dmlab/stanfordnlp_resources/en_ewt_models/en_ewt.pretrain.pt', 'lang': 'en', 'shorthand': 'en_ewt', 'mode': 'predict'}\n",
      "Done loading processors!\n",
      "---\n"
     ]
    }
   ],
   "source": [
    "import networkx as nx\n",
    "import stanfordnlp\n",
    "nlp = stanfordnlp.Pipeline()"
   ]
  },
  {
   "cell_type": "code",
   "execution_count": 4,
   "metadata": {
    "collapsed": false
   },
   "outputs": [
    {
     "name": "stdout",
     "output_type": "stream",
     "text": [
      "edges: [('ipod', 'The'), ('player', 'iPod'), ('player', 'is'), ('player', 'the'), ('player', 'best'), ('player', 'mp3'), ('player', '.')]\n",
      "shortest path: 2\n",
      "shortest path: ['best', 'player', 'iPod']\n",
      "augmented edges: [(('ipod', 'NNP', 'nsubj'), ('the', 'DT', 'det')), (('player', 'NN', 'root'), ('ipod', 'NNP', 'nsubj')), (('player', 'NN', 'root'), ('is', 'VBZ', 'cop')), (('player', 'NN', 'root'), ('the', 'DT', 'det')), (('player', 'NN', 'root'), ('best', 'JJS', 'amod')), (('player', 'NN', 'root'), ('mp3', 'NN', 'compound')), (('player', 'NN', 'root'), ('.', '.', 'punct'))]\n"
     ]
    },
    {
     "name": "stderr",
     "output_type": "stream",
     "text": [
      "/pytorch/aten/src/ATen/native/TensorAdvancedIndexing.cpp:573: UserWarning: masked_fill_ received a mask with dtype torch.uint8, this behavior is now deprecated,please use a mask with dtype torch.bool instead.\n"
     ]
    }
   ],
   "source": [
    "sample = 'The iPod is the best mp3 player.'\n",
    "doc = nlp(sample)\n",
    "# Load stanfordnlp's dependency tree into a networkx graph\n",
    "edges = []\n",
    "augmented_edges = []\n",
    "for token in doc.sentences[0].dependencies:\n",
    "    if token[0].text.lower() != 'root':\n",
    "        edges.append((token[0].text.lower(), token[2].text))\n",
    "        augmented_edges.append(((token[0].text.lower(), token[0].xpos, token[0].dependency_relation),(token[2].text.lower(), token[2].xpos, token[2].dependency_relation)))\n",
    "graph = nx.Graph(edges)\n",
    "# Get the length and path\n",
    "entity1 = 'best'.lower()\n",
    "entity2 = 'iPod'\n",
    "print('edges:', edges)\n",
    "print('shortest path:', nx.shortest_path_length(graph, source=entity1, target=entity2))\n",
    "print('shortest path:', nx.shortest_path(graph, source=entity1, target=entity2))\n",
    "print('augmented edges:', augmented_edges)"
   ]
  },
  {
   "cell_type": "code",
   "execution_count": null,
   "metadata": {
    "collapsed": true
   },
   "outputs": [],
   "source": [
    "samples = ['This is easy-to-use.', 'This is all-around.', 'This is brand-new.', 'This is eye-catching.']\n",
    "for sample in samples:\n",
    "    doc = nlp(sample)\n",
    "    # Load stanfordnlp's dependency tree into a networkx graph\n",
    "    edges = []\n",
    "    augmented_edges = []\n",
    "    for token in doc.sentences[0].dependencies:\n",
    "        if token[0].text.lower() != 'root':\n",
    "            edges.append((token[0].text.lower(), token[2].text))\n",
    "            augmented_edges.append(((token[0].text.lower(), token[0].xpos, token[0].dependency_relation),(token[2].text.lower(), token[2].xpos, token[2].dependency_relation)))\n",
    "    graph = nx.Graph(edges)\n",
    "    # Get the length and path\n",
    "    entity1 = 'best'.lower()\n",
    "    entity2 = 'iPod'\n",
    "    print('edges:', edges)\n",
    "    print('shortest path:', nx.shortest_path_length(graph, source=entity1, target=entity2))\n",
    "    print('shortest path:', nx.shortest_path(graph, source=entity1, target=entity2))\n",
    "    print('augmented edges:', augmented_edges)"
   ]
  }
 ],
 "metadata": {
  "kernelspec": {
   "display_name": "Python 3",
   "language": "python",
   "name": "python3"
  },
  "language_info": {
   "codemirror_mode": {
    "name": "ipython",
    "version": 3
   },
   "file_extension": ".py",
   "mimetype": "text/x-python",
   "name": "python",
   "nbconvert_exporter": "python",
   "pygments_lexer": "ipython3",
   "version": "3.6.9"
  }
 },
 "nbformat": 4,
 "nbformat_minor": 2
}
