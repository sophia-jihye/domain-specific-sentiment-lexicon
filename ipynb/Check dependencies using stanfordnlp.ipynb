{
 "cells": [
  {
   "cell_type": "code",
   "execution_count": 64,
   "metadata": {
    "collapsed": false
   },
   "outputs": [
    {
     "name": "stdout",
     "output_type": "stream",
     "text": [
      "answkduf\n"
     ]
    },
    {
     "data": {
      "text/plain": [
       "False"
      ]
     },
     "execution_count": 64,
     "metadata": {},
     "output_type": "execute_result"
    }
   ],
   "source": [
    "import re\n",
    "number_pattern = re.compile('\\d+')\n",
    "def remove_number(word):\n",
    "    return number_pattern.sub('', word).strip()\n",
    "a =remove_number('abc')\n",
    "\n",
    "sample = \"123answkduf456\"\n",
    "number_pattern = re.compile(\"[^0-9]\")\n",
    "print(\"\".join(number_pattern.findall(sample)))\n",
    "\n",
    "bool(re.search(r'\\d', 'abcd'))"
   ]
  },
  {
   "cell_type": "markdown",
   "metadata": {},
   "source": [
    "# Spacy"
   ]
  },
  {
   "cell_type": "code",
   "execution_count": 10,
   "metadata": {
    "collapsed": false
   },
   "outputs": [],
   "source": [
    "import spacy\n",
    "from nltk import Tree\n",
    "\n",
    "def to_nltk_tree(node):\n",
    "    if node.n_lefts + node.n_rights > 0:\n",
    "        return Tree(node.orth_, [to_nltk_tree(child) for child in node.children])\n",
    "    else:\n",
    "        return node.orth_\n",
    "\n",
    "nlp_spacy = spacy.load('en_core_web_sm')"
   ]
  },
  {
   "cell_type": "code",
   "execution_count": 23,
   "metadata": {
    "collapsed": false
   },
   "outputs": [
    {
     "name": "stdout",
     "output_type": "stream",
     "text": [
      "         is                  \n",
      "    _____|_________           \n",
      "   |     |      quality      \n",
      "   |     |    _____|______    \n",
      "amazing  .  The         photo\n",
      "\n"
     ]
    },
    {
     "data": {
      "text/plain": [
       "[None]"
      ]
     },
     "execution_count": 23,
     "metadata": {},
     "output_type": "execute_result"
    }
   ],
   "source": [
    "sample = 'The photo quality is amazing.'\n",
    "doc = nlp_spacy(sample)\n",
    "[to_nltk_tree(sent.root).pretty_print() for sent in doc.sents]"
   ]
  },
  {
   "cell_type": "code",
   "execution_count": 27,
   "metadata": {
    "collapsed": false
   },
   "outputs": [
    {
     "name": "stdout",
     "output_type": "stream",
     "text": [
      "0 The DET DT det 2\n",
      "1 photo NOUN NN compound 2\n",
      "2 quality NOUN NN nsubj 3\n",
      "3 is VERB VBZ ROOT 3\n",
      "4 amazing ADJ JJ acomp 3\n",
      "5 . PUNCT . punct 3\n"
     ]
    }
   ],
   "source": [
    "for token in doc:\n",
    "    print(token.i, token.text, token.pos_, token.tag_, token.dep_, token.head.i)"
   ]
  },
  {
   "cell_type": "markdown",
   "metadata": {},
   "source": [
    "# Stanfordnlp"
   ]
  },
  {
   "cell_type": "code",
   "execution_count": 2,
   "metadata": {
    "collapsed": false
   },
   "outputs": [
    {
     "name": "stdout",
     "output_type": "stream",
     "text": [
      "Use device: cpu\n",
      "---\n",
      "Loading: tokenize\n",
      "With settings: \n",
      "{'model_path': '/home/dmlab/stanfordnlp_resources/en_ewt_models/en_ewt_tokenizer.pt', 'lang': 'en', 'shorthand': 'en_ewt', 'mode': 'predict'}\n",
      "---\n",
      "Loading: pos\n",
      "With settings: \n",
      "{'model_path': '/home/dmlab/stanfordnlp_resources/en_ewt_models/en_ewt_tagger.pt', 'pretrain_path': '/home/dmlab/stanfordnlp_resources/en_ewt_models/en_ewt.pretrain.pt', 'lang': 'en', 'shorthand': 'en_ewt', 'mode': 'predict'}\n",
      "---\n",
      "Loading: lemma\n",
      "With settings: \n",
      "{'model_path': '/home/dmlab/stanfordnlp_resources/en_ewt_models/en_ewt_lemmatizer.pt', 'lang': 'en', 'shorthand': 'en_ewt', 'mode': 'predict'}\n",
      "Building an attentional Seq2Seq model...\n",
      "Using a Bi-LSTM encoder\n",
      "Using soft attention for LSTM.\n",
      "Finetune all embeddings.\n",
      "[Running seq2seq lemmatizer with edit classifier]\n",
      "---\n",
      "Loading: depparse\n",
      "With settings: \n",
      "{'model_path': '/home/dmlab/stanfordnlp_resources/en_ewt_models/en_ewt_parser.pt', 'pretrain_path': '/home/dmlab/stanfordnlp_resources/en_ewt_models/en_ewt.pretrain.pt', 'lang': 'en', 'shorthand': 'en_ewt', 'mode': 'predict'}\n",
      "Done loading processors!\n",
      "---\n"
     ]
    }
   ],
   "source": [
    "import stanfordnlp\n",
    "nlp = stanfordnlp.Pipeline()"
   ]
  },
  {
   "cell_type": "code",
   "execution_count": 36,
   "metadata": {
    "collapsed": false
   },
   "outputs": [
    {
     "name": "stdout",
     "output_type": "stream",
     "text": [
      "1\talthough\talthough\tSCONJ\tIN\t_\t8\tmark\t_\t_\n",
      "2\tthe\tthe\tDET\tDT\tDefinite=Def|PronType=Art\t3\tdet\t_\t_\n",
      "3\tsoftware\tsoftware\tNOUN\tNN\tNumber=Sing\t8\tnsubj\t_\t_\n",
      "4\tof\tof\tADP\tIN\t_\t6\tcase\t_\t_\n",
      "5\tthe\tthe\tDET\tDT\tDefinite=Def|PronType=Art\t6\tdet\t_\t_\n",
      "6\tplayer\tplayer\tNOUN\tNN\tNumber=Sing\t3\tnmod\t_\t_\n",
      "7\tis\tbe\tAUX\tVBZ\tMood=Ind|Number=Sing|Person=3|Tense=Pres|VerbForm=Fin\t8\tcop\t_\t_\n",
      "8\teasy\teasy\tADJ\tJJ\tDegree=Pos\t16\tadvcl\t_\t_\n",
      "9\t-\t-\tPUNCT\tHYPH\t_\t12\tpunct\t_\t_\n",
      "10\tto\tto\tADP\tIN\t_\t12\tmark\t_\t_\n",
      "11\t-\t-\tPUNCT\tHYPH\t_\t12\tpunct\t_\t_\n",
      "12\tuse\tuse\tVERB\tVB\tVerbForm=Inf\t8\tconj\t_\t_\n",
      "13\t,\t,\tPUNCT\t,\t_\t16\tpunct\t_\t_\n",
      "14\tit\tit\tPRON\tPRP\tCase=Nom|Gender=Neut|Number=Sing|Person=3|PronType=Prs\t16\tnsubj\t_\t_\n",
      "15\tis\tbe\tAUX\tVBZ\tMood=Ind|Number=Sing|Person=3|Tense=Pres|VerbForm=Fin\t16\tcop\t_\t_\n",
      "16\tsimple\tsimple\tADJ\tJJ\tDegree=Pos\t0\troot\t_\t_\n",
      "17\t.\t.\tPUNCT\t.\t_\t16\tpunct\t_\t_\n",
      "\n",
      "\n",
      "1\tThis\tthis\tPRON\tDT\tNumber=Sing|PronType=Dem\t5\tnsubj\t_\t_\n",
      "2\tis\tbe\tAUX\tVBZ\tMood=Ind|Number=Sing|Person=3|Tense=Pres|VerbForm=Fin\t5\tcop\t_\t_\n",
      "3\tall\tall\tADV\tRB\t_\t5\tadvmod\t_\t_\n",
      "4\t-\t-\tPUNCT\tHYPH\t_\t5\tpunct\t_\t_\n",
      "5\taround\taround\tADV\tRB\t_\t0\troot\t_\t_\n",
      "6\t.\t.\tPUNCT\t.\t_\t5\tpunct\t_\t_\n",
      "\n",
      "\n",
      "1\tThis\tthis\tPRON\tDT\tNumber=Sing|PronType=Dem\t5\tnsubj\t_\t_\n",
      "2\tis\tbe\tAUX\tVBZ\tMood=Ind|Number=Sing|Person=3|Tense=Pres|VerbForm=Fin\t5\tcop\t_\t_\n",
      "3\tbrand\tbrand\tNOUN\tNN\tNumber=Sing\t5\tobl:npmod\t_\t_\n",
      "4\t-\t-\tPUNCT\tHYPH\t_\t5\tpunct\t_\t_\n",
      "5\tnew\tnew\tADJ\tJJ\tDegree=Pos\t0\troot\t_\t_\n",
      "6\t.\t.\tPUNCT\t.\t_\t5\tpunct\t_\t_\n",
      "\n",
      "\n",
      "1\tThis\tthis\tPRON\tDT\tNumber=Sing|PronType=Dem\t3\tnsubj\t_\t_\n",
      "2\tis\tbe\tAUX\tVBZ\tMood=Ind|Number=Sing|Person=3|Tense=Pres|VerbForm=Fin\t3\tcop\t_\t_\n",
      "3\teye-catching\teye-catch\tADJ\tJJ\tDegree=Pos\t0\troot\t_\t_\n",
      "4\t.\t.\tPUNCT\t.\t_\t3\tpunct\t_\t_\n",
      "\n",
      "\n"
     ]
    },
    {
     "name": "stderr",
     "output_type": "stream",
     "text": [
      "/pytorch/aten/src/ATen/native/TensorAdvancedIndexing.cpp:573: UserWarning: masked_fill_ received a mask with dtype torch.uint8, this behavior is now deprecated,please use a mask with dtype torch.bool instead.\n",
      "/pytorch/aten/src/ATen/native/TensorAdvancedIndexing.cpp:573: UserWarning: masked_fill_ received a mask with dtype torch.uint8, this behavior is now deprecated,please use a mask with dtype torch.bool instead.\n",
      "/pytorch/aten/src/ATen/native/TensorAdvancedIndexing.cpp:573: UserWarning: masked_fill_ received a mask with dtype torch.uint8, this behavior is now deprecated,please use a mask with dtype torch.bool instead.\n",
      "/pytorch/aten/src/ATen/native/TensorAdvancedIndexing.cpp:573: UserWarning: masked_fill_ received a mask with dtype torch.uint8, this behavior is now deprecated,please use a mask with dtype torch.bool instead.\n"
     ]
    }
   ],
   "source": [
    "samples = ['although the software of the player is easy-to-use, it is simple.', 'This is all-around.', 'This is brand-new.', 'This is eye-catching.']\n",
    "for sample in samples:\n",
    "    doc = nlp(sample)\n",
    "    print(doc.conll_file.conll_as_string())"
   ]
  },
  {
   "cell_type": "code",
   "execution_count": 3,
   "metadata": {
    "collapsed": false
   },
   "outputs": [
    {
     "name": "stdout",
     "output_type": "stream",
     "text": [
      "1\tThe\tthe\tDET\tDT\tDefinite=Def|PronType=Art\t3\tdet\t_\t_\n",
      "2\tphoto\tphoto\tNOUN\tNN\tNumber=Sing\t3\tcompound\t_\t_\n",
      "3\tquality\tquality\tNOUN\tNN\tNumber=Sing\t5\tnsubj\t_\t_\n",
      "4\tis\tbe\tAUX\tVBZ\tMood=Ind|Number=Sing|Person=3|Tense=Pres|VerbForm=Fin\t5\tcop\t_\t_\n",
      "5\tamazing\tamazing\tADJ\tJJ\tDegree=Pos\t0\troot\t_\t_\n",
      "6\t.\t.\tPUNCT\t.\t_\t5\tpunct\t_\t_\n",
      "\n",
      "\n",
      "1\tI\tI\tPRON\tPRP\tCase=Nom|Number=Sing|Person=1|PronType=Prs\t4\tnsubj\t_\t_\n",
      "2\tam\tbe\tAUX\tVBP\tMood=Ind|Number=Sing|Person=1|Tense=Pres|VerbForm=Fin\t4\tcop\t_\t_\n",
      "3\tnot\tnot\tPART\tRB\t_\t4\tadvmod\t_\t_\n",
      "4\tpleased\tpleased\tADJ\tJJ\tDegree=Pos\t0\troot\t_\t_\n",
      "5\twith\twith\tADP\tIN\t_\t8\tcase\t_\t_\n",
      "6\tthe\tthe\tDET\tDT\tDefinite=Def|PronType=Art\t8\tdet\t_\t_\n",
      "7\tpicture\tpicture\tNOUN\tNN\tNumber=Sing\t8\tcompound\t_\t_\n",
      "8\tquality\tquality\tNOUN\tNN\tNumber=Sing\t4\tobl\t_\t_\n",
      "9\t.\t.\tPUNCT\t.\t_\t4\tpunct\t_\t_\n",
      "\n",
      "\n"
     ]
    },
    {
     "name": "stderr",
     "output_type": "stream",
     "text": [
      "/pytorch/aten/src/ATen/native/TensorAdvancedIndexing.cpp:573: UserWarning: masked_fill_ received a mask with dtype torch.uint8, this behavior is now deprecated,please use a mask with dtype torch.bool instead.\n",
      "/pytorch/aten/src/ATen/native/TensorAdvancedIndexing.cpp:573: UserWarning: masked_fill_ received a mask with dtype torch.uint8, this behavior is now deprecated,please use a mask with dtype torch.bool instead.\n"
     ]
    }
   ],
   "source": [
    "samples = ['The photo quality is amazing.', 'I am not pleased with the picture quality.']\n",
    "for sample in samples:\n",
    "    doc = nlp(sample)\n",
    "    print(doc.conll_file.conll_as_string())"
   ]
  },
  {
   "cell_type": "code",
   "execution_count": 10,
   "metadata": {
    "collapsed": false
   },
   "outputs": [
    {
     "name": "stdout",
     "output_type": "stream",
     "text": [
      "there there EX expl 2\n",
      "are be VBP root 0\n",
      "a a DT det 5\n",
      "couple couple NN compound 5\n",
      "things thing NNS nsubj 2\n",
      "i i PRP nsubj 9\n",
      "did do VBD aux 9\n",
      "nt not RB advmod 9\n",
      "like like VB acl:relcl 5\n",
      "though though RB advmod 9\n",
      "but but CC cc 12\n",
      "nothing nothing NN conj 2\n",
      "serious serious JJ amod 12\n",
      ": : : punct 2\n",
      "a a DT det 2\n",
      "little little JJ obl:npmod 3\n",
      "larger larger JJR advmod 13\n",
      "than than IN case 6\n",
      "other other JJ amod 6\n",
      "mp3s mp3 NNS obl 3\n",
      "but but CC cc 9\n",
      "still still RB advmod 9\n",
      "light light JJ conj 6\n",
      ", , , punct 13\n",
      "the the DT det 12\n",
      "software software NN nsubj 13\n",
      "takes take VBZ root 0\n",
      "some some DT det 15\n",
      "time time NN obj 13\n",
      "to to TO mark 18\n",
      "get get VB aux:pass 18\n",
      "used use VBN acl 15\n",
      "to to IN obl 18\n",
      "( ( -LRB- punct 25\n",
      "maybe maybe RB advmod 25\n",
      "10 10 CD nummod 25\n",
      "- - SYM case 24\n",
      "15 15 CD nmod 22\n",
      "mins min NNS obl 18\n",
      ") ) -RRB- punct 25\n",
      ", , , punct 34\n",
      "and and CC cc 34\n",
      "this this DT det 30\n",
      "thing thing NN nsubj:pass 34\n",
      "would would MD aux 34\n",
      "definitely definitely RB advmod 34\n",
      "be be VB aux:pass 34\n",
      "destroyed destroy VBN conj 13\n",
      "with with IN case 37\n",
      "one one CD nummod 37\n",
      "fall fall NN obl 34\n",
      ". . . punct 13\n"
     ]
    }
   ],
   "source": [
    "for j in range(len(doc.sentences)):\n",
    "    parsed_doc = doc.sentences[j].dependencies\n",
    "    for i in range(len(parsed_doc)):\n",
    "        print(parsed_doc[i][2].text, end=' ')\n",
    "        print(parsed_doc[i][2].lemma, end=' ')\n",
    "        print(parsed_doc[i][2].xpos, end=' ')\n",
    "        print(parsed_doc[i][2].dependency_relation, end=' ')\n",
    "        print(parsed_doc[i][2].governor)"
   ]
  },
  {
   "cell_type": "code",
   "execution_count": 68,
   "metadata": {
    "collapsed": false
   },
   "outputs": [
    {
     "data": {
      "text/plain": [
       "True"
      ]
     },
     "execution_count": 68,
     "metadata": {},
     "output_type": "execute_result"
    }
   ],
   "source": [
    "a = 'compound:prt'\n",
    "a.startswith('compound')"
   ]
  },
  {
   "cell_type": "code",
   "execution_count": 71,
   "metadata": {
    "collapsed": false
   },
   "outputs": [
    {
     "name": "stdout",
     "output_type": "stream",
     "text": [
      "1\tAfter\tafter\tADP\tIN\t_\t3\tcase\t_\t_\n",
      "2\tmuch\tmuch\tADJ\tJJ\tDegree=Pos\t3\tamod\t_\t_\n",
      "3\tdelay\tdelay\tNOUN\tNN\tNumber=Sing\t5\tobl\t_\t_\n",
      "4\tI\tI\tPRON\tPRP\tCase=Nom|Number=Sing|Person=1|PronType=Prs\t5\tnsubj\t_\t_\n",
      "5\treceived\treceive\tVERB\tVBD\tMood=Ind|Tense=Past|VerbForm=Fin\t0\troot\t_\t_\n",
      "6\tmy\tmy\tPRON\tPRP$\tNumber=Sing|Person=1|Poss=Yes|PronType=Prs\t8\tnmod:poss\t_\t_\n",
      "7\tAcer\tAcer\tPROPN\tNNP\tNumber=Sing\t8\tcompound\t_\t_\n",
      "8\tNetbook\tNetbook\tPROPN\tNNP\tNumber=Sing\t9\tnsubj\t_\t_\n",
      "9\tAspire\taspire\tVERB\tVB\tVerbForm=Inf\t5\txcomp\t_\t_\n",
      "10\tOne\tone\tNUM\tCD\tNumType=Card\t9\tobj\t_\t_\n",
      "11\tand\tand\tCCONJ\tCC\t_\t14\tcc\t_\t_\n",
      "12\tI\tI\tPRON\tPRP\tCase=Nom|Number=Sing|Person=1|PronType=Prs\t14\tnsubj\t_\t_\n",
      "13\tcan\tcan\tAUX\tMD\tVerbForm=Fin\t14\taux\t_\t_\n",
      "14\tteell\tteell\tVERB\tVB\tVerbForm=Inf\t5\tconj\t_\t_\n",
      "15\tyou\tyou\tPRON\tPRP\tCase=Acc|Person=2|PronType=Prs\t14\tobj\t_\t_\n",
      "16\tI\tI\tPRON\tPRP\tCase=Nom|Number=Sing|Person=1|PronType=Prs\t19\tnsubj\t_\t_\n",
      "17\tam\tbe\tAUX\tVBP\tMood=Ind|Number=Sing|Person=1|Tense=Pres|VerbForm=Fin\t19\tcop\t_\t_\n",
      "18\tvery\tvery\tADV\tRB\t_\t19\tadvmod\t_\t_\n",
      "19\tsatisfied\tsatisfied\tADJ\tJJ\tDegree=Pos\t14\tccomp\t_\t_\n",
      "20\twith\twith\tADP\tIN\t_\t22\tcase\t_\t_\n",
      "21\tthis\tthis\tDET\tDT\tNumber=Sing|PronType=Dem\t22\tdet\t_\t_\n",
      "22\tcomputer\tcomputer\tNOUN\tNN\tNumber=Sing\t19\tobl\t_\t_\n",
      "23\t,\t,\tPUNCT\t,\t_\t19\tpunct\t_\t_\n",
      "24\tis\tbe\tAUX\tVBZ\tMood=Ind|Number=Sing|Person=3|Tense=Pres|VerbForm=Fin\t19\tcop\t_\t_\n",
      "25\tvery\tvery\tADV\tRB\t_\t26\tadvmod\t_\t_\n",
      "26\tpretty\tpretty\tADV\tRB\t_\t29\tadvmod\t_\t_\n",
      "27\t,\t,\tPUNCT\t,\t_\t29\tpunct\t_\t_\n",
      "28\twell\twell\tADV\tRB\tDegree=Pos\t29\tadvmod\t_\t_\n",
      "29\tfinished\tfinish\tVERB\tVBN\tTense=Past|VerbForm=Part\t19\tconj\t_\t_\n",
      "30\t,\t,\tPUNCT\t,\t_\t32\tpunct\t_\t_\n",
      "31\thigh\thigh\tADJ\tJJ\tDegree=Pos\t32\tamod\t_\t_\n",
      "32\tquality\tquality\tNOUN\tNN\tNumber=Sing\t29\tconj\t_\t_\n",
      "33\t,\t,\tPUNCT\t,\t_\t35\tpunct\t_\t_\n",
      "34\tso\tso\tADV\tRB\t_\t35\tadvmod\t_\t_\n",
      "35\tquiet\tquiet\tADJ\tJJ\tDegree=Pos\t32\tamod\t_\t_\n",
      "36\t,\t,\tPUNCT\t,\t_\t38\tpunct\t_\t_\n",
      "37\tnot\tnot\tPART\tRB\t_\t38\tadvmod\t_\t_\n",
      "38\theated\theat\tVERB\tVBN\tTense=Past|VerbForm=Part\t35\tconj\t_\t_\n",
      "39\tthan\tthan\tADP\tIN\t_\t41\tcase\t_\t_\n",
      "40\tother\tother\tADJ\tJJ\tDegree=Pos\t41\tamod\t_\t_\n",
      "41\tnetbook\tnetbook\tNOUN\tNN\tNumber=Sing\t38\tobl\t_\t_\n",
      "42\tor\tor\tCCONJ\tCC\t_\t46\tcc\t_\t_\n",
      "43\tat\tat\tADV\tRB\t_\t46\tadvmod\t_\t_\n",
      "44\tleast\tleast\tADV\tRBS\tDegree=Sup\t43\tfixed\t_\t_\n",
      "45\tI\tI\tPRON\tPRP\tCase=Nom|Number=Sing|Person=1|PronType=Prs\t46\tnsubj\t_\t_\n",
      "46\tthink\tthink\tVERB\tVBP\tMood=Ind|Tense=Pres|VerbForm=Fin\t5\tconj\t_\t_\n",
      "47\tit\tit\tPRON\tPRP\tCase=Nom|Gender=Neut|Number=Sing|Person=3|PronType=Prs\t52\tnsubj\t_\t_\n",
      "48\tis\tbe\tAUX\tVBZ\tMood=Ind|Number=Sing|Person=3|Tense=Pres|VerbForm=Fin\t52\tcop\t_\t_\n",
      "49\twithin\twithin\tADP\tIN\t_\t52\tcase\t_\t_\n",
      "50\tin\tin\tADP\tIN\t_\t52\tcase\t_\t_\n",
      "51\tnormal\tnormal\tADJ\tJJ\tDegree=Pos\t52\tamod\t_\t_\n",
      "52\tranges\trange\tNOUN\tNNS\tNumber=Plur\t46\tccomp\t_\t_\n",
      "53\t,\t,\tPUNCT\t,\t_\t58\tpunct\t_\t_\n",
      "54\tthe\tthe\tDET\tDT\tDefinite=Def|PronType=Art\t55\tdet\t_\t_\n",
      "55\tkeyboard\tkeyboard\tNOUN\tNN\tNumber=Sing\t58\tnsubj\t_\t_\n",
      "56\tis\tbe\tAUX\tVBZ\tMood=Ind|Number=Sing|Person=3|Tense=Pres|VerbForm=Fin\t58\tcop\t_\t_\n",
      "57\tvery\tvery\tADV\tRB\t_\t58\tadvmod\t_\t_\n",
      "58\tsmooth\tsmooth\tADJ\tJJ\tDegree=Pos\t52\tconj\t_\t_\n",
      "59\tand\tand\tCCONJ\tCC\t_\t62\tcc\t_\t_\n",
      "60\tvery\tvery\tADV\tRB\t_\t61\tadvmod\t_\t_\n",
      "61\twell\twell\tADV\tRB\tDegree=Pos\t62\tadvmod\t_\t_\n",
      "62\tlaid\tlay\tVERB\tVBN\tTense=Past|VerbForm=Part\t58\tconj\t_\t_\n",
      "63\tout\tout\tADP\tRP\t_\t62\tcompound:prt\t_\t_\n",
      "64\t,\t,\tPUNCT\t,\t_\t70\tpunct\t_\t_\n",
      "65\tthe\tthe\tDET\tDT\tDefinite=Def|PronType=Art\t67\tdet\t_\t_\n",
      "66\tscreen\tscreen\tNOUN\tNN\tNumber=Sing\t67\tcompound\t_\t_\n",
      "67\tfunctions\tfunction\tNOUN\tNNS\tNumber=Plur\t70\tnsubj\t_\t_\n",
      "68\tare\tbe\tAUX\tVBP\tMood=Ind|Tense=Pres|VerbForm=Fin\t70\tcop\t_\t_\n",
      "69\tvery\tvery\tADV\tRB\t_\t70\tadvmod\t_\t_\n",
      "70\tpractical\tpractical\tADJ\tJJ\tDegree=Pos\t58\tconj\t_\t_\n",
      "71\tin\tin\tADP\tIN\t_\t73\tcase\t_\t_\n",
      "72\ta\ta\tDET\tDT\tDefinite=Ind|PronType=Art\t73\tdet\t_\t_\n",
      "73\tnutshell\tnutshell\tNOUN\tNN\tNumber=Sing\t70\tobl\t_\t_\n",
      "74\tis\tbe\tAUX\tVBZ\tMood=Ind|Number=Sing|Person=3|Tense=Pres|VerbForm=Fin\t77\tcop\t_\t_\n",
      "75\tan\ta\tDET\tDT\tDefinite=Ind|PronType=Art\t77\tdet\t_\t_\n",
      "76\texcellent\texcellent\tADJ\tJJ\tDegree=Pos\t77\tamod\t_\t_\n",
      "77\tbuy\tbuy\tNOUN\tNN\tNumber=Sing\t70\tconj\t_\t_\n",
      "78\tand\tand\tCCONJ\tCC\t_\t82\tcc\t_\t_\n",
      "79\tI\tI\tPRON\tPRP\tCase=Nom|Number=Sing|Person=1|PronType=Prs\t82\tnsubj\t_\t_\n",
      "80\tam\tbe\tAUX\tVBP\tMood=Ind|Number=Sing|Person=1|Tense=Pres|VerbForm=Fin\t82\tcop\t_\t_\n",
      "81\tvery\tvery\tADV\tRB\t_\t82\tadvmod\t_\t_\n",
      "82\tpleased\tpleased\tADJ\tJJ\tDegree=Pos\t77\tconj\t_\t_\n",
      "83\twith\twith\tADP\tIN\t_\t85\tcase\t_\t_\n",
      "84\tthe\tthe\tDET\tDT\tDefinite=Def|PronType=Art\t85\tdet\t_\t_\n",
      "85\tpurchase\tpurchase\tNOUN\tNN\tNumber=Sing\t82\tobl\t_\t_\n",
      "86\t,\t,\tPUNCT\t,\t_\t88\tpunct\t_\t_\n",
      "87\tI\tI\tPRON\tPRP\tCase=Nom|Number=Sing|Person=1|PronType=Prs\t88\tnsubj\t_\t_\n",
      "88\trecommend\trecommend\tVERB\tVBP\tMood=Ind|Tense=Pres|VerbForm=Fin\t82\tparataxis\t_\t_\n",
      "89\tit\tit\tPRON\tPRP\tCase=Acc|Gender=Neut|Number=Sing|Person=3|PronType=Prs\t88\tobj\t_\t_\n",
      "90\t.\t.\tPUNCT\t.\t_\t5\tpunct\t_\t_\n",
      "\n",
      "\n",
      "After after IN case 3\n",
      "much much JJ amod 3\n",
      "delay delay NN obl 5\n",
      "I I PRP nsubj 5\n",
      "received receive VBD root 0\n",
      "my my PRP$ nmod:poss 8\n",
      "Acer Acer NNP compound 8\n",
      "Netbook Netbook NNP nsubj 9\n",
      "Aspire aspire VB xcomp 5\n",
      "One one CD obj 9\n",
      "and and CC cc 14\n",
      "I I PRP nsubj 14\n",
      "can can MD aux 14\n",
      "teell teell VB conj 5\n",
      "you you PRP obj 14\n",
      "I I PRP nsubj 19\n",
      "am be VBP cop 19\n",
      "very very RB advmod 19\n",
      "satisfied satisfied JJ ccomp 14\n",
      "with with IN case 22\n",
      "this this DT det 22\n",
      "computer computer NN obl 19\n",
      ", , , punct 19\n",
      "is be VBZ cop 19\n",
      "very very RB advmod 26\n",
      "pretty pretty RB advmod 29\n",
      ", , , punct 29\n",
      "well well RB advmod 29\n",
      "finished finish VBN conj 19\n",
      ", , , punct 32\n",
      "high high JJ amod 32\n",
      "quality quality NN conj 29\n",
      ", , , punct 35\n",
      "so so RB advmod 35\n",
      "quiet quiet JJ amod 32\n",
      ", , , punct 38\n",
      "not not RB advmod 38\n",
      "heated heat VBN conj 35\n",
      "than than IN case 41\n",
      "other other JJ amod 41\n",
      "netbook netbook NN obl 38\n",
      "or or CC cc 46\n",
      "at at RB advmod 46\n",
      "least least RBS fixed 43\n",
      "I I PRP nsubj 46\n",
      "think think VBP conj 5\n",
      "it it PRP nsubj 52\n",
      "is be VBZ cop 52\n",
      "within within IN case 52\n",
      "in in IN case 52\n",
      "normal normal JJ amod 52\n",
      "ranges range NNS ccomp 46\n",
      ", , , punct 58\n",
      "the the DT det 55\n",
      "keyboard keyboard NN nsubj 58\n",
      "is be VBZ cop 58\n",
      "very very RB advmod 58\n",
      "smooth smooth JJ conj 52\n",
      "and and CC cc 62\n",
      "very very RB advmod 61\n",
      "well well RB advmod 62\n",
      "laid lay VBN conj 58\n",
      "out out RP compound:prt 62\n",
      ", , , punct 70\n",
      "the the DT det 67\n",
      "screen screen NN compound 67\n",
      "functions function NNS nsubj 70\n",
      "are be VBP cop 70\n",
      "very very RB advmod 70\n",
      "practical practical JJ conj 58\n",
      "in in IN case 73\n",
      "a a DT det 73\n",
      "nutshell nutshell NN obl 70\n",
      "is be VBZ cop 77\n",
      "an a DT det 77\n",
      "excellent excellent JJ amod 77\n",
      "buy buy NN conj 70\n",
      "and and CC cc 82\n",
      "I I PRP nsubj 82\n",
      "am be VBP cop 82\n",
      "very very RB advmod 82\n",
      "pleased pleased JJ conj 77\n",
      "with with IN case 85\n",
      "the the DT det 85\n",
      "purchase purchase NN obl 82\n",
      ", , , punct 88\n",
      "I I PRP nsubj 88\n",
      "recommend recommend VBP parataxis 82\n",
      "it it PRP obj 88\n",
      ". . . punct 5\n"
     ]
    },
    {
     "name": "stderr",
     "output_type": "stream",
     "text": [
      "/pytorch/aten/src/ATen/native/TensorAdvancedIndexing.cpp:573: UserWarning: masked_fill_ received a mask with dtype torch.uint8, this behavior is now deprecated,please use a mask with dtype torch.bool instead.\n"
     ]
    }
   ],
   "source": [
    "sample = ' After much delay I received my Acer Netbook Aspire One and I can teell you I am very satisfied with this computer , is very pretty , well finished , high quality , so quiet , not heated than other netbook or at least I think it is within in normal ranges , the keyboard is very smooth and very well laid out , the screen functions are very practical in a nutshell is an excellent buy and I am very pleased with the purchase , I recommend it .'\n",
    "doc = nlp(sample)\n",
    "print(doc.conll_file.conll_as_string())\n",
    "parsed_doc = doc.sentences[0].dependencies\n",
    "for i in range(len(parsed_doc)):\n",
    "    print(parsed_doc[i][2].text, end=' ')\n",
    "    print(parsed_doc[i][2].lemma, end=' ')\n",
    "    print(parsed_doc[i][2].xpos, end=' ')\n",
    "    print(parsed_doc[i][2].dependency_relation, end=' ')\n",
    "    print(parsed_doc[i][2].governor)"
   ]
  },
  {
   "cell_type": "code",
   "execution_count": 2,
   "metadata": {
    "collapsed": false
   },
   "outputs": [
    {
     "name": "stdout",
     "output_type": "stream",
     "text": [
      "Use device: cpu\n",
      "---\n",
      "Loading: tokenize\n",
      "With settings: \n",
      "{'model_path': '/home/dmlab/stanfordnlp_resources/en_ewt_models/en_ewt_tokenizer.pt', 'lang': 'en', 'shorthand': 'en_ewt', 'mode': 'predict'}\n",
      "---\n",
      "Loading: pos\n",
      "With settings: \n",
      "{'model_path': '/home/dmlab/stanfordnlp_resources/en_ewt_models/en_ewt_tagger.pt', 'pretrain_path': '/home/dmlab/stanfordnlp_resources/en_ewt_models/en_ewt.pretrain.pt', 'lang': 'en', 'shorthand': 'en_ewt', 'mode': 'predict'}\n",
      "---\n",
      "Loading: lemma\n",
      "With settings: \n",
      "{'model_path': '/home/dmlab/stanfordnlp_resources/en_ewt_models/en_ewt_lemmatizer.pt', 'lang': 'en', 'shorthand': 'en_ewt', 'mode': 'predict'}\n",
      "Building an attentional Seq2Seq model...\n",
      "Using a Bi-LSTM encoder\n",
      "Using soft attention for LSTM.\n",
      "Finetune all embeddings.\n",
      "[Running seq2seq lemmatizer with edit classifier]\n",
      "---\n",
      "Loading: depparse\n",
      "With settings: \n",
      "{'model_path': '/home/dmlab/stanfordnlp_resources/en_ewt_models/en_ewt_parser.pt', 'pretrain_path': '/home/dmlab/stanfordnlp_resources/en_ewt_models/en_ewt.pretrain.pt', 'lang': 'en', 'shorthand': 'en_ewt', 'mode': 'predict'}\n",
      "Done loading processors!\n",
      "---\n",
      "1\tThe\tthe\tDET\tDT\tDefinite=Def|PronType=Art\t2\tdet\t_\t_\n",
      "2\tphone\tphone\tNOUN\tNN\tNumber=Sing\t3\tnsubj\t_\t_\n",
      "3\thas\thave\tVERB\tVBZ\tMood=Ind|Number=Sing|Person=3|Tense=Pres|VerbForm=Fin\t0\troot\t_\t_\n",
      "4\ta\ta\tDET\tDT\tDefinite=Ind|PronType=Art\t6\tdet\t_\t_\n",
      "5\tgood\tgood\tADJ\tJJ\tDegree=Pos\t6\tamod\t_\t_\n",
      "6\tscreen\tscreen\tNOUN\tNN\tNumber=Sing\t3\tobj\t_\t_\n",
      "7\t.\t.\tPUNCT\t.\t_\t3\tpunct\t_\t_\n",
      "\n",
      "\n",
      "1\tI\tI\tPRON\tPRP\tCase=Nom|Number=Sing|Person=1|PronType=Prs\t4\tnsubj\t_\t_\n",
      "2\tam\tbe\tAUX\tVBP\tMood=Ind|Number=Sing|Person=1|Tense=Pres|VerbForm=Fin\t4\tcop\t_\t_\n",
      "3\tnot\tnot\tPART\tRB\t_\t4\tadvmod\t_\t_\n",
      "4\tpleased\tpleased\tADJ\tJJ\tDegree=Pos\t0\troot\t_\t_\n",
      "5\twith\twith\tADP\tIN\t_\t8\tcase\t_\t_\n",
      "6\tthe\tthe\tDET\tDT\tDefinite=Def|PronType=Art\t8\tdet\t_\t_\n",
      "7\tpicture\tpicture\tNOUN\tNN\tNumber=Sing\t8\tcompound\t_\t_\n",
      "8\tquality\tquality\tNOUN\tNN\tNumber=Sing\t4\tobl\t_\t_\n",
      "9\t.\t.\tPUNCT\t.\t_\t4\tpunct\t_\t_\n",
      "\n",
      "\n",
      "1\tThe\tthe\tDET\tDT\tDefinite=Def|PronType=Art\t3\tdet\t_\t_\n",
      "2\tphoto\tphoto\tNOUN\tNN\tNumber=Sing\t3\tcompound\t_\t_\n",
      "3\tquality\tquality\tNOUN\tNN\tNumber=Sing\t5\tnsubj\t_\t_\n",
      "4\tis\tbe\tAUX\tVBZ\tMood=Ind|Number=Sing|Person=3|Tense=Pres|VerbForm=Fin\t5\tcop\t_\t_\n",
      "5\tamazing\tamazing\tADJ\tJJ\tDegree=Pos\t0\troot\t_\t_\n",
      "6\t.\t.\tPUNCT\t.\t_\t5\tpunct\t_\t_\n",
      "\n",
      "\n",
      "1\tThe\tthe\tDET\tDT\tDefinite=Def|PronType=Art\t2\tdet\t_\t_\n",
      "2\tsoftware\tsoftware\tNOUN\tNN\tNumber=Sing\t8\tnsubj\t_\t_\n",
      "3\tof\tof\tADP\tIN\t_\t5\tcase\t_\t_\n",
      "4\tthe\tthe\tDET\tDT\tDefinite=Def|PronType=Art\t5\tdet\t_\t_\n",
      "5\tplayer\tplayer\tNOUN\tNN\tNumber=Sing\t2\tnmod\t_\t_\n",
      "6\tis\tbe\tAUX\tVBZ\tMood=Ind|Number=Sing|Person=3|Tense=Pres|VerbForm=Fin\t8\tcop\t_\t_\n",
      "7\tnot\tnot\tPART\tRB\t_\t8\tadvmod\t_\t_\n",
      "8\teasy\teasy\tADJ\tJJ\tDegree=Pos\t0\troot\t_\t_\n",
      "9\t-\t-\tPUNCT\tHYPH\t_\t8\tpunct\t_\t_\n",
      "10\tto\tto\tADP\tIN\t_\t12\tcase\t_\t_\n",
      "11\t-\t-\tPUNCT\tHYPH\t_\t12\tpunct\t_\t_\n",
      "12\tuse\tuse\tVERB\tVB\tVerbForm=Inf\t8\tconj\t_\t_\n",
      "13\t.\t.\tPUNCT\t.\t_\t8\tpunct\t_\t_\n",
      "\n",
      "\n"
     ]
    },
    {
     "name": "stderr",
     "output_type": "stream",
     "text": [
      "/pytorch/aten/src/ATen/native/TensorAdvancedIndexing.cpp:573: UserWarning: masked_fill_ received a mask with dtype torch.uint8, this behavior is now deprecated,please use a mask with dtype torch.bool instead.\n",
      "/pytorch/aten/src/ATen/native/TensorAdvancedIndexing.cpp:573: UserWarning: masked_fill_ received a mask with dtype torch.uint8, this behavior is now deprecated,please use a mask with dtype torch.bool instead.\n",
      "/pytorch/aten/src/ATen/native/TensorAdvancedIndexing.cpp:573: UserWarning: masked_fill_ received a mask with dtype torch.uint8, this behavior is now deprecated,please use a mask with dtype torch.bool instead.\n",
      "/pytorch/aten/src/ATen/native/TensorAdvancedIndexing.cpp:573: UserWarning: masked_fill_ received a mask with dtype torch.uint8, this behavior is now deprecated,please use a mask with dtype torch.bool instead.\n"
     ]
    }
   ],
   "source": [
    "import stanfordnlp\n",
    "nlp = stanfordnlp.Pipeline()\n",
    "\n",
    "samples = ['The phone has a good screen.', 'I am not pleased with the picture quality.', 'The photo quality is amazing.', 'The software of the player is not easy-to-use.']\n",
    "for sample in samples:\n",
    "    doc = nlp(sample)\n",
    "    print(doc.conll_file.conll_as_string())"
   ]
  },
  {
   "cell_type": "code",
   "execution_count": 6,
   "metadata": {
    "collapsed": false
   },
   "outputs": [
    {
     "name": "stdout",
     "output_type": "stream",
     "text": [
      "1\tThe\tthe\tDET\tDT\tDefinite=Def|PronType=Art\t2\tdet\t_\t_\n",
      "2\tsoftware\tsoftware\tNOUN\tNN\tNumber=Sing\t8\tnsubj\t_\t_\n",
      "3\tof\tof\tADP\tIN\t_\t5\tcase\t_\t_\n",
      "4\tthe\tthe\tDET\tDT\tDefinite=Def|PronType=Art\t5\tdet\t_\t_\n",
      "5\tplayer\tplayer\tNOUN\tNN\tNumber=Sing\t2\tnmod\t_\t_\n",
      "6\tis\tbe\tAUX\tVBZ\tMood=Ind|Number=Sing|Person=3|Tense=Pres|VerbForm=Fin\t8\tcop\t_\t_\n",
      "7\tnot\tnot\tPART\tRB\t_\t8\tadvmod\t_\t_\n",
      "8\teasy\teasy\tADJ\tJJ\tDegree=Pos\t0\troot\t_\t_\n",
      "9\t-\t-\tPUNCT\tHYPH\t_\t8\tpunct\t_\t_\n",
      "10\tto\tto\tADP\tIN\t_\t12\tcase\t_\t_\n",
      "11\t-\t-\tPUNCT\tHYPH\t_\t12\tpunct\t_\t_\n",
      "12\tuse\tuse\tVERB\tVB\tVerbForm=Inf\t8\tconj\t_\t_\n",
      "13\t.\t.\tPUNCT\t.\t_\t8\tpunct\t_\t_\n",
      "\n",
      "\n",
      "1\tThis\tthis\tPRON\tDT\tNumber=Sing|PronType=Dem\t5\tnsubj\t_\t_\n",
      "2\tis\tbe\tAUX\tVBZ\tMood=Ind|Number=Sing|Person=3|Tense=Pres|VerbForm=Fin\t5\tcop\t_\t_\n",
      "3\tall\tall\tADV\tRB\t_\t5\tadvmod\t_\t_\n",
      "4\t-\t-\tPUNCT\tHYPH\t_\t5\tpunct\t_\t_\n",
      "5\taround\taround\tADV\tRB\t_\t0\troot\t_\t_\n",
      "6\t.\t.\tPUNCT\t.\t_\t5\tpunct\t_\t_\n",
      "\n",
      "\n",
      "1\tThis\tthis\tPRON\tDT\tNumber=Sing|PronType=Dem\t5\tnsubj\t_\t_\n",
      "2\tis\tbe\tAUX\tVBZ\tMood=Ind|Number=Sing|Person=3|Tense=Pres|VerbForm=Fin\t5\tcop\t_\t_\n",
      "3\tbrand\tbrand\tNOUN\tNN\tNumber=Sing\t5\tobl:npmod\t_\t_\n",
      "4\t-\t-\tPUNCT\tHYPH\t_\t5\tpunct\t_\t_\n",
      "5\tnew\tnew\tADJ\tJJ\tDegree=Pos\t0\troot\t_\t_\n",
      "6\t.\t.\tPUNCT\t.\t_\t5\tpunct\t_\t_\n",
      "\n",
      "\n",
      "1\tThis\tthis\tPRON\tDT\tNumber=Sing|PronType=Dem\t3\tnsubj\t_\t_\n",
      "2\tis\tbe\tAUX\tVBZ\tMood=Ind|Number=Sing|Person=3|Tense=Pres|VerbForm=Fin\t3\tcop\t_\t_\n",
      "3\teye-catching\teye-catch\tADJ\tJJ\tDegree=Pos\t0\troot\t_\t_\n",
      "4\t.\t.\tPUNCT\t.\t_\t3\tpunct\t_\t_\n",
      "\n",
      "\n"
     ]
    },
    {
     "name": "stderr",
     "output_type": "stream",
     "text": [
      "/pytorch/aten/src/ATen/native/TensorAdvancedIndexing.cpp:573: UserWarning: masked_fill_ received a mask with dtype torch.uint8, this behavior is now deprecated,please use a mask with dtype torch.bool instead.\n",
      "/pytorch/aten/src/ATen/native/TensorAdvancedIndexing.cpp:573: UserWarning: masked_fill_ received a mask with dtype torch.uint8, this behavior is now deprecated,please use a mask with dtype torch.bool instead.\n",
      "/pytorch/aten/src/ATen/native/TensorAdvancedIndexing.cpp:573: UserWarning: masked_fill_ received a mask with dtype torch.uint8, this behavior is now deprecated,please use a mask with dtype torch.bool instead.\n",
      "/pytorch/aten/src/ATen/native/TensorAdvancedIndexing.cpp:573: UserWarning: masked_fill_ received a mask with dtype torch.uint8, this behavior is now deprecated,please use a mask with dtype torch.bool instead.\n"
     ]
    }
   ],
   "source": [
    "samples = ['The software of the player is not easy-to-use.', 'This is all-around.', 'This is brand-new.', 'This is eye-catching.']\n",
    "for sample in samples:\n",
    "    doc = nlp(sample)\n",
    "    print(doc.conll_file.conll_as_string())"
   ]
  }
 ],
 "metadata": {
  "kernelspec": {
   "display_name": "Python 3",
   "language": "python",
   "name": "python3"
  },
  "language_info": {
   "codemirror_mode": {
    "name": "ipython",
    "version": 3
   },
   "file_extension": ".py",
   "mimetype": "text/x-python",
   "name": "python",
   "nbconvert_exporter": "python",
   "pygments_lexer": "ipython3",
   "version": "3.6.9"
  }
 },
 "nbformat": 4,
 "nbformat_minor": 2
}
