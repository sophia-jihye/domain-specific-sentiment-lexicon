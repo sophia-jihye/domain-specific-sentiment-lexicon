{
 "cells": [
  {
   "cell_type": "code",
   "execution_count": 64,
   "metadata": {
    "collapsed": false
   },
   "outputs": [
    {
     "name": "stdout",
     "output_type": "stream",
     "text": [
      "answkduf\n"
     ]
    },
    {
     "data": {
      "text/plain": [
       "False"
      ]
     },
     "execution_count": 64,
     "metadata": {},
     "output_type": "execute_result"
    }
   ],
   "source": [
    "import re\n",
    "number_pattern = re.compile('\\d+')\n",
    "def remove_number(word):\n",
    "    return number_pattern.sub('', word).strip()\n",
    "a =remove_number('abc')\n",
    "\n",
    "sample = \"123answkduf456\"\n",
    "number_pattern = re.compile(\"[^0-9]\")\n",
    "print(\"\".join(number_pattern.findall(sample)))\n",
    "\n",
    "bool(re.search(r'\\d', 'abcd'))"
   ]
  },
  {
   "cell_type": "markdown",
   "metadata": {},
   "source": [
    "# Spacy"
   ]
  },
  {
   "cell_type": "code",
   "execution_count": 10,
   "metadata": {
    "collapsed": false
   },
   "outputs": [],
   "source": [
    "import spacy\n",
    "from nltk import Tree\n",
    "\n",
    "def to_nltk_tree(node):\n",
    "    if node.n_lefts + node.n_rights > 0:\n",
    "        return Tree(node.orth_, [to_nltk_tree(child) for child in node.children])\n",
    "    else:\n",
    "        return node.orth_\n",
    "\n",
    "nlp_spacy = spacy.load('en_core_web_sm')"
   ]
  },
  {
   "cell_type": "code",
   "execution_count": 23,
   "metadata": {
    "collapsed": false
   },
   "outputs": [
    {
     "name": "stdout",
     "output_type": "stream",
     "text": [
      "         is                  \n",
      "    _____|_________           \n",
      "   |     |      quality      \n",
      "   |     |    _____|______    \n",
      "amazing  .  The         photo\n",
      "\n"
     ]
    },
    {
     "data": {
      "text/plain": [
       "[None]"
      ]
     },
     "execution_count": 23,
     "metadata": {},
     "output_type": "execute_result"
    }
   ],
   "source": [
    "sample = 'The photo quality is amazing.'\n",
    "doc = nlp_spacy(sample)\n",
    "[to_nltk_tree(sent.root).pretty_print() for sent in doc.sents]"
   ]
  },
  {
   "cell_type": "code",
   "execution_count": 27,
   "metadata": {
    "collapsed": false
   },
   "outputs": [
    {
     "name": "stdout",
     "output_type": "stream",
     "text": [
      "0 The DET DT det 2\n",
      "1 photo NOUN NN compound 2\n",
      "2 quality NOUN NN nsubj 3\n",
      "3 is VERB VBZ ROOT 3\n",
      "4 amazing ADJ JJ acomp 3\n",
      "5 . PUNCT . punct 3\n"
     ]
    }
   ],
   "source": [
    "for token in doc:\n",
    "    print(token.i, token.text, token.pos_, token.tag_, token.dep_, token.head.i)"
   ]
  },
  {
   "cell_type": "markdown",
   "metadata": {},
   "source": [
    "# Stanfordnlp"
   ]
  },
  {
   "cell_type": "code",
   "execution_count": 2,
   "metadata": {
    "collapsed": false
   },
   "outputs": [
    {
     "name": "stdout",
     "output_type": "stream",
     "text": [
      "Use device: cpu\n",
      "---\n",
      "Loading: tokenize\n",
      "With settings: \n",
      "{'model_path': '/home/dmlab/stanfordnlp_resources/en_ewt_models/en_ewt_tokenizer.pt', 'lang': 'en', 'shorthand': 'en_ewt', 'mode': 'predict'}\n",
      "---\n",
      "Loading: pos\n",
      "With settings: \n",
      "{'model_path': '/home/dmlab/stanfordnlp_resources/en_ewt_models/en_ewt_tagger.pt', 'pretrain_path': '/home/dmlab/stanfordnlp_resources/en_ewt_models/en_ewt.pretrain.pt', 'lang': 'en', 'shorthand': 'en_ewt', 'mode': 'predict'}\n",
      "---\n",
      "Loading: lemma\n",
      "With settings: \n",
      "{'model_path': '/home/dmlab/stanfordnlp_resources/en_ewt_models/en_ewt_lemmatizer.pt', 'lang': 'en', 'shorthand': 'en_ewt', 'mode': 'predict'}\n",
      "Building an attentional Seq2Seq model...\n",
      "Using a Bi-LSTM encoder\n",
      "Using soft attention for LSTM.\n",
      "Finetune all embeddings.\n",
      "[Running seq2seq lemmatizer with edit classifier]\n",
      "---\n",
      "Loading: depparse\n",
      "With settings: \n",
      "{'model_path': '/home/dmlab/stanfordnlp_resources/en_ewt_models/en_ewt_parser.pt', 'pretrain_path': '/home/dmlab/stanfordnlp_resources/en_ewt_models/en_ewt.pretrain.pt', 'lang': 'en', 'shorthand': 'en_ewt', 'mode': 'predict'}\n",
      "Done loading processors!\n",
      "---\n"
     ]
    }
   ],
   "source": [
    "import stanfordnlp\n",
    "nlp = stanfordnlp.Pipeline()"
   ]
  },
  {
   "cell_type": "code",
   "execution_count": 36,
   "metadata": {
    "collapsed": false
   },
   "outputs": [
    {
     "name": "stdout",
     "output_type": "stream",
     "text": [
      "1\talthough\talthough\tSCONJ\tIN\t_\t8\tmark\t_\t_\n",
      "2\tthe\tthe\tDET\tDT\tDefinite=Def|PronType=Art\t3\tdet\t_\t_\n",
      "3\tsoftware\tsoftware\tNOUN\tNN\tNumber=Sing\t8\tnsubj\t_\t_\n",
      "4\tof\tof\tADP\tIN\t_\t6\tcase\t_\t_\n",
      "5\tthe\tthe\tDET\tDT\tDefinite=Def|PronType=Art\t6\tdet\t_\t_\n",
      "6\tplayer\tplayer\tNOUN\tNN\tNumber=Sing\t3\tnmod\t_\t_\n",
      "7\tis\tbe\tAUX\tVBZ\tMood=Ind|Number=Sing|Person=3|Tense=Pres|VerbForm=Fin\t8\tcop\t_\t_\n",
      "8\teasy\teasy\tADJ\tJJ\tDegree=Pos\t16\tadvcl\t_\t_\n",
      "9\t-\t-\tPUNCT\tHYPH\t_\t12\tpunct\t_\t_\n",
      "10\tto\tto\tADP\tIN\t_\t12\tmark\t_\t_\n",
      "11\t-\t-\tPUNCT\tHYPH\t_\t12\tpunct\t_\t_\n",
      "12\tuse\tuse\tVERB\tVB\tVerbForm=Inf\t8\tconj\t_\t_\n",
      "13\t,\t,\tPUNCT\t,\t_\t16\tpunct\t_\t_\n",
      "14\tit\tit\tPRON\tPRP\tCase=Nom|Gender=Neut|Number=Sing|Person=3|PronType=Prs\t16\tnsubj\t_\t_\n",
      "15\tis\tbe\tAUX\tVBZ\tMood=Ind|Number=Sing|Person=3|Tense=Pres|VerbForm=Fin\t16\tcop\t_\t_\n",
      "16\tsimple\tsimple\tADJ\tJJ\tDegree=Pos\t0\troot\t_\t_\n",
      "17\t.\t.\tPUNCT\t.\t_\t16\tpunct\t_\t_\n",
      "\n",
      "\n",
      "1\tThis\tthis\tPRON\tDT\tNumber=Sing|PronType=Dem\t5\tnsubj\t_\t_\n",
      "2\tis\tbe\tAUX\tVBZ\tMood=Ind|Number=Sing|Person=3|Tense=Pres|VerbForm=Fin\t5\tcop\t_\t_\n",
      "3\tall\tall\tADV\tRB\t_\t5\tadvmod\t_\t_\n",
      "4\t-\t-\tPUNCT\tHYPH\t_\t5\tpunct\t_\t_\n",
      "5\taround\taround\tADV\tRB\t_\t0\troot\t_\t_\n",
      "6\t.\t.\tPUNCT\t.\t_\t5\tpunct\t_\t_\n",
      "\n",
      "\n",
      "1\tThis\tthis\tPRON\tDT\tNumber=Sing|PronType=Dem\t5\tnsubj\t_\t_\n",
      "2\tis\tbe\tAUX\tVBZ\tMood=Ind|Number=Sing|Person=3|Tense=Pres|VerbForm=Fin\t5\tcop\t_\t_\n",
      "3\tbrand\tbrand\tNOUN\tNN\tNumber=Sing\t5\tobl:npmod\t_\t_\n",
      "4\t-\t-\tPUNCT\tHYPH\t_\t5\tpunct\t_\t_\n",
      "5\tnew\tnew\tADJ\tJJ\tDegree=Pos\t0\troot\t_\t_\n",
      "6\t.\t.\tPUNCT\t.\t_\t5\tpunct\t_\t_\n",
      "\n",
      "\n",
      "1\tThis\tthis\tPRON\tDT\tNumber=Sing|PronType=Dem\t3\tnsubj\t_\t_\n",
      "2\tis\tbe\tAUX\tVBZ\tMood=Ind|Number=Sing|Person=3|Tense=Pres|VerbForm=Fin\t3\tcop\t_\t_\n",
      "3\teye-catching\teye-catch\tADJ\tJJ\tDegree=Pos\t0\troot\t_\t_\n",
      "4\t.\t.\tPUNCT\t.\t_\t3\tpunct\t_\t_\n",
      "\n",
      "\n"
     ]
    },
    {
     "name": "stderr",
     "output_type": "stream",
     "text": [
      "/pytorch/aten/src/ATen/native/TensorAdvancedIndexing.cpp:573: UserWarning: masked_fill_ received a mask with dtype torch.uint8, this behavior is now deprecated,please use a mask with dtype torch.bool instead.\n",
      "/pytorch/aten/src/ATen/native/TensorAdvancedIndexing.cpp:573: UserWarning: masked_fill_ received a mask with dtype torch.uint8, this behavior is now deprecated,please use a mask with dtype torch.bool instead.\n",
      "/pytorch/aten/src/ATen/native/TensorAdvancedIndexing.cpp:573: UserWarning: masked_fill_ received a mask with dtype torch.uint8, this behavior is now deprecated,please use a mask with dtype torch.bool instead.\n",
      "/pytorch/aten/src/ATen/native/TensorAdvancedIndexing.cpp:573: UserWarning: masked_fill_ received a mask with dtype torch.uint8, this behavior is now deprecated,please use a mask with dtype torch.bool instead.\n"
     ]
    }
   ],
   "source": [
    "samples = ['although the software of the player is easy-to-use, it is simple.', 'This is all-around.', 'This is brand-new.', 'This is eye-catching.']\n",
    "for sample in samples:\n",
    "    doc = nlp(sample)\n",
    "    print(doc.conll_file.conll_as_string())"
   ]
  },
  {
   "cell_type": "code",
   "execution_count": 3,
   "metadata": {
    "collapsed": false
   },
   "outputs": [
    {
     "name": "stdout",
     "output_type": "stream",
     "text": [
      "1\tThe\tthe\tDET\tDT\tDefinite=Def|PronType=Art\t3\tdet\t_\t_\n",
      "2\tphoto\tphoto\tNOUN\tNN\tNumber=Sing\t3\tcompound\t_\t_\n",
      "3\tquality\tquality\tNOUN\tNN\tNumber=Sing\t5\tnsubj\t_\t_\n",
      "4\tis\tbe\tAUX\tVBZ\tMood=Ind|Number=Sing|Person=3|Tense=Pres|VerbForm=Fin\t5\tcop\t_\t_\n",
      "5\tamazing\tamazing\tADJ\tJJ\tDegree=Pos\t0\troot\t_\t_\n",
      "6\t.\t.\tPUNCT\t.\t_\t5\tpunct\t_\t_\n",
      "\n",
      "\n",
      "1\tI\tI\tPRON\tPRP\tCase=Nom|Number=Sing|Person=1|PronType=Prs\t4\tnsubj\t_\t_\n",
      "2\tam\tbe\tAUX\tVBP\tMood=Ind|Number=Sing|Person=1|Tense=Pres|VerbForm=Fin\t4\tcop\t_\t_\n",
      "3\tnot\tnot\tPART\tRB\t_\t4\tadvmod\t_\t_\n",
      "4\tpleased\tpleased\tADJ\tJJ\tDegree=Pos\t0\troot\t_\t_\n",
      "5\twith\twith\tADP\tIN\t_\t8\tcase\t_\t_\n",
      "6\tthe\tthe\tDET\tDT\tDefinite=Def|PronType=Art\t8\tdet\t_\t_\n",
      "7\tpicture\tpicture\tNOUN\tNN\tNumber=Sing\t8\tcompound\t_\t_\n",
      "8\tquality\tquality\tNOUN\tNN\tNumber=Sing\t4\tobl\t_\t_\n",
      "9\t.\t.\tPUNCT\t.\t_\t4\tpunct\t_\t_\n",
      "\n",
      "\n"
     ]
    },
    {
     "name": "stderr",
     "output_type": "stream",
     "text": [
      "/pytorch/aten/src/ATen/native/TensorAdvancedIndexing.cpp:573: UserWarning: masked_fill_ received a mask with dtype torch.uint8, this behavior is now deprecated,please use a mask with dtype torch.bool instead.\n",
      "/pytorch/aten/src/ATen/native/TensorAdvancedIndexing.cpp:573: UserWarning: masked_fill_ received a mask with dtype torch.uint8, this behavior is now deprecated,please use a mask with dtype torch.bool instead.\n"
     ]
    }
   ],
   "source": [
    "samples = ['The photo quality is amazing.', 'I am not pleased with the picture quality.']\n",
    "for sample in samples:\n",
    "    doc = nlp(sample)\n",
    "    print(doc.conll_file.conll_as_string())"
   ]
  },
  {
   "cell_type": "code",
   "execution_count": 10,
   "metadata": {
    "collapsed": false
   },
   "outputs": [
    {
     "name": "stdout",
     "output_type": "stream",
     "text": [
      "there there EX expl 2\n",
      "are be VBP root 0\n",
      "a a DT det 5\n",
      "couple couple NN compound 5\n",
      "things thing NNS nsubj 2\n",
      "i i PRP nsubj 9\n",
      "did do VBD aux 9\n",
      "nt not RB advmod 9\n",
      "like like VB acl:relcl 5\n",
      "though though RB advmod 9\n",
      "but but CC cc 12\n",
      "nothing nothing NN conj 2\n",
      "serious serious JJ amod 12\n",
      ": : : punct 2\n",
      "a a DT det 2\n",
      "little little JJ obl:npmod 3\n",
      "larger larger JJR advmod 13\n",
      "than than IN case 6\n",
      "other other JJ amod 6\n",
      "mp3s mp3 NNS obl 3\n",
      "but but CC cc 9\n",
      "still still RB advmod 9\n",
      "light light JJ conj 6\n",
      ", , , punct 13\n",
      "the the DT det 12\n",
      "software software NN nsubj 13\n",
      "takes take VBZ root 0\n",
      "some some DT det 15\n",
      "time time NN obj 13\n",
      "to to TO mark 18\n",
      "get get VB aux:pass 18\n",
      "used use VBN acl 15\n",
      "to to IN obl 18\n",
      "( ( -LRB- punct 25\n",
      "maybe maybe RB advmod 25\n",
      "10 10 CD nummod 25\n",
      "- - SYM case 24\n",
      "15 15 CD nmod 22\n",
      "mins min NNS obl 18\n",
      ") ) -RRB- punct 25\n",
      ", , , punct 34\n",
      "and and CC cc 34\n",
      "this this DT det 30\n",
      "thing thing NN nsubj:pass 34\n",
      "would would MD aux 34\n",
      "definitely definitely RB advmod 34\n",
      "be be VB aux:pass 34\n",
      "destroyed destroy VBN conj 13\n",
      "with with IN case 37\n",
      "one one CD nummod 37\n",
      "fall fall NN obl 34\n",
      ". . . punct 13\n"
     ]
    }
   ],
   "source": [
    "for j in range(len(doc.sentences)):\n",
    "    parsed_doc = doc.sentences[j].dependencies\n",
    "    for i in range(len(parsed_doc)):\n",
    "        print(parsed_doc[i][2].text, end=' ')\n",
    "        print(parsed_doc[i][2].lemma, end=' ')\n",
    "        print(parsed_doc[i][2].xpos, end=' ')\n",
    "        print(parsed_doc[i][2].dependency_relation, end=' ')\n",
    "        print(parsed_doc[i][2].governor)"
   ]
  },
  {
   "cell_type": "code",
   "execution_count": 54,
   "metadata": {
    "collapsed": false
   },
   "outputs": [
    {
     "data": {
      "text/plain": [
       "'mb'"
      ]
     },
     "execution_count": 54,
     "metadata": {},
     "output_type": "execute_result"
    }
   ],
   "source": [
    "import re\n",
    "number_pattern = re.compile('\\d+')\n",
    "number_pattern.sub('', '8mb')"
   ]
  },
  {
   "cell_type": "code",
   "execution_count": 66,
   "metadata": {
    "collapsed": false
   },
   "outputs": [
    {
     "name": "stdout",
     "output_type": "stream",
     "text": [
      "1\ti\ti\tPRON\tPRP\tCase=Nom|Number=Sing|Person=1|PronType=Prs\t0\troot\t_\t_\n",
      "\n",
      "1\tPod\tpod\tPROPN\tNNP\tNumber=Sing\t7\tnsubj\t_\t_\n",
      "2\tis\tbe\tAUX\tVBZ\tMood=Ind|Number=Sing|Person=3|Tense=Pres|VerbForm=Fin\t7\tcop\t_\t_\n",
      "3\tthe\tthe\tDET\tDT\tDefinite=Def|PronType=Art\t7\tdet\t_\t_\n",
      "4\tbest\tbest\tADJ\tJJS\tDegree=Sup\t7\tamod\t_\t_\n",
      "5\tmp\tmp\tNOUN\tNN\tNumber=Sing\t7\tcompound\t_\t_\n",
      "6\t3\t3\tNUM\tCD\tNumType=Card\t5\tnummod\t_\t_\n",
      "7\tplayer\tplayer\tNOUN\tNN\tNumber=Sing\t0\troot\t_\t_\n",
      "\n",
      "\n",
      "i i PRP root 0\n"
     ]
    },
    {
     "name": "stderr",
     "output_type": "stream",
     "text": [
      "/pytorch/aten/src/ATen/native/TensorAdvancedIndexing.cpp:573: UserWarning: masked_fill_ received a mask with dtype torch.uint8, this behavior is now deprecated,please use a mask with dtype torch.bool instead.\n"
     ]
    }
   ],
   "source": [
    "sample = 'iPod is the best mp3 player'\n",
    "doc = nlp(sample)\n",
    "print(doc.conll_file.conll_as_string())\n",
    "parsed_doc = doc.sentences[0].dependencies\n",
    "for i in range(len(parsed_doc)):\n",
    "    print(parsed_doc[i][2].text, end=' ')\n",
    "    print(parsed_doc[i][2].lemma, end=' ')\n",
    "    print(parsed_doc[i][2].xpos, end=' ')\n",
    "    print(parsed_doc[i][2].dependency_relation, end=' ')\n",
    "    print(parsed_doc[i][2].governor)"
   ]
  },
  {
   "cell_type": "code",
   "execution_count": 2,
   "metadata": {
    "collapsed": false
   },
   "outputs": [
    {
     "name": "stdout",
     "output_type": "stream",
     "text": [
      "Use device: cpu\n",
      "---\n",
      "Loading: tokenize\n",
      "With settings: \n",
      "{'model_path': '/home/dmlab/stanfordnlp_resources/en_ewt_models/en_ewt_tokenizer.pt', 'lang': 'en', 'shorthand': 'en_ewt', 'mode': 'predict'}\n",
      "---\n",
      "Loading: pos\n",
      "With settings: \n",
      "{'model_path': '/home/dmlab/stanfordnlp_resources/en_ewt_models/en_ewt_tagger.pt', 'pretrain_path': '/home/dmlab/stanfordnlp_resources/en_ewt_models/en_ewt.pretrain.pt', 'lang': 'en', 'shorthand': 'en_ewt', 'mode': 'predict'}\n",
      "---\n",
      "Loading: lemma\n",
      "With settings: \n",
      "{'model_path': '/home/dmlab/stanfordnlp_resources/en_ewt_models/en_ewt_lemmatizer.pt', 'lang': 'en', 'shorthand': 'en_ewt', 'mode': 'predict'}\n",
      "Building an attentional Seq2Seq model...\n",
      "Using a Bi-LSTM encoder\n",
      "Using soft attention for LSTM.\n",
      "Finetune all embeddings.\n",
      "[Running seq2seq lemmatizer with edit classifier]\n",
      "---\n",
      "Loading: depparse\n",
      "With settings: \n",
      "{'model_path': '/home/dmlab/stanfordnlp_resources/en_ewt_models/en_ewt_parser.pt', 'pretrain_path': '/home/dmlab/stanfordnlp_resources/en_ewt_models/en_ewt.pretrain.pt', 'lang': 'en', 'shorthand': 'en_ewt', 'mode': 'predict'}\n",
      "Done loading processors!\n",
      "---\n",
      "1\tThe\tthe\tDET\tDT\tDefinite=Def|PronType=Art\t2\tdet\t_\t_\n",
      "2\tphone\tphone\tNOUN\tNN\tNumber=Sing\t3\tnsubj\t_\t_\n",
      "3\thas\thave\tVERB\tVBZ\tMood=Ind|Number=Sing|Person=3|Tense=Pres|VerbForm=Fin\t0\troot\t_\t_\n",
      "4\ta\ta\tDET\tDT\tDefinite=Ind|PronType=Art\t6\tdet\t_\t_\n",
      "5\tgood\tgood\tADJ\tJJ\tDegree=Pos\t6\tamod\t_\t_\n",
      "6\tscreen\tscreen\tNOUN\tNN\tNumber=Sing\t3\tobj\t_\t_\n",
      "7\t.\t.\tPUNCT\t.\t_\t3\tpunct\t_\t_\n",
      "\n",
      "\n",
      "1\tI\tI\tPRON\tPRP\tCase=Nom|Number=Sing|Person=1|PronType=Prs\t4\tnsubj\t_\t_\n",
      "2\tam\tbe\tAUX\tVBP\tMood=Ind|Number=Sing|Person=1|Tense=Pres|VerbForm=Fin\t4\tcop\t_\t_\n",
      "3\tnot\tnot\tPART\tRB\t_\t4\tadvmod\t_\t_\n",
      "4\tpleased\tpleased\tADJ\tJJ\tDegree=Pos\t0\troot\t_\t_\n",
      "5\twith\twith\tADP\tIN\t_\t8\tcase\t_\t_\n",
      "6\tthe\tthe\tDET\tDT\tDefinite=Def|PronType=Art\t8\tdet\t_\t_\n",
      "7\tpicture\tpicture\tNOUN\tNN\tNumber=Sing\t8\tcompound\t_\t_\n",
      "8\tquality\tquality\tNOUN\tNN\tNumber=Sing\t4\tobl\t_\t_\n",
      "9\t.\t.\tPUNCT\t.\t_\t4\tpunct\t_\t_\n",
      "\n",
      "\n",
      "1\tThe\tthe\tDET\tDT\tDefinite=Def|PronType=Art\t3\tdet\t_\t_\n",
      "2\tphoto\tphoto\tNOUN\tNN\tNumber=Sing\t3\tcompound\t_\t_\n",
      "3\tquality\tquality\tNOUN\tNN\tNumber=Sing\t5\tnsubj\t_\t_\n",
      "4\tis\tbe\tAUX\tVBZ\tMood=Ind|Number=Sing|Person=3|Tense=Pres|VerbForm=Fin\t5\tcop\t_\t_\n",
      "5\tamazing\tamazing\tADJ\tJJ\tDegree=Pos\t0\troot\t_\t_\n",
      "6\t.\t.\tPUNCT\t.\t_\t5\tpunct\t_\t_\n",
      "\n",
      "\n",
      "1\tThe\tthe\tDET\tDT\tDefinite=Def|PronType=Art\t2\tdet\t_\t_\n",
      "2\tsoftware\tsoftware\tNOUN\tNN\tNumber=Sing\t8\tnsubj\t_\t_\n",
      "3\tof\tof\tADP\tIN\t_\t5\tcase\t_\t_\n",
      "4\tthe\tthe\tDET\tDT\tDefinite=Def|PronType=Art\t5\tdet\t_\t_\n",
      "5\tplayer\tplayer\tNOUN\tNN\tNumber=Sing\t2\tnmod\t_\t_\n",
      "6\tis\tbe\tAUX\tVBZ\tMood=Ind|Number=Sing|Person=3|Tense=Pres|VerbForm=Fin\t8\tcop\t_\t_\n",
      "7\tnot\tnot\tPART\tRB\t_\t8\tadvmod\t_\t_\n",
      "8\teasy\teasy\tADJ\tJJ\tDegree=Pos\t0\troot\t_\t_\n",
      "9\t-\t-\tPUNCT\tHYPH\t_\t8\tpunct\t_\t_\n",
      "10\tto\tto\tADP\tIN\t_\t12\tcase\t_\t_\n",
      "11\t-\t-\tPUNCT\tHYPH\t_\t12\tpunct\t_\t_\n",
      "12\tuse\tuse\tVERB\tVB\tVerbForm=Inf\t8\tconj\t_\t_\n",
      "13\t.\t.\tPUNCT\t.\t_\t8\tpunct\t_\t_\n",
      "\n",
      "\n"
     ]
    },
    {
     "name": "stderr",
     "output_type": "stream",
     "text": [
      "/pytorch/aten/src/ATen/native/TensorAdvancedIndexing.cpp:573: UserWarning: masked_fill_ received a mask with dtype torch.uint8, this behavior is now deprecated,please use a mask with dtype torch.bool instead.\n",
      "/pytorch/aten/src/ATen/native/TensorAdvancedIndexing.cpp:573: UserWarning: masked_fill_ received a mask with dtype torch.uint8, this behavior is now deprecated,please use a mask with dtype torch.bool instead.\n",
      "/pytorch/aten/src/ATen/native/TensorAdvancedIndexing.cpp:573: UserWarning: masked_fill_ received a mask with dtype torch.uint8, this behavior is now deprecated,please use a mask with dtype torch.bool instead.\n",
      "/pytorch/aten/src/ATen/native/TensorAdvancedIndexing.cpp:573: UserWarning: masked_fill_ received a mask with dtype torch.uint8, this behavior is now deprecated,please use a mask with dtype torch.bool instead.\n"
     ]
    }
   ],
   "source": [
    "import stanfordnlp\n",
    "nlp = stanfordnlp.Pipeline()\n",
    "\n",
    "samples = ['The phone has a good screen.', 'I am not pleased with the picture quality.', 'The photo quality is amazing.', 'The software of the player is not easy-to-use.']\n",
    "for sample in samples:\n",
    "    doc = nlp(sample)\n",
    "    print(doc.conll_file.conll_as_string())"
   ]
  },
  {
   "cell_type": "code",
   "execution_count": 6,
   "metadata": {
    "collapsed": false
   },
   "outputs": [
    {
     "name": "stdout",
     "output_type": "stream",
     "text": [
      "1\tThe\tthe\tDET\tDT\tDefinite=Def|PronType=Art\t2\tdet\t_\t_\n",
      "2\tsoftware\tsoftware\tNOUN\tNN\tNumber=Sing\t8\tnsubj\t_\t_\n",
      "3\tof\tof\tADP\tIN\t_\t5\tcase\t_\t_\n",
      "4\tthe\tthe\tDET\tDT\tDefinite=Def|PronType=Art\t5\tdet\t_\t_\n",
      "5\tplayer\tplayer\tNOUN\tNN\tNumber=Sing\t2\tnmod\t_\t_\n",
      "6\tis\tbe\tAUX\tVBZ\tMood=Ind|Number=Sing|Person=3|Tense=Pres|VerbForm=Fin\t8\tcop\t_\t_\n",
      "7\tnot\tnot\tPART\tRB\t_\t8\tadvmod\t_\t_\n",
      "8\teasy\teasy\tADJ\tJJ\tDegree=Pos\t0\troot\t_\t_\n",
      "9\t-\t-\tPUNCT\tHYPH\t_\t8\tpunct\t_\t_\n",
      "10\tto\tto\tADP\tIN\t_\t12\tcase\t_\t_\n",
      "11\t-\t-\tPUNCT\tHYPH\t_\t12\tpunct\t_\t_\n",
      "12\tuse\tuse\tVERB\tVB\tVerbForm=Inf\t8\tconj\t_\t_\n",
      "13\t.\t.\tPUNCT\t.\t_\t8\tpunct\t_\t_\n",
      "\n",
      "\n",
      "1\tThis\tthis\tPRON\tDT\tNumber=Sing|PronType=Dem\t5\tnsubj\t_\t_\n",
      "2\tis\tbe\tAUX\tVBZ\tMood=Ind|Number=Sing|Person=3|Tense=Pres|VerbForm=Fin\t5\tcop\t_\t_\n",
      "3\tall\tall\tADV\tRB\t_\t5\tadvmod\t_\t_\n",
      "4\t-\t-\tPUNCT\tHYPH\t_\t5\tpunct\t_\t_\n",
      "5\taround\taround\tADV\tRB\t_\t0\troot\t_\t_\n",
      "6\t.\t.\tPUNCT\t.\t_\t5\tpunct\t_\t_\n",
      "\n",
      "\n",
      "1\tThis\tthis\tPRON\tDT\tNumber=Sing|PronType=Dem\t5\tnsubj\t_\t_\n",
      "2\tis\tbe\tAUX\tVBZ\tMood=Ind|Number=Sing|Person=3|Tense=Pres|VerbForm=Fin\t5\tcop\t_\t_\n",
      "3\tbrand\tbrand\tNOUN\tNN\tNumber=Sing\t5\tobl:npmod\t_\t_\n",
      "4\t-\t-\tPUNCT\tHYPH\t_\t5\tpunct\t_\t_\n",
      "5\tnew\tnew\tADJ\tJJ\tDegree=Pos\t0\troot\t_\t_\n",
      "6\t.\t.\tPUNCT\t.\t_\t5\tpunct\t_\t_\n",
      "\n",
      "\n",
      "1\tThis\tthis\tPRON\tDT\tNumber=Sing|PronType=Dem\t3\tnsubj\t_\t_\n",
      "2\tis\tbe\tAUX\tVBZ\tMood=Ind|Number=Sing|Person=3|Tense=Pres|VerbForm=Fin\t3\tcop\t_\t_\n",
      "3\teye-catching\teye-catch\tADJ\tJJ\tDegree=Pos\t0\troot\t_\t_\n",
      "4\t.\t.\tPUNCT\t.\t_\t3\tpunct\t_\t_\n",
      "\n",
      "\n"
     ]
    },
    {
     "name": "stderr",
     "output_type": "stream",
     "text": [
      "/pytorch/aten/src/ATen/native/TensorAdvancedIndexing.cpp:573: UserWarning: masked_fill_ received a mask with dtype torch.uint8, this behavior is now deprecated,please use a mask with dtype torch.bool instead.\n",
      "/pytorch/aten/src/ATen/native/TensorAdvancedIndexing.cpp:573: UserWarning: masked_fill_ received a mask with dtype torch.uint8, this behavior is now deprecated,please use a mask with dtype torch.bool instead.\n",
      "/pytorch/aten/src/ATen/native/TensorAdvancedIndexing.cpp:573: UserWarning: masked_fill_ received a mask with dtype torch.uint8, this behavior is now deprecated,please use a mask with dtype torch.bool instead.\n",
      "/pytorch/aten/src/ATen/native/TensorAdvancedIndexing.cpp:573: UserWarning: masked_fill_ received a mask with dtype torch.uint8, this behavior is now deprecated,please use a mask with dtype torch.bool instead.\n"
     ]
    }
   ],
   "source": [
    "samples = ['The software of the player is not easy-to-use.', 'This is all-around.', 'This is brand-new.', 'This is eye-catching.']\n",
    "for sample in samples:\n",
    "    doc = nlp(sample)\n",
    "    print(doc.conll_file.conll_as_string())"
   ]
  }
 ],
 "metadata": {
  "kernelspec": {
   "display_name": "Python 3",
   "language": "python",
   "name": "python3"
  },
  "language_info": {
   "codemirror_mode": {
    "name": "ipython",
    "version": 3
   },
   "file_extension": ".py",
   "mimetype": "text/x-python",
   "name": "python",
   "nbconvert_exporter": "python",
   "pygments_lexer": "ipython3",
   "version": "3.6.9"
  }
 },
 "nbformat": 4,
 "nbformat_minor": 2
}
