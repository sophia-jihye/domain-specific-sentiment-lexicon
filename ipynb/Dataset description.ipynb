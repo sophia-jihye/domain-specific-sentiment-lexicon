{
 "cells": [
  {
   "cell_type": "code",
   "execution_count": 2,
   "metadata": {
    "collapsed": false
   },
   "outputs": [],
   "source": [
    "import os, pickle"
   ]
  },
  {
   "cell_type": "code",
   "execution_count": 3,
   "metadata": {
    "collapsed": false
   },
   "outputs": [
    {
     "name": "stdout",
     "output_type": "stream",
     "text": [
      "domain\t#of sentences\t#of aspects\n",
      "Cell phone\t540\t268\n",
      "domain\t#of sentences\t#of aspects\n",
      "MP3 player\t1690\t622\n",
      "domain\t#of sentences\t#of aspects\n",
      "DVD player\t730\t286\n"
     ]
    }
   ],
   "source": [
    "domains = ['Cell phone', 'MP3 player', 'DVD player']\n",
    "for domain in domains:\n",
    "    filepath = os.path.join(os.path.dirname(os.getcwd()), 'output', '20200726-18-15-32', 'save', '[%s]raw_df.pkl'%domain)\n",
    "    with open(filepath, 'rb') as f:\n",
    "        df = pickle.load(f)\n",
    "    print('domain\\t#of sentences\\t#of aspects')\n",
    "    for domain in df['domain'].unique():\n",
    "        print('%s\\t%d\\t%d' % (domain, len(df[df['domain']==domain]), len([item for sublist in df[df['domain']==domain]['targets'] for item in sublist])))"
   ]
  },
  {
   "cell_type": "code",
   "execution_count": 4,
   "metadata": {
    "collapsed": false
   },
   "outputs": [
    {
     "name": "stdout",
     "output_type": "stream",
     "text": [
      "domain\t#of sentences\t#of aspects\n",
      "Digital camera\t943\t365\n"
     ]
    }
   ],
   "source": [
    "domains = ['Digital camera']\n",
    "for domain in domains:\n",
    "    filepath = os.path.join(os.path.dirname(os.getcwd()), 'output', '20200805-13-24-52', 'save', '[%s]raw_df.pkl'%domain)\n",
    "    with open(filepath, 'rb') as f:\n",
    "        df = pickle.load(f)\n",
    "    print('domain\\t#of sentences\\t#of aspects')\n",
    "    for domain in df['domain'].unique():\n",
    "        print('%s\\t%d\\t%d' % (domain, len(df[df['domain']==domain]), len([item for sublist in df[df['domain']==domain]['targets'] for item in sublist])))"
   ]
  }
 ],
 "metadata": {
  "kernelspec": {
   "display_name": "Python 3",
   "language": "python",
   "name": "python3"
  },
  "language_info": {
   "codemirror_mode": {
    "name": "ipython",
    "version": 3
   },
   "file_extension": ".py",
   "mimetype": "text/x-python",
   "name": "python",
   "nbconvert_exporter": "python",
   "pygments_lexer": "ipython3",
   "version": "3.6.9"
  }
 },
 "nbformat": 4,
 "nbformat_minor": 2
}
