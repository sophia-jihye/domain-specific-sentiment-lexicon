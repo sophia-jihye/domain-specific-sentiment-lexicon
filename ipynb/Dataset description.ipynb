{
 "cells": [
  {
   "cell_type": "code",
   "execution_count": 1,
   "metadata": {
    "collapsed": false
   },
   "outputs": [],
   "source": [
    "import os, pickle"
   ]
  },
  {
   "cell_type": "code",
   "execution_count": 2,
   "metadata": {
    "collapsed": false
   },
   "outputs": [
    {
     "data": {
      "text/html": [
       "<div>\n",
       "<style scoped>\n",
       "    .dataframe tbody tr th:only-of-type {\n",
       "        vertical-align: middle;\n",
       "    }\n",
       "\n",
       "    .dataframe tbody tr th {\n",
       "        vertical-align: top;\n",
       "    }\n",
       "\n",
       "    .dataframe thead th {\n",
       "        text-align: right;\n",
       "    }\n",
       "</style>\n",
       "<table border=\"1\" class=\"dataframe\">\n",
       "  <thead>\n",
       "    <tr style=\"text-align: right;\">\n",
       "      <th></th>\n",
       "      <th>content</th>\n",
       "      <th>raw_targets</th>\n",
       "      <th>filename</th>\n",
       "      <th>domain</th>\n",
       "      <th>opinion_words</th>\n",
       "      <th>doc</th>\n",
       "      <th>targets</th>\n",
       "    </tr>\n",
       "  </thead>\n",
       "  <tbody>\n",
       "    <tr>\n",
       "      <th>0</th>\n",
       "      <td>this is an edited review , now that i have had...</td>\n",
       "      <td>[]</td>\n",
       "      <td>Creative Labs Nomad Jukebox Zen Xtra 40GB</td>\n",
       "      <td>MP3 player</td>\n",
       "      <td>[]</td>\n",
       "      <td>&lt;stanfordnlp.pipeline.doc.Document object at 0...</td>\n",
       "      <td>[]</td>\n",
       "    </tr>\n",
       "    <tr>\n",
       "      <th>1</th>\n",
       "      <td>while , there are flaws with the machine , the...</td>\n",
       "      <td>[affordability]</td>\n",
       "      <td>Creative Labs Nomad Jukebox Zen Xtra 40GB</td>\n",
       "      <td>MP3 player</td>\n",
       "      <td>[flaws]</td>\n",
       "      <td>&lt;stanfordnlp.pipeline.doc.Document object at 0...</td>\n",
       "      <td>[affordability]</td>\n",
       "    </tr>\n",
       "    <tr>\n",
       "      <th>10</th>\n",
       "      <td>for me , i 'll save that cash for another purc...</td>\n",
       "      <td>[]</td>\n",
       "      <td>Creative Labs Nomad Jukebox Zen Xtra 40GB</td>\n",
       "      <td>MP3 player</td>\n",
       "      <td>[]</td>\n",
       "      <td>&lt;stanfordnlp.pipeline.doc.Document object at 0...</td>\n",
       "      <td>[]</td>\n",
       "    </tr>\n",
       "    <tr>\n",
       "      <th>100</th>\n",
       "      <td>the face-plate , which pops out for the batter...</td>\n",
       "      <td>[face plate]</td>\n",
       "      <td>Creative Labs Nomad Jukebox Zen Xtra 40GB</td>\n",
       "      <td>MP3 player</td>\n",
       "      <td>[]</td>\n",
       "      <td>&lt;stanfordnlp.pipeline.doc.Document object at 0...</td>\n",
       "      <td>[]</td>\n",
       "    </tr>\n",
       "    <tr>\n",
       "      <th>1000</th>\n",
       "      <td>after i reviewed the manual ( a pdf file inclu...</td>\n",
       "      <td>[]</td>\n",
       "      <td>Creative Labs Nomad Jukebox Zen Xtra 40GB</td>\n",
       "      <td>MP3 player</td>\n",
       "      <td>[problems, warned, better]</td>\n",
       "      <td>&lt;stanfordnlp.pipeline.doc.Document object at 0...</td>\n",
       "      <td>[]</td>\n",
       "    </tr>\n",
       "  </tbody>\n",
       "</table>\n",
       "</div>"
      ],
      "text/plain": [
       "                                                content      raw_targets  \\\n",
       "0     this is an edited review , now that i have had...               []   \n",
       "1     while , there are flaws with the machine , the...  [affordability]   \n",
       "10    for me , i 'll save that cash for another purc...               []   \n",
       "100   the face-plate , which pops out for the batter...     [face plate]   \n",
       "1000  after i reviewed the manual ( a pdf file inclu...               []   \n",
       "\n",
       "                                       filename      domain  \\\n",
       "0     Creative Labs Nomad Jukebox Zen Xtra 40GB  MP3 player   \n",
       "1     Creative Labs Nomad Jukebox Zen Xtra 40GB  MP3 player   \n",
       "10    Creative Labs Nomad Jukebox Zen Xtra 40GB  MP3 player   \n",
       "100   Creative Labs Nomad Jukebox Zen Xtra 40GB  MP3 player   \n",
       "1000  Creative Labs Nomad Jukebox Zen Xtra 40GB  MP3 player   \n",
       "\n",
       "                   opinion_words  \\\n",
       "0                             []   \n",
       "1                        [flaws]   \n",
       "10                            []   \n",
       "100                           []   \n",
       "1000  [problems, warned, better]   \n",
       "\n",
       "                                                    doc          targets  \n",
       "0     <stanfordnlp.pipeline.doc.Document object at 0...               []  \n",
       "1     <stanfordnlp.pipeline.doc.Document object at 0...  [affordability]  \n",
       "10    <stanfordnlp.pipeline.doc.Document object at 0...               []  \n",
       "100   <stanfordnlp.pipeline.doc.Document object at 0...               []  \n",
       "1000  <stanfordnlp.pipeline.doc.Document object at 0...               []  "
      ]
     },
     "execution_count": 2,
     "metadata": {},
     "output_type": "execute_result"
    }
   ],
   "source": [
    "filepath = os.path.join(os.path.dirname(os.getcwd()), 'output', 'preliminary', 'save', 'raw_df.pkl')\n",
    "with open(filepath, 'rb') as f:\n",
    "    df = pickle.load(f)\n",
    "df.head()"
   ]
  },
  {
   "cell_type": "code",
   "execution_count": 3,
   "metadata": {
    "collapsed": false
   },
   "outputs": [
    {
     "name": "stdout",
     "output_type": "stream",
     "text": [
      "domain\t#of sentences\t#of aspects\n",
      "MP3 player\t1690\t622\n",
      "DVD player\t730\t286\n",
      "Digital camera2\t346\t147\n",
      "Cell phone\t540\t268\n",
      "Digital camera1\t597\t218\n",
      "Wireless router\t877\t272\n",
      "Speaker\t689\t388\n",
      "Computer\t526\t313\n"
     ]
    }
   ],
   "source": [
    "print('domain\\t#of sentences\\t#of aspects')\n",
    "for domain in df['domain'].unique():\n",
    "    print('%s\\t%d\\t%d' % (domain, len(df[df['domain']==domain]), len([item for sublist in df[df['domain']==domain]['targets'] for item in sublist])))"
   ]
  }
 ],
 "metadata": {
  "kernelspec": {
   "display_name": "Python 3",
   "language": "python",
   "name": "python3"
  },
  "language_info": {
   "codemirror_mode": {
    "name": "ipython",
    "version": 3
   },
   "file_extension": ".py",
   "mimetype": "text/x-python",
   "name": "python",
   "nbconvert_exporter": "python",
   "pygments_lexer": "ipython3",
   "version": "3.6.9"
  }
 },
 "nbformat": 4,
 "nbformat_minor": 2
}
